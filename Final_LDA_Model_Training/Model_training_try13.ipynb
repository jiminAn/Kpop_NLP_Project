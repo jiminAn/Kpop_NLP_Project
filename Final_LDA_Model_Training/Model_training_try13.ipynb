{
 "cells": [
  {
   "cell_type": "code",
   "execution_count": 1,
   "metadata": {},
   "outputs": [],
   "source": [
    "import pandas as pd\n",
    "\n",
    "data=pd.read_csv('data_1126.tsv', sep='\\t', encoding = 'utf-8')"
   ]
  },
  {
   "cell_type": "code",
   "execution_count": 2,
   "metadata": {},
   "outputs": [
    {
     "data": {
      "text/html": [
       "<div>\n",
       "<style scoped>\n",
       "    .dataframe tbody tr th:only-of-type {\n",
       "        vertical-align: middle;\n",
       "    }\n",
       "\n",
       "    .dataframe tbody tr th {\n",
       "        vertical-align: top;\n",
       "    }\n",
       "\n",
       "    .dataframe thead th {\n",
       "        text-align: right;\n",
       "    }\n",
       "</style>\n",
       "<table border=\"1\" class=\"dataframe\">\n",
       "  <thead>\n",
       "    <tr style=\"text-align: right;\">\n",
       "      <th></th>\n",
       "      <th>년도</th>\n",
       "      <th>가수</th>\n",
       "      <th>제목</th>\n",
       "      <th>장르</th>\n",
       "      <th>가사</th>\n",
       "    </tr>\n",
       "  </thead>\n",
       "  <tbody>\n",
       "    <tr>\n",
       "      <th>0</th>\n",
       "      <td>19920000</td>\n",
       "      <td>잼</td>\n",
       "      <td>난 멈추지 않는다</td>\n",
       "      <td>댄스</td>\n",
       "      <td>['이제', '시작', '내겐', '시간', '때론', '상처', '좌절', '남아...</td>\n",
       "    </tr>\n",
       "    <tr>\n",
       "      <th>1</th>\n",
       "      <td>19920000</td>\n",
       "      <td>잼</td>\n",
       "      <td>우리 모두 사랑하자</td>\n",
       "      <td>댄스</td>\n",
       "      <td>['모두', '사랑', '우리', '젊다', '모두', '가볍다', '스텝', '그...</td>\n",
       "    </tr>\n",
       "    <tr>\n",
       "      <th>2</th>\n",
       "      <td>19920000</td>\n",
       "      <td>잼</td>\n",
       "      <td>이유</td>\n",
       "      <td>발라드</td>\n",
       "      <td>['어둠', '이제', '우리', '시간', '가슴속', '긴머리', '향기', '...</td>\n",
       "    </tr>\n",
       "    <tr>\n",
       "      <th>3</th>\n",
       "      <td>19920000</td>\n",
       "      <td>잼</td>\n",
       "      <td>18번가의 비밀</td>\n",
       "      <td>댄스</td>\n",
       "      <td>['끝없다', '어둠', '야릇하다', '느낌', '거리', '싸늘하다', '해지'...</td>\n",
       "    </tr>\n",
       "    <tr>\n",
       "      <th>4</th>\n",
       "      <td>19920000</td>\n",
       "      <td>잼</td>\n",
       "      <td>요즘 친구들</td>\n",
       "      <td>댄스</td>\n",
       "      <td>['요즘', '친구', '정말', '진정하다', '친구', '말로', '자기', '...</td>\n",
       "    </tr>\n",
       "  </tbody>\n",
       "</table>\n",
       "</div>"
      ],
      "text/plain": [
       "         년도 가수          제목   장르  \\\n",
       "0  19920000  잼   난 멈추지 않는다   댄스   \n",
       "1  19920000  잼  우리 모두 사랑하자   댄스   \n",
       "2  19920000  잼          이유  발라드   \n",
       "3  19920000  잼    18번가의 비밀   댄스   \n",
       "4  19920000  잼      요즘 친구들   댄스   \n",
       "\n",
       "                                                  가사  \n",
       "0  ['이제', '시작', '내겐', '시간', '때론', '상처', '좌절', '남아...  \n",
       "1  ['모두', '사랑', '우리', '젊다', '모두', '가볍다', '스텝', '그...  \n",
       "2  ['어둠', '이제', '우리', '시간', '가슴속', '긴머리', '향기', '...  \n",
       "3  ['끝없다', '어둠', '야릇하다', '느낌', '거리', '싸늘하다', '해지'...  \n",
       "4  ['요즘', '친구', '정말', '진정하다', '친구', '말로', '자기', '...  "
      ]
     },
     "execution_count": 2,
     "metadata": {},
     "output_type": "execute_result"
    }
   ],
   "source": [
    "data.head()"
   ]
  },
  {
   "cell_type": "code",
   "execution_count": 3,
   "metadata": {},
   "outputs": [
    {
     "data": {
      "text/plain": [
       "0       ['이제', '시작', '내겐', '시간', '때론', '상처', '좌절', '남아...\n",
       "1       ['모두', '사랑', '우리', '젊다', '모두', '가볍다', '스텝', '그...\n",
       "2       ['어둠', '이제', '우리', '시간', '가슴속', '긴머리', '향기', '...\n",
       "3       ['끝없다', '어둠', '야릇하다', '느낌', '거리', '싸늘하다', '해지'...\n",
       "4       ['요즘', '친구', '정말', '진정하다', '친구', '말로', '자기', '...\n",
       "                              ...                        \n",
       "5758    ['기억', '검다', '그림자', '주윌', '이별', '슬픔', '하얗다', '...\n",
       "5759    ['기적', '같다', '기적', '기적', '기적', '같다', '맴도', '수많...\n",
       "5760    ['누군가', '요람', '온기', '언제', '문득', '시간', '낯설다', '...\n",
       "5761    ['영원하다', '창문', '우릴', '매번', '아프다', '어차피', '상처',...\n",
       "5762    ['Trouble', '그렇다', '부리', 'yeah', 'lady', '말리',...\n",
       "Name: 가사, Length: 5763, dtype: object"
      ]
     },
     "execution_count": 3,
     "metadata": {},
     "output_type": "execute_result"
    }
   ],
   "source": [
    "lyrics=data['가사']\n",
    "lyrics"
   ]
  },
  {
   "cell_type": "code",
   "execution_count": 4,
   "metadata": {},
   "outputs": [
    {
     "name": "stderr",
     "output_type": "stream",
     "text": [
      "C:\\Users\\308_1\\anaconda3\\envs\\eunhoo\\lib\\site-packages\\ipykernel_launcher.py:2: SettingWithCopyWarning: \n",
      "A value is trying to be set on a copy of a slice from a DataFrame\n",
      "\n",
      "See the caveats in the documentation: https://pandas.pydata.org/pandas-docs/stable/user_guide/indexing.html#returning-a-view-versus-a-copy\n",
      "  \n",
      "C:\\Users\\308_1\\anaconda3\\envs\\eunhoo\\lib\\site-packages\\ipykernel_launcher.py:3: SettingWithCopyWarning: \n",
      "A value is trying to be set on a copy of a slice from a DataFrame\n",
      "\n",
      "See the caveats in the documentation: https://pandas.pydata.org/pandas-docs/stable/user_guide/indexing.html#returning-a-view-versus-a-copy\n",
      "  This is separate from the ipykernel package so we can avoid doing imports until\n",
      "C:\\Users\\308_1\\anaconda3\\envs\\eunhoo\\lib\\site-packages\\ipykernel_launcher.py:4: SettingWithCopyWarning: \n",
      "A value is trying to be set on a copy of a slice from a DataFrame\n",
      "\n",
      "See the caveats in the documentation: https://pandas.pydata.org/pandas-docs/stable/user_guide/indexing.html#returning-a-view-versus-a-copy\n",
      "  after removing the cwd from sys.path.\n",
      "C:\\Users\\308_1\\anaconda3\\envs\\eunhoo\\lib\\site-packages\\ipykernel_launcher.py:5: SettingWithCopyWarning: \n",
      "A value is trying to be set on a copy of a slice from a DataFrame\n",
      "\n",
      "See the caveats in the documentation: https://pandas.pydata.org/pandas-docs/stable/user_guide/indexing.html#returning-a-view-versus-a-copy\n",
      "  \"\"\"\n",
      "C:\\Users\\308_1\\anaconda3\\envs\\eunhoo\\lib\\site-packages\\ipykernel_launcher.py:6: SettingWithCopyWarning: \n",
      "A value is trying to be set on a copy of a slice from a DataFrame\n",
      "\n",
      "See the caveats in the documentation: https://pandas.pydata.org/pandas-docs/stable/user_guide/indexing.html#returning-a-view-versus-a-copy\n",
      "  \n"
     ]
    }
   ],
   "source": [
    "for i in range(len(lyrics)):\n",
    "    lyrics[i]=lyrics[i].replace(\"'\",\"\")\n",
    "    lyrics[i]=lyrics[i].replace(\"[\",\"\")\n",
    "    lyrics[i]=lyrics[i].replace(\"]\",\"\")\n",
    "    lyrics[i]=lyrics[i].replace(\" \",\"\")\n",
    "    lyrics[i]=lyrics[i].replace(\",\",\" \")"
   ]
  },
  {
   "cell_type": "code",
   "execution_count": 5,
   "metadata": {},
   "outputs": [
    {
     "data": {
      "text/plain": [
       "0       이제 시작 내겐 시간 때론 상처 좌절 남아 후회 지금 신문 얘기 우리 이제 시작 내...\n",
       "1       모두 사랑 우리 젊다 모두 가볍다 스텝 그대 아무렇다 거리 사람 시선 나름 연출 자...\n",
       "2       어둠 이제 우리 시간 가슴속 긴머리 향기 잠시 취해 어둠 얼마나 시간 애처롭다 이유...\n",
       "3       끝없다 어둠 야릇하다 느낌 거리 싸늘하다 해지 바람 어깨 멀리 그림자 모습 아무렇다...\n",
       "4       요즘 친구 정말 진정하다 친구 말로 자기 그게 다인 생각 좋다 얘기 친구 자유롭다 ...\n",
       "                              ...                        \n",
       "5758    기억 검다 그림자 주윌 이별 슬픔 하얗다 안개 문득 숨쉬기 힘들다 대체 낯설다 사진...\n",
       "5759    기적 같다 기적 기적 기적 같다 맴도 수많다 phantom Phantom phant...\n",
       "5760    누군가 요람 온기 언제 문득 시간 낯설다 Dawn eye Keep alive 사이 ...\n",
       "5761    영원하다 창문 우릴 매번 아프다 어차피 상처 성인 미워하다 끝장 보기 아픔 아마 잠...\n",
       "5762    Trouble 그렇다 부리 yeah lady 말리 불편하다 사랑 원하다 평화 편하다...\n",
       "Name: 가사, Length: 5763, dtype: object"
      ]
     },
     "execution_count": 5,
     "metadata": {},
     "output_type": "execute_result"
    }
   ],
   "source": [
    "lyrics"
   ]
  },
  {
   "cell_type": "code",
   "execution_count": 6,
   "metadata": {},
   "outputs": [
    {
     "name": "stderr",
     "output_type": "stream",
     "text": [
      "[nltk_data] Downloading package punkt to\n",
      "[nltk_data]     C:\\Users\\308_1\\AppData\\Roaming\\nltk_data...\n",
      "[nltk_data]   Package punkt is already up-to-date!\n",
      "[nltk_data] Downloading package stopwords to\n",
      "[nltk_data]     C:\\Users\\308_1\\AppData\\Roaming\\nltk_data...\n",
      "[nltk_data]   Package stopwords is already up-to-date!\n"
     ]
    },
    {
     "data": {
      "text/plain": [
       "True"
      ]
     },
     "execution_count": 6,
     "metadata": {},
     "output_type": "execute_result"
    }
   ],
   "source": [
    "import nltk                  \n",
    "from nltk import word_tokenize\n",
    "from nltk.corpus import stopwords\n",
    "nltk.download('punkt')\n",
    "nltk.download('stopwords')"
   ]
  },
  {
   "cell_type": "code",
   "execution_count": 7,
   "metadata": {},
   "outputs": [],
   "source": [
    "token_lyrics=[]\n",
    "for i in range(0,len(lyrics)):\n",
    "  token=nltk.word_tokenize(lyrics[i].lower())\n",
    "  token_lyrics.append(token)"
   ]
  },
  {
   "cell_type": "code",
   "execution_count": 8,
   "metadata": {},
   "outputs": [],
   "source": [
    "data['가사']=token_lyrics"
   ]
  },
  {
   "cell_type": "code",
   "execution_count": 13,
   "metadata": {},
   "outputs": [],
   "source": [
    "stopwords_eng=set(stopwords.words('english')) #nltk 불용어 목록\n",
    "\n",
    "stopwords_eng.update([\"oh\",\"la\",\"hey\",\"yeah\",\"woo\",\"ah\",\"na\",\"ye\"\n",
    "                      ,\"im\",\"so\",\"ooh\",\"uh\",\"yo\",\"na\",\"wow\",\"hoo\",\"eh\",\"nt\",\"baby\",\"babi\",\n",
    "                      \"ya\",\"du\",\"ha\",\"du\",\n",
    "                      \"da\",\"no\",\"bo\",\"yeh\",\"wuh\",\"tu\",\"huh\",\"mr\",\"supa\",\"dupa\",\"who\",\"wow\",\"tic\",\"tok\",\"really\",\"more\",\"zam\",\"phantom\"])\n",
    "\n",
    "data['가사']=data['가사'].apply(lambda list: [x for x in list if x not in stopwords_eng])"
   ]
  },
  {
   "cell_type": "code",
   "execution_count": 14,
   "metadata": {},
   "outputs": [
    {
     "data": {
      "text/html": [
       "<div>\n",
       "<style scoped>\n",
       "    .dataframe tbody tr th:only-of-type {\n",
       "        vertical-align: middle;\n",
       "    }\n",
       "\n",
       "    .dataframe tbody tr th {\n",
       "        vertical-align: top;\n",
       "    }\n",
       "\n",
       "    .dataframe thead th {\n",
       "        text-align: right;\n",
       "    }\n",
       "</style>\n",
       "<table border=\"1\" class=\"dataframe\">\n",
       "  <thead>\n",
       "    <tr style=\"text-align: right;\">\n",
       "      <th></th>\n",
       "      <th>word</th>\n",
       "    </tr>\n",
       "  </thead>\n",
       "  <tbody>\n",
       "    <tr>\n",
       "      <th>0</th>\n",
       "      <td>아</td>\n",
       "    </tr>\n",
       "    <tr>\n",
       "      <th>1</th>\n",
       "      <td>워</td>\n",
       "    </tr>\n",
       "    <tr>\n",
       "      <th>2</th>\n",
       "      <td>휴</td>\n",
       "    </tr>\n",
       "    <tr>\n",
       "      <th>3</th>\n",
       "      <td>아이구</td>\n",
       "    </tr>\n",
       "    <tr>\n",
       "      <th>4</th>\n",
       "      <td>아이쿠</td>\n",
       "    </tr>\n",
       "    <tr>\n",
       "      <th>...</th>\n",
       "      <td>...</td>\n",
       "    </tr>\n",
       "    <tr>\n",
       "      <th>671</th>\n",
       "      <td>일곱</td>\n",
       "    </tr>\n",
       "    <tr>\n",
       "      <th>672</th>\n",
       "      <td>여덟</td>\n",
       "    </tr>\n",
       "    <tr>\n",
       "      <th>673</th>\n",
       "      <td>아홉</td>\n",
       "    </tr>\n",
       "    <tr>\n",
       "      <th>674</th>\n",
       "      <td>령</td>\n",
       "    </tr>\n",
       "    <tr>\n",
       "      <th>675</th>\n",
       "      <td>영</td>\n",
       "    </tr>\n",
       "  </tbody>\n",
       "</table>\n",
       "<p>676 rows × 1 columns</p>\n",
       "</div>"
      ],
      "text/plain": [
       "    word\n",
       "0      아\n",
       "1      워\n",
       "2      휴\n",
       "3    아이구\n",
       "4    아이쿠\n",
       "..   ...\n",
       "671   일곱\n",
       "672   여덟\n",
       "673   아홉\n",
       "674    령\n",
       "675    영\n",
       "\n",
       "[676 rows x 1 columns]"
      ]
     },
     "execution_count": 14,
     "metadata": {},
     "output_type": "execute_result"
    }
   ],
   "source": [
    "word_kor=pd.read_csv('../한국어불용어.txt', encoding = 'utf-8',names=['word'])\n",
    "word_kor"
   ]
  },
  {
   "cell_type": "code",
   "execution_count": 15,
   "metadata": {},
   "outputs": [],
   "source": [
    "stopword_kor=word_kor['word']\n",
    "stopwords_kor=set(stopword_kor)\n",
    "stopwords_kor.update([u\"나\",u\"너\",u\"우리\",u\"넌\",u\"내\",u\"난\",u\"날\",u\"네\",u\"널\",u\"말\",u\"그\",u\"그녀\",u\"그대\",u\"왜\",u\"와\",u\"워\",u\"이\",u\"수\",u\"것\",u\"걸\",u\"더\",u\"세\",u\"듯\",u\"건\",u\"나빌레라\",u\"난나\",u\"라라라라\",u\"나빌레\",u\"나나\",u\"어어어어\",u\"이나\",u\"있다\",u\"없다\",u\"뚜뚜루\",u\"겨우\",u\"다만\",u\"슈비\",u\"비답\",u\"아하\",u\"그렇다\",u\"아니다\",u\"이렇다\",u\"어떻다\"])\n",
    "\n",
    "data['가사']=data['가사'].apply(lambda list: [x for x in list if x not in stopwords_kor])"
   ]
  },
  {
   "cell_type": "code",
   "execution_count": 16,
   "metadata": {},
   "outputs": [
    {
     "data": {
      "text/html": [
       "<div>\n",
       "<style scoped>\n",
       "    .dataframe tbody tr th:only-of-type {\n",
       "        vertical-align: middle;\n",
       "    }\n",
       "\n",
       "    .dataframe tbody tr th {\n",
       "        vertical-align: top;\n",
       "    }\n",
       "\n",
       "    .dataframe thead th {\n",
       "        text-align: right;\n",
       "    }\n",
       "</style>\n",
       "<table border=\"1\" class=\"dataframe\">\n",
       "  <thead>\n",
       "    <tr style=\"text-align: right;\">\n",
       "      <th></th>\n",
       "      <th>년도</th>\n",
       "      <th>가수</th>\n",
       "      <th>제목</th>\n",
       "      <th>장르</th>\n",
       "      <th>가사</th>\n",
       "    </tr>\n",
       "  </thead>\n",
       "  <tbody>\n",
       "    <tr>\n",
       "      <th>0</th>\n",
       "      <td>19920000</td>\n",
       "      <td>잼</td>\n",
       "      <td>난 멈추지 않는다</td>\n",
       "      <td>댄스</td>\n",
       "      <td>[이제, 시작, 내겐, 때론, 상처, 좌절, 남아, 후회, 지금, 신문, 얘기, 이...</td>\n",
       "    </tr>\n",
       "    <tr>\n",
       "      <th>1</th>\n",
       "      <td>19920000</td>\n",
       "      <td>잼</td>\n",
       "      <td>우리 모두 사랑하자</td>\n",
       "      <td>댄스</td>\n",
       "      <td>[사랑, 젊다, 가볍다, 스텝, 아무렇다, 거리, 사람, 시선, 나름, 연출, 자신...</td>\n",
       "    </tr>\n",
       "    <tr>\n",
       "      <th>2</th>\n",
       "      <td>19920000</td>\n",
       "      <td>잼</td>\n",
       "      <td>이유</td>\n",
       "      <td>발라드</td>\n",
       "      <td>[어둠, 이제, 가슴속, 긴머리, 향기, 취해, 어둠, 애처롭다, 이유, 사랑, 이...</td>\n",
       "    </tr>\n",
       "    <tr>\n",
       "      <th>3</th>\n",
       "      <td>19920000</td>\n",
       "      <td>잼</td>\n",
       "      <td>18번가의 비밀</td>\n",
       "      <td>댄스</td>\n",
       "      <td>[끝없다, 어둠, 야릇하다, 느낌, 거리, 싸늘하다, 해지, 바람, 어깨, 멀리, ...</td>\n",
       "    </tr>\n",
       "    <tr>\n",
       "      <th>4</th>\n",
       "      <td>19920000</td>\n",
       "      <td>잼</td>\n",
       "      <td>요즘 친구들</td>\n",
       "      <td>댄스</td>\n",
       "      <td>[요즘, 친구, 정말, 진정하다, 친구, 말로, 그게, 다인, 생각, 좋다, 얘기,...</td>\n",
       "    </tr>\n",
       "    <tr>\n",
       "      <th>...</th>\n",
       "      <td>...</td>\n",
       "      <td>...</td>\n",
       "      <td>...</td>\n",
       "      <td>...</td>\n",
       "      <td>...</td>\n",
       "    </tr>\n",
       "    <tr>\n",
       "      <th>5758</th>\n",
       "      <td>20200924</td>\n",
       "      <td>업텐션 (UP10TION)</td>\n",
       "      <td>니가 보여 (Waiting For You)</td>\n",
       "      <td>R&amp;B/Soul</td>\n",
       "      <td>[기억, 검다, 그림자, 주윌, 이별, 슬픔, 하얗다, 안개, 문득, 숨쉬기, 힘들...</td>\n",
       "    </tr>\n",
       "    <tr>\n",
       "      <th>5759</th>\n",
       "      <td>20200924</td>\n",
       "      <td>업텐션 (UP10TION)</td>\n",
       "      <td>빈집 (텅) (Empty House)</td>\n",
       "      <td>R&amp;B/Soul</td>\n",
       "      <td>[기적, 기적, 기적, 기적, 맴도, 수많다, fantasy, 무뎌져, 적응하다, ...</td>\n",
       "    </tr>\n",
       "    <tr>\n",
       "      <th>5760</th>\n",
       "      <td>20200926</td>\n",
       "      <td>엔플라잉 (N.Flying)</td>\n",
       "      <td>From You</td>\n",
       "      <td>록/메탈, 국내드라마</td>\n",
       "      <td>[누군가, 요람, 온기, 문득, 낯설다, dawn, eye, keep, alive,...</td>\n",
       "    </tr>\n",
       "    <tr>\n",
       "      <th>5761</th>\n",
       "      <td>20201002</td>\n",
       "      <td>BLACKPINK</td>\n",
       "      <td>Lovesick Girls</td>\n",
       "      <td>댄스</td>\n",
       "      <td>[영원하다, 창문, 우릴, 아프다, 어차피, 상처, 성인, 미워하다, 끝장, 보기,...</td>\n",
       "    </tr>\n",
       "    <tr>\n",
       "      <th>5762</th>\n",
       "      <td>20201010</td>\n",
       "      <td>환불원정대</td>\n",
       "      <td>DON'T TOUCH ME</td>\n",
       "      <td>댄스</td>\n",
       "      <td>[trouble, 부리, lady, 말리, 불편하다, 사랑, 원하다, 평화, 편하다...</td>\n",
       "    </tr>\n",
       "  </tbody>\n",
       "</table>\n",
       "<p>5763 rows × 5 columns</p>\n",
       "</div>"
      ],
      "text/plain": [
       "            년도               가수                       제목           장르  \\\n",
       "0     19920000                잼                난 멈추지 않는다           댄스   \n",
       "1     19920000                잼               우리 모두 사랑하자           댄스   \n",
       "2     19920000                잼                       이유          발라드   \n",
       "3     19920000                잼                 18번가의 비밀           댄스   \n",
       "4     19920000                잼                   요즘 친구들           댄스   \n",
       "...        ...              ...                      ...          ...   \n",
       "5758  20200924   업텐션 (UP10TION)  니가 보여 (Waiting For You)     R&B/Soul   \n",
       "5759  20200924   업텐션 (UP10TION)     빈집 (텅) (Empty House)     R&B/Soul   \n",
       "5760  20200926  엔플라잉 (N.Flying)                 From You  록/메탈, 국내드라마   \n",
       "5761  20201002        BLACKPINK           Lovesick Girls           댄스   \n",
       "5762  20201010            환불원정대           DON'T TOUCH ME           댄스   \n",
       "\n",
       "                                                     가사  \n",
       "0     [이제, 시작, 내겐, 때론, 상처, 좌절, 남아, 후회, 지금, 신문, 얘기, 이...  \n",
       "1     [사랑, 젊다, 가볍다, 스텝, 아무렇다, 거리, 사람, 시선, 나름, 연출, 자신...  \n",
       "2     [어둠, 이제, 가슴속, 긴머리, 향기, 취해, 어둠, 애처롭다, 이유, 사랑, 이...  \n",
       "3     [끝없다, 어둠, 야릇하다, 느낌, 거리, 싸늘하다, 해지, 바람, 어깨, 멀리, ...  \n",
       "4     [요즘, 친구, 정말, 진정하다, 친구, 말로, 그게, 다인, 생각, 좋다, 얘기,...  \n",
       "...                                                 ...  \n",
       "5758  [기억, 검다, 그림자, 주윌, 이별, 슬픔, 하얗다, 안개, 문득, 숨쉬기, 힘들...  \n",
       "5759  [기적, 기적, 기적, 기적, 맴도, 수많다, fantasy, 무뎌져, 적응하다, ...  \n",
       "5760  [누군가, 요람, 온기, 문득, 낯설다, dawn, eye, keep, alive,...  \n",
       "5761  [영원하다, 창문, 우릴, 아프다, 어차피, 상처, 성인, 미워하다, 끝장, 보기,...  \n",
       "5762  [trouble, 부리, lady, 말리, 불편하다, 사랑, 원하다, 평화, 편하다...  \n",
       "\n",
       "[5763 rows x 5 columns]"
      ]
     },
     "execution_count": 16,
     "metadata": {},
     "output_type": "execute_result"
    }
   ],
   "source": [
    "data"
   ]
  },
  {
   "cell_type": "code",
   "execution_count": 17,
   "metadata": {},
   "outputs": [
    {
     "name": "stderr",
     "output_type": "stream",
     "text": [
      "[nltk_data] Downloading package averaged_perceptron_tagger to\n",
      "[nltk_data]     C:\\Users\\308_1\\AppData\\Roaming\\nltk_data...\n",
      "[nltk_data]   Package averaged_perceptron_tagger is already up-to-\n",
      "[nltk_data]       date!\n"
     ]
    },
    {
     "data": {
      "text/plain": [
       "True"
      ]
     },
     "execution_count": 17,
     "metadata": {},
     "output_type": "execute_result"
    }
   ],
   "source": [
    "lyrics_n=data['가사']\n",
    "nltk.download('averaged_perceptron_tagger')"
   ]
  },
  {
   "cell_type": "code",
   "execution_count": 18,
   "metadata": {},
   "outputs": [],
   "source": [
    "lyrics_j=[]\n",
    "for i,document in enumerate(lyrics_n):\n",
    "  stem_words_eng=[]\n",
    "  for word in nltk.pos_tag(document):\n",
    "    if word[1] in ['NN','NNP','JJ']:\n",
    "      stem_words_eng.append(word[0])\n",
    "  lyrics_j.append(stem_words_eng)"
   ]
  },
  {
   "cell_type": "code",
   "execution_count": 19,
   "metadata": {},
   "outputs": [],
   "source": [
    "lyrics_k=[]\n",
    "for i in lyrics_j:\n",
    "  lyric=' '.join(i)\n",
    "  lyrics_k.append(lyric)"
   ]
  },
  {
   "cell_type": "code",
   "execution_count": 20,
   "metadata": {},
   "outputs": [],
   "source": [
    "from konlpy.tag import Okt\n",
    "okt=Okt()\n",
    "\n",
    "lyrics_o=[]\n",
    "for i,document in enumerate(lyrics_k):\n",
    "  stem_words_kor=[]\n",
    "  for word in okt.pos(document,stem=True, norm=True):\n",
    "    if word[1] in ['Noun','Adjective','Alpha']:\n",
    "      stem_words_kor.append(word[0])\n",
    "  lyrics_o.append(stem_words_kor)"
   ]
  },
  {
   "cell_type": "code",
   "execution_count": 21,
   "metadata": {},
   "outputs": [],
   "source": [
    "train=[]\n",
    "for i,line in enumerate(lyrics_o):\n",
    "  ary=[]\n",
    "  for word in line:\n",
    "    if len(word)>1:\n",
    "      ary.append(word)\n",
    "  train.append(ary)"
   ]
  },
  {
   "cell_type": "code",
   "execution_count": 22,
   "metadata": {},
   "outputs": [],
   "source": [
    "train=[]\n",
    "for i,line in enumerate(lyrics_o):\n",
    "  ary=[]\n",
    "  for word in line:\n",
    "    if len(word)>1:\n",
    "      ary.append(word)\n",
    "  train.append(ary)"
   ]
  },
  {
   "cell_type": "code",
   "execution_count": 23,
   "metadata": {},
   "outputs": [],
   "source": [
    "from collections import Counter\n",
    "list=[]\n",
    "freq=Counter(list)\n",
    "for words in train:\n",
    "  freq.update(Counter(words))"
   ]
  },
  {
   "cell_type": "code",
   "execution_count": 24,
   "metadata": {},
   "outputs": [
    {
     "name": "stdout",
     "output_type": "stream",
     "text": [
      "[('사랑', 13342), ('이제', 3641), ('좋다', 3593), ('마음', 3410), ('사람', 3200), ('지금', 3139), ('girl', 2955), ('생각', 2868), ('세상', 2810), ('오늘', 2800), ('아프다', 2581), ('눈물', 2475), ('모든', 2335), ('가슴', 2280), ('love', 2195), ('순간', 2112), ('기억', 2032), ('모습', 1919), ('원하다', 1881), ('하루', 1811), ('매일', 1749), ('정말', 1718), ('미치다', 1715), ('행복하다', 1603), ('자꾸', 1578), ('하늘', 1525), ('영원하다', 1515), ('우린', 1473), ('예쁘다', 1418), ('보고', 1406), ('good', 1405), ('그냥', 1388), ('싫다', 1329), ('boy', 1296), ('위해', 1292), ('많다', 1286), ('아름답다', 1271), ('괜찮다', 1264), ('해도', 1264), ('night', 1197), ('time', 1145), ('추억', 1116), ('day', 1106), ('느낌', 1095), ('아무', 1084), ('이별', 1082), ('처음', 1080), ('바보', 1072), ('항상', 1061), ('여자', 1050)]\n"
     ]
    }
   ],
   "source": [
    "print(freq.most_common(n=50))"
   ]
  },
  {
   "cell_type": "code",
   "execution_count": 25,
   "metadata": {},
   "outputs": [
    {
     "name": "stdout",
     "output_type": "stream",
     "text": [
      "[(1, 1), (6, 3), (9, 1), (11, 5), (12, 1), (13, 1), (14, 1), (15, 1), (16, 1), (17, 1), (18, 1), (19, 1), (20, 8), (21, 1), (22, 1), (23, 5), (24, 1), (25, 1), (26, 1), (27, 1), (28, 1), (29, 1), (30, 1), (31, 5), (32, 1), (33, 2), (34, 2), (35, 1), (36, 1), (37, 1)]\n"
     ]
    }
   ],
   "source": [
    "from gensim import corpora\n",
    "dictionary = corpora.Dictionary(train) #정수 인코딩과 빈도수 생성\n",
    "\n",
    "#문서를 back of word 형식(token_id,token_count)으로 변환\n",
    "corpus = [dictionary.doc2bow(text) for text in train] \n",
    "\n",
    "print(corpus[1])    #(m,n) -> 두번째 노래 가사에서 정수 m로 할당된 단어가 n번 등장"
   ]
  },
  {
   "cell_type": "code",
   "execution_count": 26,
   "metadata": {},
   "outputs": [
    {
     "name": "stdout",
     "output_type": "stream",
     "text": [
      "좌절\n"
     ]
    }
   ],
   "source": [
    "print(dictionary[8])"
   ]
  },
  {
   "cell_type": "code",
   "execution_count": 27,
   "metadata": {},
   "outputs": [],
   "source": [
    "import matplotlib.pyplot as plt\n",
    "from gensim.models import CoherenceModel\n",
    "import gensim"
   ]
  },
  {
   "cell_type": "code",
   "execution_count": 28,
   "metadata": {},
   "outputs": [],
   "source": [
    "coherence_values=[]\n",
    "for num_topics in range(2,16):\n",
    "  model=gensim.models.ldamodel.LdaModel(corpus,num_topics=num_topics,id2word=dictionary)\n",
    "  coherencemodel=CoherenceModel(model,texts=train,dictionary=dictionary)\n",
    "  coherence_values.append(coherencemodel.get_coherence())"
   ]
  },
  {
   "cell_type": "code",
   "execution_count": 29,
   "metadata": {},
   "outputs": [
    {
     "data": {
      "text/plain": [
       "<function matplotlib.pyplot.show(close=None, block=None)>"
      ]
     },
     "execution_count": 29,
     "metadata": {},
     "output_type": "execute_result"
    },
    {
     "data": {
      "image/png": "[encoded data removed]",
      "text/plain": [
       "<Figure size 432x288 with 1 Axes>"
      ]
     },
     "metadata": {
      "needs_background": "light"
     },
     "output_type": "display_data"
    }
   ],
   "source": [
    "x=range(2,16)\n",
    "plt.plot(x,coherence_values)\n",
    "plt.xlabel(\"Number of Topics\")\n",
    "plt.ylabel(\"Coherence score\")\n",
    "plt.legend((\"coherence_value\"),loc='best')\n",
    "plt.show"
   ]
  },
  {
   "cell_type": "code",
   "execution_count": 30,
   "metadata": {},
   "outputs": [],
   "source": [
    "import gensim\n",
    "N_TOPICS = 13   #토픽의 개수 (하이퍼 파라미터)\n",
    "\n",
    "ldamodel = gensim.models.ldamodel.LdaModel(corpus,num_topics=N_TOPICS,id2word=dictionary,passes=15) #passes = 말뭉치 통과 횟수"
   ]
  },
  {
   "cell_type": "code",
   "execution_count": 31,
   "metadata": {},
   "outputs": [
    {
     "data": {
      "text/html": [
       "\n",
       "<link rel=\"stylesheet\" type=\"text/css\" href=\"https://cdn.rawgit.com/bmabey/pyLDAvis/files/ldavis.v1.0.0.css\">\n",
       "\n",
       "\n",
       "<div id=\"ldavis_el156019718187619283889122757\"></div>\n",
       "<script type=\"text/javascript\">\n",
       "\n",
       "var ldavis_el156019718187619283889122757_data = {\"mdsDat\": {\"x\": [-0.27730150527093456, -0.22154166934335862, -0.2289818589839529, -0.06977817745200177, -0.16074085483705167, 0.09632883710789085, -0.1229680668560293, 0.10603375380040994, 0.161630100003065, 0.16336583281410955, 0.2361733729731519, 0.1779970556246309, 0.1397831804200708], \"y\": [-0.017273204423363026, 0.08280718151542693, -0.04188090923628904, 0.009793580071381812, -0.10736877838655505, -0.1515744264334281, 0.04602992738375569, 0.1903827916422098, -0.18529413700684982, 0.036951878967960476, -0.09263289051203757, 0.028677916072480967, 0.20138107034530636], \"topics\": [1, 2, 3, 4, 5, 6, 7, 8, 9, 10, 11, 12, 13], \"cluster\": [1, 1, 1, 1, 1, 1, 1, 1, 1, 1, 1, 1, 1], \"Freq\": [27.398838213030608, 16.574075315912882, 13.070202443432905, 9.359911610799577, 4.9592202313412965, 4.528072053740606, 4.370638434836172, 4.309335338368429, 4.076624388971068, 3.8869765416010322, 2.997911139830727, 2.3249976083114317, 2.143196679823273]}, \"tinfo\": {\"Term\": [\"\\uc0ac\\ub791\", \"girl\", \"love\", \"boy\", \"day\", \"good\", \"night\", \"\\ub208\\ubb3c\", \"bad\", \"heart\", \"\\uc88b\\ub2e4\", \"\\uc544\\ud504\\ub2e4\", \"\\ub9c8\\uc74c\", \"\\ub178\\ub798\", \"way\", \"crazy\", \"hello\", \"\\uae30\\uc5b5\", \"knock\", \"dance\", \"\\uc21c\\uac04\", \"tonight\", \"\\ud558\\ub298\", \"\\uc9c0\\uae08\", \"talk\", \"beautiful\", \"time\", \"\\uc790\\uafb8\", \"sweet\", \"\\uc138\\uc0c1\", \"\\uc2ac\\ud514\", \"hip\", \"\\uc774\\ubcc4\", \"\\ub208\\ubb3c\", \"\\ubd80\\ub514\", \"sunny\", \"gee\", \"replay\", \"\\uc9c0\\ub09c\\ub0a0\", \"\\ube57\\ubb3c\", \"uhhuh\", \"\\ub85c\\uafb8\\uac70\", \"\\ub364\\ub364\\ud558\\ub2e4\", \"\\uadf8\\ub9ac\\uc6c0\", \"\\uc5b4\\ub3c4\", \"\\ube48\\uc790\\ub9ac\", \"\\uc2ac\\ud504\\ub2e4\", \"\\ub9f9\\uc138\", \"rocket\", \"\\uc790\\uaca9\", \"\\ubaa8\\uc9c8\\ub2e4\", \"\\ub69c\\ub69c\\ub69c\", \"\\uc6d0\\ub9dd\\ud558\\ub2e4\", \"\\ud654\\uc0b4\", \"\\uc544\\ud30c\\ud574\", \"\\ud6c4\\ud6c4\\ud6c4\", \"\\ubaa8\\ub798\\uc131\", \"weak\", \"\\ub2e4\\ub2e4\\ub2e4\", \"\\uc54c\\ub78c\", \"\\ub0a8\\uc544\", \"\\uc544\\ud514\", \"\\ud5db\\ub41c\", \"\\uc0ac\\ub791\", \"\\uc544\\ud504\\ub2e4\", \"\\uadf8\\ub300\\ub9cc\", \"\\uace0\\ub9d9\\ub2e4\", \"\\ud589\\ubcf5\\ud558\\ub2e4\", \"\\uc0c1\\ucc98\", \"\\ud754\\uc801\", \"\\uc678\\ub85c\\uc6c0\", \"\\ucd94\\uc5b5\", \"\\uae30\\uc5b5\", \"\\uae30\\uc068\", \"\\uac00\\uc2b4\", \"\\ud798\\ub4e4\\ub2e4\", \"\\ud798\\ub4dc\\ub2e4\", \"\\ubbf8\\ub828\", \"\\ubbf8\\uc548\\ud558\\ub2e4\", \"\\uc0ac\\ub78c\", \"goodbye\", \"\\ubaa8\\uc2b5\", \"\\uc601\\uc6d0\\ud558\\ub2e4\", \"\\uc57d\\uc18d\", \"\\ubcc0\\ud558\\ub2e4\", \"\\ud589\\ubcf5\", \"\\uad1c\\ucc2e\\ub2e4\", \"\\uc18c\\uc911\\ud558\\ub2e4\", \"\\ub9c8\\uc9c0\\ub9c9\", \"\\uc704\\ud574\", \"\\uc774\\uc81c\", \"\\ub0b4\\uac90\", \"\\ub450\\ub835\\ub2e4\", \"\\uc138\\uc0c1\", \"\\ub9c8\\uc74c\", \"\\ud56d\\uc0c1\", \"\\uc0dd\\uac01\", \"\\ubaa8\\ub4e0\", \"\\ubc14\\ubcf4\", \"\\ud558\\ub8e8\", \"\\uc81c\\ubc1c\", \"\\uc9c0\\uae08\", \"\\uc624\\ub298\", \"\\ud574\\ub3c4\", \"ay\", \"\\ub8e8\\ub8e8\", \"\\ube59\\ube59\", \"\\uac70\\ub098\", \"issue\", \"\\uc624\\ube60\", \"\\uadc0\\ucc2e\\ub2e4\", \"hurry\", \"illa\", \"mystery\", \"\\uc5f0\\uc560\", \"\\ud654\\uc7a5\", \"\\uacb0\\ud63c\", \"hol\", \"\\ucde8\\ud5a5\", \"\\ubc14\\uc9dd\", \"\\ud22c\\uc131\\uc774\", \"\\ud295\\uae30\", \"bye\", \"\\uae00\\uc384\", \"wah\", \"\\uc77c\\ubd80\\ub7ec\", \"\\ub3cc\\ub9ac\\uc9c0\", \"\\uc785\\ubc84\\ub987\", \"\\ubd80\\ubaa8\\ub2d8\", \"\\ub9c8\\uc774\", \"\\ubc18\\uce59\", \"\\uc774\\ud2c0\", \"\\uc090\\uc090\", \"sweety\", \"\\uc560\\uad50\", \"\\ud5f7\\uac08\\ub9ac\\ub2e4\", \"\\uc544\\uc608\", \"\\uc6d0\\ub798\", \"\\uc5ec\\uc790\", \"\\ub0a8\\uc790\", \"\\uc5b8\\ub2c8\", \"\\ub098\\uc058\\ub2e4\", \"\\ud589\\ub3d9\", \"\\uce5c\\uad6c\", \"\\uccab\\uc0ac\\ub791\", \"hot\", \"\\uc790\\uafb8\", \"\\uc88b\\uc544\\ud558\\ub2e4\", \"\\uc9c4\\uc9dc\", \"\\ub3c4\\ub300\\uccb4\", \"\\uc694\\uc998\", \"\\ub300\\uccb4\", \"\\uadf8\\ub9cc\\ud558\\ub2e4\", \"\\uc2eb\\ub2e4\", \"\\uc608\\uc058\\ub2e4\", \"\\ub2f5\\ub2f5\\ud558\\ub2e4\", \"\\uac04\\ub2e4\", \"\\uc815\\ub9d0\", \"\\uc815\\ub3c4\", \"\\uc194\\uc9c1\\ud558\\ub2e4\", \"\\uc88b\\ub2e4\", \"\\uc0ac\\uc2e4\", \"\\ub2ec\\ub77c\", \"\\uc774\\uc0c1\\ud558\\ub2e4\", \"\\uc0dd\\uac01\", \"\\ub54c\\ubb38\", \"\\uadf8\\ub0e5\", \"\\ubcf4\\uace0\", \"\\ubbf8\\uce58\\ub2e4\", \"\\uac70\\uc9d3\\ub9d0\", \"\\uc6d0\\ud558\\ub2e4\", \"\\uc624\\ub298\", \"\\ub9e4\\uc77c\", \"\\uc0ac\\ub78c\", \"\\uace0\\ubbfc\", \"\\ub9c8\\uc74c\", \"\\ubc14\\ubcf4\", \"\\uc5bc\\uad74\", \"\\ud574\\ub3c4\", \"\\uc0ac\\ub791\", \"\\uc9c0\\uae08\", \"\\uc774\\uc81c\", \"\\ud558\\ub8e8\", \"shoot\", \"umpah\", \"ba\", \"fake\", \"lalalala\", \"zimzimzalabim\", \"chill\", \"muah\", \"lalalalala\", \"\\uc0ac\\ud0d5\", \"\\uafc8\\uacb0\", \"\\uc5ec\\ub984\\ubc24\", \"special\", \"\\uc628\\ub3c4\", \"zimzalabim\", \"lo\", \"zimzim\", \"\\uac04\\uc9c8\", \"\\ucc30\\ub098\", \"\\ube44\\ubc00\\uc2a4\\ub7fd\\ub2e4\", \"lazy\", \"\\ud640\\ub9ac\", \"nonstop\", \"blood\", \"\\ucd9c\\uad6c\", \"\\uc2a4\\ub974\\ub974\", \"\\ub864\\ub7ec\\ucf54\\uc2a4\\ud130\", \"snowman\", \"ch\", \"\\uc560\\ub9e4\", \"summer\", \"\\ud551\\ud06c\", \"\\uba58\\ud2b8\", \"\\ub450\\uadfc\\uac70\\ub9ac\\ub2e4\", \"\\uc124\\ub808\\ub2e4\", \"\\ubc14\\ub2e4\", \"\\ud640\\ub9b0\", \"\\uc5ec\\ub984\", \"\\ub2ec\\ube5b\", \"\\ub2ec\\ucf64\\ud558\\ub2e4\", \"\\ub290\\ub08c\", \"\\ud478\\ub978\", \"\\ud22c\\uba85\\ud558\\ub2e4\", \"\\ub208\\ubd80\\uc2dc\\ub2e4\", \"\\uc544\\ub798\", \"\\uc5b4\\uba38\", \"\\uc21c\\uac04\", \"\\uc190\\uae38\", \"\\uc18c\\ub140\", \"\\uae30\\ubd84\", \"\\ube44\\ubc00\", \"\\uac00\\uae4c\\uc774\", \"\\ud53c\\uc5b4\", \"\\uad6c\\ub984\", \"\\ud30c\\ub3c4\", \"\\ud587\\uc0b4\", \"\\uc0c1\\uc0c1\", \"\\ub728\\uac81\\ub2e4\", \"\\uc544\\ub984\\ub2f5\\ub2e4\", \"\\ud558\\ub298\", \"\\ud5a5\\uae30\", \"\\uc88b\\ub2e4\", \"\\ub208\\ube5b\", \"\\uc9c0\\uae08\", \"\\uc624\\ub298\", \"\\ubaa8\\ub4e0\", \"\\uac00\\ub4dd\\ud558\\ub2e4\", \"\\ub9e4\\uc77c\", \"\\ub9c8\\uc74c\", \"\\ubc14\\ub78c\", \"\\ud558\\ub8e8\", \"\\uac00\\ub4dd\", \"\\uc138\\uc0c1\", \"\\ubbf8\\uc18c\", \"\\ucc98\\uc74c\", \"\\uc608\\uc058\\ub2e4\", \"dat\", \"disco\", \"sign\", \"pow\", \"luck\", \"jingle\", \"superstar\", \"rwa\", \"baram\", \"dangerous\", \"tik\", \"ur\", \"\\uc131\\uacf5\", \"\\uc9d5\\uae00\\uc9d5\\uae00\", \"bass\", \"radio\", \"calm\", \"\\uc794\\ub729\", \"dogg\", \"killin\", \"\\ud55c\\uacc4\", \"\\uc2dc\\uc18c\", \"magic\", \"\\ube44\\ud2b8\", \"black\", \"contact\", \"midnight\", \"\\uc2e0\\uc18d\\ud558\\ub2e4\", \"\\uc0ac\\ubc29\", \"walkin\", \"stop\", \"\\uc57c\\uc57c\", \"wild\", \"double\", \"turn\", \"\\uc624\\ub298\\ubc24\", \"phone\", \"mic\", \"\\uac70\\ubd80\", \"mind\", \"\\uc911\\ub3c5\", \"\\ud070\\uc77c\", \"\\uba4b\\ub300\\ub85c\", \"\\uc704\\ud5d8\\ud558\\ub2e4\", \"\\ub9ac\\ub4ec\", \"dream\", \"big\", \"\\ubbf8\\ub85c\", \"\\uc6b0\\ub9b0\", \"music\", \"drop\", \"\\uc138\\uc0c1\", \"\\uc2dc\\uc791\", \"\\uc774\\uc81c\", \"time\", \"\\uc2ec\\uc7a5\", \"\\ubbf8\\uce58\\ub2e4\", \"\\ubed4\\ud558\\ub2e4\", \"\\uc6d0\\ud558\\ub2e4\", \"\\uc9c0\\uae08\", \"\\uc0c8\\ub86d\\ub2e4\", \"\\uba38\\ub9ac\", \"\\uc808\\ub300\", \"\\uc900\\ube44\", \"right\", \"\\ubaa8\\ub4e0\", \"\\uc21c\\uac04\", \"\\ub204\\uac00\", \"ready\", \"\\ub9ce\\ub2e4\", \"lucky\", \"luv\", \"te\", \"\\ud06c\\ub9ac\\uc2a4\\ub9c8\\uc2a4\", \"mo\", \"\\uac04\\uc9c0\\ub7fd\\ub2e4\", \"candy\", \"wonderful\", \"doo\", \"\\ud48d\\uc120\", \"\\uc544\\uc544\", \"di\", \"shy\", \"diva\", \"\\ub9c8\\ub9ac\\uc544\", \"\\uc9d5\\uae00\", \"lem\", \"\\uace8\\ubaa9\\uae38\", \"\\ubaa8\\uc774\", \"\\uc8fc\\uc70c\", \"\\ubd90\\ubd90\", \"dna\", \"\\uc0c1\\ud0dc\", \"\\ube44\\ubc14\\ub78c\", \"\\uc560\\ud2cb\\ud558\\ub2e4\", \"\\uc5ec\\ub984\\ub0a0\", \"\\ubc24\\ubc14\", \"tuesday\", \"\\ucda5\\ub2e4\", \"downdown\", \"\\uaf2c\\ub9ac\", \"round\", \"\\uaca8\\uc6b8\", \"monday\", \"walk\", \"\\uc870\\uadf8\\ub9cc\", \"\\ub099\\uc5fd\", \"fallin\", \"\\uacc4\\uc808\", \"\\uc6b0\\uc8fc\", \"\\uc2dc\\uc808\", \"\\ud558\\uc597\\ub2e4\", \"\\uc5f0\\uc778\", \"\\uc5b4\\ub978\", \"\\uc791\\ub2e4\", \"run\", \"fantasy\", \"\\ubc14\\ub78c\", \"\\ubc18\\uc9dd\", \"\\ud558\\ub298\", \"\\ub9c8\\uc74c\", \"fall\", \"\\uae38\\uc774\", \"\\ub118\\uce58\\ub2e4\", \"\\ub204\\uad70\\uac00\", \"\\uac70\\ub9ac\", \"\\uae30\\uc5b5\", \"\\uc601\\uc6d0\\ud558\\ub2e4\", \"\\uc6b4\\uba85\", \"time\", \"\\ucd94\\uc5b5\", \"\\uc0ac\\ub791\", \"\\uc6b0\\ub9b0\", \"\\uc774\\uc81c\", \"\\uc138\\uc0c1\", \"\\uc544\\ub984\\ub2f5\\ub2e4\", \"jump\", \"jumpin\", \"gim\", \"\\ub77c\\uc774\", \"\\ubc14\\ub77c\\ubc14\", \"\\ucf54\\ub178\", \"nobody\", \"gravity\", \"\\ubbf8\\ub178\", \"twit\", \"woman\", \"\\ud558\\uc774\", \"\\ud0c0\\uc774\", \"\\ucf54\\ucf54\", \"\\uce74\\ub77c\", \"\\ub370\\ubaa8\", \"ohohohoh\", \"\\uc6b0\\uc5f0\\uc774\", \"\\ub808\\ub8e8\", \"heavy\", \"christmas\", \"\\ub808\\ud14c\", \"\\ub3c4\\ub8cc\", \"\\uc774\\ub178\", \"cos\", \"muzik\", \"\\ud718\\ud30c\\ub78c\", \"\\uc77c\\uc8fc\\uc77c\", \"\\uce74\\ub098\", \"\\uce84\\uce84\\ud558\\ub2e4\", \"air\", \"blue\", \"hand\", \"\\ub192\\uc774\", \"\\uc608\\uc774\\uc608\", \"someone\", \"fire\", \"\\ub098\\uc774\", \"perfect\", \"world\", \"\\uc624\\uc624\\uc624\", \"money\", \"ready\", \"everybody\", \"\\ubc09\\ub2e4\", \"everyday\", \"boom\", \"lady\", \"wish\", \"bang\", \"\\ub728\\uac81\\ub2e4\", \"\\uc704\\ub85c\", \"party\", \"light\", \"\\uc18c\\ub9ac\", \"body\", \"\\uc138\\uc0c1\", \"moon\", \"\\uc5d0\\uc774\", \"walker\", \"\\ub9cc\\uc138\", \"\\uc9f8\\uae4d\", \"leggo\", \"bow\", \"lalala\", \"taste\", \"\\ubc15\\uc218\", \"\\ub044\\ub355\", \"snap\", \"trick\", \"\\uc720\\ud589\\uac00\", \"gosh\", \"rollin\", \"crush\", \"\\uac00\\uc9dc\", \"\\ubc45\\uae00\", \"whatta\", \"py\", \"hallo\", \"\\ub9ac\\ub9ac\", \"tomorrow\", \"\\uc548\\ub155\\ud558\\ub2e4\", \"\\uae30\\uae30\", \"\\ub450\\ub8e8\", \"\\ub2f9\\ud558\\ub2e4\", \"\\uc288\\uac00\", \"\\ub7a9\\ubaac\", \"rewind\", \"\\ub354\\ub7fd\\ub2e4\", \"man\", \"home\", \"\\uc5c4\\ub9c8\", \"\\ub178\\ub798\", \"\\ub09c\\ub9ac\", \"\\uce60\\ud558\\ub2e4\", \"\\uacf5\\uae30\", \"\\uac70\\uc6b8\", \"\\uadf8\\ub0e5\", \"\\uc18c\\ub9ac\", \"\\uc88b\\ub2e4\", \"\\uc9c0\\uae08\", \"\\ub204\\uac00\", \"\\uac00\\uc2dc\", \"\\uc624\\ub298\", \"\\uad1c\\ucc2e\\ub2e4\", \"\\uc9c4\\uc9dc\", \"\\uc778\\uc0dd\", \"\\ubb34\\uc12d\\ub2e4\", \"\\ub9ce\\ub2e4\", \"\\ub178\\ub797\\ub2e4\", \"\\ub9e4\\uc77c\", \"\\uc138\\uc0c1\", \"\\ubbf8\\uce58\\ub2e4\", \"\\uc544\\ubb34\", \"girl\", \"peep\", \"happy\", \"movin\", \"ghost\", \"hush\", \"birthday\", \"\\ub09c\\ub09c\", \"\\ucc0c\\ub9bf\", \"rip\", \"glow\", \"movie\", \"york\", \"gi\", \"holic\", \"signal\", \"fancy\", \"cho\", \"\\ud1a1\\ud1a1\", \"\\uc0c8\\ub07c\", \"\\ub85c\\ub9e8\\uc2a4\", \"irony\", \"lean\", \"\\ud48d\\ub385\\uc774\", \"glam\", \"\\ubc30\\ucd94\", \"ride\", \"\\ubbf8\\ub2c8\\uc2a4\\ucee4\\ud2b8\", \"\\uc904\\ub2e4\\ub9ac\\uae30\", \"\\ubcf4\\uc308\", \"good\", \"thank\", \"\\uc5b4\\uc5b4\", \"wan\", \"beautiful\", \"fan\", \"clap\", \"high\", \"eye\", \"trust\", \"show\", \"sky\", \"real\", \"chu\", \"\\ud5e4\\uc5b4\", \"smile\", \"new\", \"face\", \"cause\", \"\\uc6d0\\ud558\\ub2e4\", \"boom\", \"\\ubbf8\\uce58\\ub2e4\", \"\\ub9d0\\ub85c\", \"everybody\", \"knock\", \"rock\", \"lie\", \"peek\", \"door\", \"\\uc77c\\ub8e8\", \"likey\", \"funk\", \"fine\", \"dress\", \"alight\", \"mess\", \"respect\", \"mine\", \"ayy\", \"dynamite\", \"\\uace0\\uace0\", \"talker\", \"\\ub808\\uc624\", \"dawn\", \"city\", \"friday\", \"\\uc624\\uc608\", \"wide\", \"tonight\", \"sweet\", \"\\uc378\\ud0c0\", \"zombie\", \"straight\", \"open\", \"break\", \"head\", \"little\", \"bomb\", \"heart\", \"night\", \"promise\", \"watch\", \"\\uc560\\ub9e4\\ud558\\ub2e4\", \"song\", \"body\", \"right\", \"play\", \"look\", \"soul\", \"party\", \"time\", \"true\", \"light\", \"life\", \"feel\", \"dumb\", \"young\", \"ni\", \"lolli\", \"diamond\", \"hate\", \"shake\", \"bae\", \"wa\", \"ga\", \"pam\", \"bum\", \"lollipop\", \"kimi\", \"anpanman\", \"sick\", \"nai\", \"push\", \"\\ubc29\\ud0c4\", \"aha\", \"train\", \"chocolate\", \"slip\", \"shi\", \"dong\", \"type\", \"ballin\", \"clock\", \"dum\", \"\\ub2ec\\ucf64\", \"love\", \"dance\", \"crazy\", \"tear\", \"sorry\", \"call\", \"toc\", \"pop\", \"mad\", \"emotion\", \"life\", \"dan\", \"move\", \"ta\", \"give\", \"\\ubbf8\\uce58\\ub2e4\", \"\\uc6d0\\ud558\\ub2e4\", \"man\", \"change\", \"liar\", \"bounce\", \"bring\", \"rookie\", \"\\ub9c8\\ub9c8\", \"ice\", \"cream\", \"moment\", \"mama\", \"rush\", \"swan\", \"\\uc774\\ubd88\", \"\\ub300\\ud55c\\ubbfc\\uad6d\", \"xiang\", \"attack\", \"cha\", \"\\ub4dc\\ub8e8\", \"\\uc9dd\\uc9dd\", \"simple\", \"remedy\", \"chillin\", \"bailar\", \"ehoh\", \"\\ud640\\ub824\", \"chi\", \"bu\", \"catch\", \"\\uc624\\ub808\", \"seoul\", \"roll\", \"imma\", \"super\", \"way\", \"pick\", \"honey\", \"fight\", \"game\", \"touch\", \"ta\", \"gon\", \"power\", \"star\", \"dynnnnnanana\", \"side\", \"time\", \"something\", \"fall\", \"let\", \"hello\", \"dot\", \"wrong\", \"number\", \"yolo\", \"\\ub784\\ub77c\\ub77c\", \"\\ud0d5\\uc9c4\", \"butterfly\", \"shootout\", \"yah\", \"breathe\", \"mayday\", \"flower\", \"middle\", \"dirty\", \"dollar\", \"brr\", \"truck\", \"rain\", \"monsta\", \"jo\", \"twilight\", \"today\", \"nothing\", \"\\ud638\\uc6b0\", \"roob\", \"prechorus\", \"shut\", \"\\ub0a0\\ub85c\", \"matter\", \"day\", \"stay\", \"line\", \"blah\", \"pain\", \"kiss\", \"cry\", \"hit\", \"stupid\", \"chorus\", \"last\", \"\\uac08\\ub798\", \"sunshine\", \"\\uace0\\ubbfc\", \"night\", \"name\", \"\\ubbf8\\uce58\\ub2e4\", \"boy\", \"sugar\", \"whoo\", \"bam\", \"bubble\", \"hoohoo\", \"meow\", \"bi\", \"\\ub098\\uc640\\ub77c\", \"yummy\", \"vroom\", \"greedy\", \"\\ud504\\ub9ac\\ub9c8\\ub3c8\\ub098\", \"stuck\", \"bad\", \"vip\", \"\\uc0ac\\ub974\\ub974\", \"baam\", \"bump\", \"nope\", \"\\ub3c4\\ub9dd\", \"santa\", \"jibberish\", \"su\", \"drink\", \"cowboy\", \"dam\", \"\\ubb36\\uc778\", \"shoe\", \"disaster\", \"step\", \"drama\", \"nice\", \"talk\", \"work\", \"god\", \"town\", \"paradise\", \"\\ucc28\\uc6d0\", \"\\uac10\\uac01\", \"\\ubc18\\uc804\", \"style\", \"pop\", \"\\ucd5c\\uace0\", \"way\", \"\\ubca0\\ubca0\", \"\\ud5a5\\uae30\", \"\\ub204\\uac00\", \"\\uc0dd\\uac01\"], \"Freq\": [12809.0, 2842.0, 2319.0, 1274.0, 1212.0, 1534.0, 1314.0, 2427.0, 690.0, 978.0, 3854.0, 2679.0, 3538.0, 1014.0, 808.0, 769.0, 563.0, 2157.0, 642.0, 648.0, 2230.0, 570.0, 1491.0, 3315.0, 478.0, 570.0, 1144.0, 1705.0, 464.0, 2777.0, 427.5209322942746, 213.22454836741474, 1092.5813251681736, 2410.30283190376, 127.80258516630983, 101.85904819364487, 98.04047887867631, 81.10407449060885, 79.0402125373261, 71.2465582650803, 62.95110244618199, 59.2417344358144, 57.08243644075556, 266.505977379656, 52.24981164071511, 89.11850009154413, 997.6791327125384, 54.07598427020785, 48.912032329677054, 47.52251478847977, 45.62497364169436, 45.56185227168795, 75.66780988707417, 36.28315100217911, 36.03888931586728, 35.31574594611353, 34.29996563290773, 32.064441577494414, 30.729574731967062, 30.63788193422624, 325.44014526679746, 441.4512982036485, 56.61407053734854, 11533.244634433688, 2483.150604507732, 159.68462867081317, 360.936240843979, 1408.4225116182954, 607.3104245917532, 169.46642594213108, 146.4506796356792, 1001.9475785740125, 1767.3607809454413, 152.27095036661763, 1738.9236562697554, 831.2092636987013, 275.57311530045513, 294.0627390998824, 630.6913807360414, 2213.949411353295, 273.737577888425, 1307.7078151626613, 1065.6698960506471, 590.0965730909758, 772.0536772552921, 415.36599837399024, 1027.3470840686539, 473.4089405582758, 714.4434300606657, 911.2354707357334, 2088.4588965803173, 578.8836555573199, 440.05013723849123, 1370.1253218414633, 1581.922099516069, 663.4549748919726, 1162.966270060217, 1034.7240372121184, 632.7040049514511, 843.2060605715066, 573.285203729605, 892.7830525133838, 653.8501176301505, 603.5779098549002, 194.98635943520398, 128.73867938264826, 121.89076504459294, 87.61490710068753, 85.62143961907164, 215.2540928169287, 92.19366722794385, 64.42415655567709, 57.115979949818794, 53.933417183964174, 51.00053936243428, 109.8329680887462, 53.47526185992029, 50.09857369158754, 47.25044586643634, 44.800171181879115, 44.34673024540347, 51.81639077063686, 825.6021501777087, 39.79343507633896, 37.33578608862491, 36.1546019342096, 36.1339361256913, 35.613932718849355, 35.92649903639805, 35.11094227741848, 33.67908226930516, 37.49341131406573, 32.459823784469314, 31.707394612448017, 37.43263688460085, 144.5977096379943, 85.39883011293848, 203.79490199352657, 888.189132501271, 857.1947466274665, 77.85914397989569, 456.21496607564615, 104.76423455765112, 782.5770347136676, 126.72746836699984, 648.3397568375806, 1218.7552078177812, 665.7532837403204, 396.13087148625743, 206.30192288940387, 256.0392606698658, 286.0165658613114, 174.24457178026472, 943.4774679013798, 973.6642727266797, 235.07864147691316, 212.8250692030451, 1078.649227806404, 177.89434730655287, 326.34204863601934, 1678.1545812441436, 375.44788451461795, 361.85410941322937, 259.3834405526895, 1238.4029669439565, 439.3633877129752, 696.0159708312735, 682.7960531221114, 734.5332922316069, 419.46689620708645, 694.4400737704492, 876.3589904149653, 662.1579497033476, 815.1695333924536, 332.8611102234456, 741.6963843673108, 420.359723715729, 386.00449615098296, 451.39508601298616, 879.6748839723795, 576.577865919057, 586.70617867388, 422.5827189057828, 232.2169100212757, 173.64268996538854, 167.8122011586655, 128.27340199663746, 98.71170167847177, 94.74067817132985, 76.23757437020683, 63.228383513741385, 60.07946298984427, 57.027598235519314, 59.03282543696939, 56.21575721610439, 138.8675173307276, 53.53702179550197, 51.338112758727966, 50.58098099313065, 47.3918592895898, 46.96472414311865, 45.19143196598365, 55.84438489355869, 43.33301387052784, 42.50852364383626, 42.130759874835725, 38.44893658781017, 37.546262546741005, 35.68610335506468, 34.92126556762117, 32.964750864450394, 32.33803898283741, 32.07518438139967, 201.4310312636027, 54.32562697870159, 65.75301122938492, 152.65283604464418, 601.8706464606691, 353.31393991777486, 90.57131611264715, 301.5641295201982, 241.8774412861478, 617.7203641836032, 871.1924495452894, 147.94921526855526, 99.42822484154377, 329.89916866567194, 297.41149726359055, 84.16942944646857, 1370.2240604854326, 174.79870146402095, 124.17369651874046, 637.3809118294267, 206.73240506679954, 290.8376781413838, 142.03714002979518, 242.71339664736647, 205.0314145361893, 280.14038296253267, 317.2915949147272, 474.671389427396, 670.5006234404943, 724.4614414246332, 357.17732739238846, 1306.2359542512063, 488.7956203189646, 1024.0694318346298, 898.0539419837968, 771.6502290546752, 320.61894119682773, 596.2667484359317, 803.9889619296077, 412.1332248369344, 545.0245614848777, 298.7987976393118, 501.7281902097623, 321.2708941991513, 334.09188114825537, 300.22890288152934, 161.56424493191662, 94.49596859300173, 141.02183176043482, 89.55417094052858, 89.33229192946968, 87.8181169811832, 88.77634071930669, 71.36323307825646, 68.25622942006856, 63.93024061932822, 63.83847561802136, 62.86461503979243, 58.92416324513879, 58.42535260462059, 56.11869986448284, 54.25277351419755, 83.23043221268397, 48.716857996936675, 47.5987737820967, 46.53238231651493, 46.30786829275022, 44.52602984792992, 227.6747990057143, 42.43103062836812, 130.9451693480641, 40.58640320431391, 39.68493253396672, 37.64752293033263, 37.676663070844, 36.878874223971486, 284.9337162799969, 93.2099912156535, 85.06020691806074, 118.60721014955246, 131.27810183579024, 193.71800115116764, 75.17224423911412, 89.63180807959438, 101.42484847408157, 203.65167081521548, 90.71375888490789, 79.14842370604367, 166.80492961383385, 226.8680474685656, 176.61370514624068, 229.34754883628293, 135.25811073294972, 143.02405847383164, 561.4517308036982, 101.38244209313089, 121.08834358396302, 551.6964943529819, 317.8629138854216, 623.3040314033697, 310.13895311170324, 279.7818743794134, 376.45749995313093, 192.23393281864102, 363.3923957777975, 462.33086814512995, 208.25904067863465, 220.32885770183373, 192.5697738498037, 168.16244439495313, 160.56250245453757, 204.4750165500271, 182.99809475477414, 159.21839067922298, 148.31631281617828, 141.73283842414486, 231.24190504683406, 226.14507228660858, 165.01790016849378, 140.64995052923913, 139.30660757271477, 120.89630573365007, 91.94381915171341, 70.03500634403578, 63.40057599138038, 62.9893567386339, 72.18395700971638, 53.504710252839786, 51.91928208792719, 51.82603638445678, 49.60304277519047, 49.60291234134974, 45.66580067520376, 45.52362778881197, 43.601607851580376, 43.38841132347155, 42.035300321541676, 37.68054191283121, 34.91136142640602, 32.91099905972774, 32.228914613180905, 30.363502962824573, 30.268754854744305, 29.943237881679572, 29.21757887056413, 28.818743586362178, 66.82823239918093, 156.48133379299307, 291.7673810267949, 43.07907056209839, 55.799601893644294, 51.47137227887268, 48.212912716909244, 124.94616054701356, 160.46278330322005, 124.21229145025684, 72.66807428677996, 306.24650352402523, 123.74332865313248, 117.14845840128112, 290.7674075714243, 61.738472051652614, 74.76417992343441, 276.95046386738113, 75.9590022133183, 274.9416474554706, 386.3066983442403, 126.08086732897154, 98.83124767743115, 103.20113882710737, 109.6429473823078, 128.0956257269596, 207.96000553606345, 181.6196546808759, 107.60539687837353, 127.99350086055382, 128.01723981956604, 205.10939810140255, 133.62251335270906, 121.17722157951086, 117.92226923859806, 107.67769587319988, 315.1501024814153, 160.18351178989343, 136.4040386065211, 134.36106327014144, 106.04486386598451, 93.43108812739194, 406.3039439613516, 89.1135215007126, 85.33884749655219, 80.069401492843, 73.8307104291753, 73.42543764596891, 71.99926384324668, 68.70553589034543, 64.62685436807281, 63.198232520132045, 56.75787105027172, 56.0219004397326, 52.937288479202174, 50.98380132551394, 110.33146602881853, 50.081853249157746, 50.06068978797116, 49.38667457047641, 48.65288294072641, 44.912481569625584, 43.39610060876933, 42.46753279746918, 40.82009099412914, 39.79757117714445, 158.59649038908233, 146.4832274199281, 422.55850547966566, 232.46123967402607, 77.01278546564964, 145.64035001306146, 255.7931484389571, 199.24979672410612, 93.13140328371968, 237.17687168591704, 111.93808061316251, 140.02688969820912, 272.5115593900311, 239.9393429501489, 148.70945768720782, 188.37100135715482, 141.54405138699994, 186.40439620980902, 91.10633617001977, 136.6888587431907, 188.79686418555065, 174.2136250414112, 137.03486677764698, 115.78589603320371, 131.07933294425717, 115.13333098489413, 121.2384822846135, 174.7580979338809, 146.23158923812636, 138.82905950872822, 106.37484906553067, 94.75264450333064, 90.67899453100353, 83.71384966271377, 67.82197405987012, 64.23849809801948, 63.10680330057352, 62.5250710469193, 62.3063743588323, 60.650096170702355, 60.2662114669421, 60.14341570550372, 60.127658576556925, 59.064037471283434, 58.31079050819349, 57.82604059452281, 57.35873805032631, 55.10647338867891, 54.15949590992672, 49.64470593254875, 44.9682446616024, 41.19313714776709, 41.079018238204846, 38.245906889728666, 38.22927696655488, 35.537649819806724, 35.39586333324886, 45.43008904873059, 85.0064195950918, 412.81797714111224, 192.09766667720214, 128.8655216105671, 672.0115680347142, 74.70788198494756, 53.70342899482792, 88.28699338484849, 109.30617743850661, 236.85331143770802, 167.41206566493236, 271.31471869621237, 230.67852644605298, 136.11632138551892, 83.19030936756936, 190.2693628756987, 128.39612861775865, 95.27565686440603, 79.79139319569835, 73.52333417514129, 90.57247957504813, 71.73322044298473, 84.04320388618476, 83.76566383706732, 79.1328720802002, 73.71598753500145, 2833.6435751437784, 211.77139560584163, 303.2752913189285, 124.26630597571956, 121.79976995294787, 97.4244368431073, 93.1827283263779, 90.11290735327364, 87.19849792971371, 73.96752713769122, 69.66017317199164, 62.26834365700447, 59.240656164608346, 52.75278857740529, 47.25812848935776, 45.99161797187172, 42.0978916228001, 41.473420294353154, 40.29236052243797, 39.36165850577164, 41.40352245762195, 37.252402813432305, 34.02431367689294, 31.692901158207523, 30.76075089496908, 29.802104016185186, 125.69930607957255, 28.54078199946185, 26.902212739783668, 26.438309978022616, 1402.5137495074616, 90.31299206229748, 144.2798310487491, 407.41928161824785, 481.31031615003457, 63.644282845916194, 210.59090253910685, 404.70185051975994, 365.05213367188685, 81.78598490592614, 286.7309590519822, 188.98915891222296, 200.2325225261475, 86.73212895096391, 99.6480536408498, 126.05882384601342, 138.53867099849552, 88.78426495893585, 133.99305738369443, 198.68208431765262, 102.79267969776583, 145.01802541454424, 95.93935023645203, 91.93067928553225, 641.472222899954, 433.73724240503026, 276.9532562479848, 210.48616168339427, 161.8022998711405, 141.25033354715973, 113.36941331150271, 96.57109958058705, 341.1931995977631, 76.32433028294408, 69.7583490814752, 56.336609539951375, 53.58003158932412, 322.22264740192725, 52.67240659190487, 198.65224964079022, 49.95800995667772, 43.23051903212112, 41.035001818295264, 43.88618393732553, 175.2769070319377, 37.01680463023778, 33.856609231424095, 33.17062476840761, 554.4407403248292, 451.3071303081338, 32.481580551718025, 30.652471322201826, 27.818190321448988, 54.16429562361025, 335.4257565236287, 135.17290426702525, 274.9051075725225, 153.22423577339066, 807.0755429719635, 1043.9914796265853, 59.895780139003584, 141.65459431798737, 61.53369546800635, 150.88602006704102, 280.9196183098968, 240.62903609452692, 123.74341184034543, 116.77445651333133, 102.25838941898097, 203.9048122188301, 282.4054235744027, 126.62286838656914, 137.71015287940514, 151.17402211167268, 114.18416952319923, 276.6876521436813, 230.4439124981474, 200.52581811825817, 132.07228121279817, 128.96845831991834, 128.2933151604667, 128.01943818910559, 126.92306700734044, 111.58569913677705, 105.9243533209889, 89.16568164998087, 88.51579369429766, 84.00741040593029, 78.29943144327376, 75.88558677556742, 75.67605567119894, 74.07664778156992, 68.29044205581656, 66.57361829379484, 63.361701614231144, 58.331894920923524, 57.67341943868157, 55.393404632623714, 54.901518835569156, 54.42676265498363, 53.41599033252777, 52.49119550811838, 52.31179647445293, 51.25568973599715, 51.11815678749926, 2178.1427808118774, 620.7260482980752, 659.4117195290007, 86.42829775414778, 365.20636135625506, 168.34078332790514, 135.3556848859373, 279.27720790375315, 75.52337338682736, 66.99343020723138, 377.2991133059138, 69.65804731055745, 140.9215531577637, 112.80178831445681, 79.3571966193983, 92.05528589092621, 86.8552659397166, 79.51692158428101, 224.18522733739889, 221.97540220258958, 222.3472653001364, 191.51531253330066, 178.79144788733126, 162.16838244237533, 137.79171325642605, 127.52882209599969, 108.84485664756023, 91.5329672051129, 85.29971044759365, 74.64747509627753, 73.70018440192521, 71.83498152959712, 71.11846112561315, 63.192867489641756, 62.60077065113874, 62.155099141772794, 58.486510935352996, 56.77698499652387, 50.58913352455356, 49.434522787000226, 48.56578311983437, 48.555237809433216, 45.40844534561861, 44.60579273865164, 44.12263879810351, 43.15642728788604, 42.13327518996385, 42.06702167097436, 103.41032173328601, 165.7051352866379, 102.86230435066642, 650.5812760043119, 72.37333846170243, 186.0526957290188, 82.57359439158768, 194.34693425925207, 176.60164453266881, 322.2162083869789, 257.9869451044082, 85.06849626711703, 250.6763787354278, 96.13022024331548, 84.63297582364817, 187.242122636775, 111.27971070462694, 116.42697863093635, 90.86888424049842, 562.4008783031138, 158.0429265872801, 130.16443495879622, 127.91439869996131, 116.71282066036024, 114.2973068529626, 108.92441410008662, 102.58153084013959, 93.36798445070254, 73.06027185537368, 68.3303734355092, 67.94356762739672, 64.85040305634998, 62.94681786238477, 61.46476285207354, 45.4414837681494, 42.86869562691715, 41.48095720250796, 140.7347867227373, 39.814182646856, 38.153011280943765, 35.4791460358737, 153.95793401705617, 241.46587887272443, 34.2097178077557, 31.5506215199584, 28.18411233578366, 25.64020530835946, 30.283333556312535, 114.43204612701129, 1135.1394559599728, 203.1201667850645, 126.42423106812716, 78.337575187815, 129.94680290201737, 151.19288444615282, 216.55939699235378, 82.67985246072048, 92.13800956343589, 67.51791998256778, 80.13494437837916, 78.94962288194058, 72.7758273097823, 114.04491418336019, 111.83352498585062, 75.86799082591192, 78.07046112237255, 1272.1317142607552, 161.82306347240763, 119.99416158933974, 94.99938498223288, 62.915235959742475, 58.844184008323516, 58.40456152199895, 55.35018589291984, 47.48779658313598, 45.474356744759824, 45.03467162641711, 44.22500247499592, 41.30791622969972, 38.58233364309634, 673.7975895104584, 34.90263159388047, 34.13877150053356, 33.862827354972076, 32.664902323044366, 32.56133819330083, 30.09394775058152, 29.068768087910954, 28.616928182579425, 27.689183062809537, 27.24419510026353, 27.75884239339501, 26.830642147626573, 26.798449290297913, 26.382779375447516, 26.119324054304975, 212.65085021378644, 58.80576135292296, 86.49770648773287, 368.0662239808779, 107.5106984711548, 210.82458407391505, 50.30922703484693, 110.14654607762198, 34.16371574562842, 44.1153463376204, 42.96995704251619, 81.57201559586163, 79.08472278550848, 49.63690572375892, 57.641883086061114, 39.372716308395475, 47.122338757235745, 44.26000124673766, 45.33943902673082], \"Total\": [12809.0, 2842.0, 2319.0, 1274.0, 1212.0, 1534.0, 1314.0, 2427.0, 690.0, 978.0, 3854.0, 2679.0, 3538.0, 1014.0, 808.0, 769.0, 563.0, 2157.0, 642.0, 648.0, 2230.0, 570.0, 1491.0, 3315.0, 478.0, 570.0, 1144.0, 1705.0, 464.0, 2777.0, 428.5940205801454, 214.13879298875844, 1097.980665649442, 2427.458892048537, 128.85736892827828, 102.77329964100255, 98.9547017465745, 82.01838618686446, 79.9546319763125, 72.16086335591541, 63.865346208882016, 60.15594959875869, 57.99739745006166, 271.071474620055, 53.16589626593987, 90.69000543021389, 1015.3254320969091, 55.034505307920064, 49.82630696985221, 48.45995559725741, 46.54000170322442, 46.47607071329634, 77.56765460332407, 37.197404730491066, 36.953107987378935, 36.229979677194464, 35.21426559790413, 32.97883329464886, 31.64617306738995, 31.552190041594045, 339.0139560015112, 463.800305075821, 58.51343225441721, 12809.29965175411, 2679.1249717938645, 168.08432696280317, 387.68399120053186, 1582.9055283732325, 668.3780588211798, 181.06244229779998, 155.844528156357, 1163.1246157155956, 2157.419179048372, 163.5956386765227, 2165.470837837554, 994.8592166191655, 308.0760047478423, 330.57511414789064, 780.5495324023956, 3215.0608657099574, 316.0508211418173, 1831.4822251891082, 1479.1907664356627, 755.8192477274939, 1034.7510415043648, 510.86271685133227, 1456.5198285258666, 596.994717639809, 965.8097483638026, 1293.23138348413, 3604.386217235075, 767.8252317149447, 556.6967136595516, 2777.2924720713654, 3538.5065304079885, 1046.5949316947351, 2934.721390077844, 2455.6658701046745, 1058.1946227151452, 1907.225665535649, 933.1111260302589, 3315.6038003746926, 2911.696182540725, 1327.3100800387845, 195.9057543401055, 129.65805254504062, 122.81017899554524, 88.53430989199707, 86.54080827818738, 217.64526658507336, 93.37000773402768, 65.34352943319409, 58.03534411992376, 54.85278781644631, 51.92069313439467, 111.83278542449135, 54.456103334409086, 51.018007292912884, 48.16984035209912, 45.71956622518255, 45.266430043130875, 52.90395805296578, 843.6339701175646, 40.71457315919061, 38.255152672744636, 37.07397080515184, 37.05330226418416, 36.53329950763364, 36.86619780876261, 36.03039397849046, 34.60028321513378, 38.52517845987482, 33.37920466769878, 32.63356400732863, 38.57717673746521, 152.03119581817845, 89.14302356724959, 217.03824636117994, 994.9867057217084, 979.7197147265108, 82.5642552408678, 545.5863574192158, 116.01437986867553, 1024.692727615393, 143.20899140598644, 847.2197173838871, 1705.030681402334, 884.4757006319232, 505.2889605761025, 246.1195959477136, 313.060870858883, 355.167537321305, 205.22683560265867, 1373.3525961973319, 1474.981106312116, 293.4846783231937, 262.9182942665382, 1740.3779466680433, 220.58477376505442, 471.24928056360494, 3854.9354712361965, 569.2633137604197, 557.438860879473, 360.71410117265185, 2934.721390077844, 759.4331465476822, 1500.4445325148429, 1540.7432505556405, 1788.1740091980448, 775.1604897381914, 1916.7943830455295, 2911.696182540725, 1906.7879326687394, 3215.0608657099574, 580.4318485942122, 3538.5065304079885, 1058.1946227151452, 857.7207980384886, 1327.3100800387845, 12809.29965175411, 3315.6038003746926, 3604.386217235075, 1907.225665535649, 233.14628418298787, 174.57002246260114, 168.73959643902813, 129.20084851856635, 99.6390441022689, 95.66801033609687, 77.1650210874883, 64.15571585452112, 61.00682856556828, 57.9549554827489, 59.99560291773252, 57.14312315502727, 141.2239104914835, 54.46436756413419, 52.26544516481394, 51.50845838788456, 48.31919173932884, 47.89205929895221, 46.1187824633425, 57.01906014346058, 44.26039036963581, 43.43589754346273, 43.0580953453654, 39.37627590087776, 38.473618786855326, 36.613839466374394, 35.85475670947503, 33.892082454419075, 33.26538266504419, 33.00252148346071, 208.99095894662955, 55.948476110580614, 68.3354979441638, 165.18485823928728, 697.7939836034991, 401.1158453205374, 97.67344120850719, 351.5038600967175, 278.81137493791977, 777.2064570440914, 1172.5652348106976, 167.51937667960047, 108.90578167860782, 418.1366599476746, 375.8882700049825, 91.16971639207235, 2230.8269231795775, 210.9849130234653, 143.02271810711443, 967.345362736102, 261.0703440959857, 393.038880133853, 169.72633906160044, 327.90189090100074, 271.4847433476174, 408.2558466813755, 483.8462498070141, 825.3066419949948, 1343.0770574371868, 1491.6811452616635, 596.0269881902133, 3854.9354712361965, 998.6994992261938, 3315.6038003746926, 2911.696182540725, 2455.6658701046745, 595.1478162172998, 1906.7879326687394, 3538.5065304079885, 1053.3480281777536, 1907.225665535649, 600.6361059033139, 2777.2924720713654, 868.150093081757, 1082.036228473375, 1474.981106312116, 162.4824430937378, 95.41413814348631, 142.3922404233847, 90.47233905305431, 90.25044046261392, 88.7362634034885, 89.79086540440527, 72.28137718917887, 69.1743815262551, 64.84839723755893, 64.75664852002865, 63.782795646534325, 59.843034138621576, 59.343496883365695, 57.036895792012665, 55.17093019780609, 84.72869352223466, 49.635180065849276, 48.51691776162699, 47.450543498711454, 47.22601978333243, 45.44419369015324, 232.40479535487094, 43.349334444768765, 133.8628190595178, 41.50456507363185, 40.60308041102801, 38.56567415948821, 38.60360055567368, 37.797472519184474, 302.8925854379727, 98.33541796436705, 89.41495949934219, 126.6573431068042, 148.24643555722454, 233.92688678182978, 82.03771688651366, 100.24648580763005, 116.63880986394656, 270.3450942554994, 103.74429337579049, 88.83798907388949, 234.3529434529466, 366.1216372410912, 270.0878101675693, 395.1879846547582, 190.03870215346697, 207.77857415561846, 1698.282758127614, 135.01936201753958, 185.53009138197083, 2777.2924720713654, 1054.27868635603, 3604.386217235075, 1144.8400398033457, 940.1820280437254, 1788.1740091980448, 459.74682860919677, 1916.7943830455295, 3315.6038003746926, 616.9885452317477, 847.4936371046247, 717.7077986685048, 515.1962162353602, 528.6229045250235, 2455.6658701046745, 2230.8269231795775, 779.9522934529639, 545.7104969925803, 1317.6635788099588, 232.16589537539411, 227.14114283303348, 165.94190139622998, 141.573941184386, 140.23076147094903, 121.82031594846468, 92.86861502972512, 70.98349364475945, 64.32458548989825, 63.91334930472777, 73.24488164718024, 54.4287834233138, 52.843283722341795, 52.75002481825496, 50.52702734782852, 50.52689713317468, 46.58982120601038, 46.447620114442024, 44.525644866384134, 44.31242028470825, 42.95929846043519, 38.60454349902684, 35.83537802376746, 33.85262848986224, 33.152904047630145, 31.29015941271193, 31.197894476326354, 30.868286889102688, 30.141580394556865, 29.742764482265375, 71.32137154829181, 174.38132866662465, 336.396727832582, 45.30097818968055, 60.877581588958364, 56.07757767248224, 52.593875137457076, 160.75341968666228, 225.14133597474236, 177.36207188172634, 89.28198705291659, 619.0124254489061, 198.41375498166644, 187.73183495256995, 739.5852774458084, 75.3795715436383, 104.2784651946944, 1053.3480281777536, 110.63424095035086, 1491.6811452616635, 3538.5065304079885, 335.9648646382131, 207.87735602694727, 248.33160368570387, 309.3206568789688, 488.93245581604396, 2157.419179048372, 1479.1907664356627, 406.25176292710705, 1144.8400398033457, 1163.1246157155956, 12809.29965175411, 1698.282758127614, 3604.386217235075, 2777.2924720713654, 1343.0770574371868, 316.6742534837394, 161.10461793605018, 137.33110066118377, 135.28218180442087, 106.96597161926822, 94.36368785615441, 410.38131540799185, 90.03463017811718, 86.25995443917117, 80.9905075536838, 74.7518212716751, 74.34654438883443, 72.92037086302952, 69.62703539396897, 65.54824111207421, 64.11937168389228, 57.67898389246041, 56.94302899711505, 53.858394815548536, 51.904944636159094, 112.33156420925641, 51.002958221289454, 50.981805103476866, 50.30779152973906, 49.574194439491215, 45.8335883215917, 44.3172184904649, 43.38869641313977, 41.741369291846894, 40.71876496633805, 166.59333969885, 156.1646886734568, 481.36901691649877, 273.0055795583183, 82.33794517704408, 169.18587864617393, 359.6106334581506, 270.37280748375537, 113.65336792546293, 389.43215958918023, 145.46216157997608, 198.37553724084495, 545.7104969925803, 512.8686824775075, 244.02997739761298, 363.09250815948303, 245.1790914449738, 433.85398766929796, 115.43836010774736, 272.02242443413246, 825.3066419949948, 738.1586254687571, 511.0814153951558, 369.0472734859193, 902.1369629230999, 505.8641633620134, 2777.2924720713654, 175.68005937287583, 147.15271019455915, 139.75005719119488, 107.29584336645317, 95.67439324530677, 91.59999458345021, 84.6348484527255, 68.74297729944533, 65.15950561600107, 64.02800208089964, 63.44607709254595, 63.2274164869944, 61.57109441757472, 61.18720425163711, 61.0644265575088, 61.04867833300957, 59.985036553186724, 59.23179256582366, 58.747033637647164, 58.27973165512289, 56.027465204495854, 55.08049992619951, 50.5658280612511, 45.88927483394027, 42.11414664178891, 42.00047404155937, 39.16690262477151, 39.15031069346828, 36.45888968641332, 36.316866015086994, 47.25875102178434, 94.47844451823957, 560.6082385998427, 238.87590482997538, 153.84463618936329, 1014.0154841489124, 88.38337030914906, 62.99472123975193, 153.4747186340603, 260.06195578809223, 1500.4445325148429, 902.1369629230999, 3854.9354712361965, 3315.6038003746926, 779.9522934529639, 178.55613298596433, 2911.696182540725, 1456.5198285258666, 505.2889605761025, 310.95181063431625, 223.16147614084474, 1317.6635788099588, 204.00277922067323, 1906.7879326687394, 2777.2924720713654, 1788.1740091980448, 1151.0121557033788, 2842.548224468011, 212.69210285934665, 305.1114554396833, 125.18703175918273, 122.72052993656243, 98.3451573689915, 94.10344233389107, 91.03363380403438, 88.1192110447097, 74.88826689309893, 70.5809416966786, 63.19281765130762, 60.16137047291488, 53.67349958370262, 48.17891383299563, 46.91233347315709, 43.01932026970945, 42.39414710265227, 41.21464437412459, 40.28241995258331, 42.42404534190344, 38.1731166749473, 34.94503882470831, 32.6136134303658, 31.681458547426335, 30.722817132322447, 129.6101803113011, 29.461496802478, 27.822932225195352, 27.359019160316894, 1534.0268107505283, 94.8562443299477, 158.4518512306198, 469.1656500784794, 570.5896577470651, 68.40980601293539, 244.39048855408183, 528.6401392722094, 476.7211617336178, 90.89228980946301, 378.16073414867884, 249.32046065585922, 305.391119198142, 107.00908752281119, 149.35223363940173, 235.10464907269932, 334.8484768108411, 142.93378110079738, 421.5309237724015, 1916.7943830455295, 245.1790914449738, 1788.1740091980448, 292.9940383259054, 512.8686824775075, 642.3977479612109, 434.7403498070244, 277.8789688856711, 211.4116384222228, 162.72783007140347, 142.1758272364964, 114.29489011186263, 97.49700107660263, 344.76641352716, 77.25008653514583, 70.68384395604663, 57.26209019677305, 54.5058216371685, 327.84084360370383, 53.597887283295094, 202.22007150473442, 50.88349680907507, 44.15599551087436, 41.960477730006325, 44.883351209505214, 179.64194755004348, 37.94229150595902, 34.782209642363185, 34.096107929869575, 570.0758644272031, 464.0412253167953, 33.40706449821129, 31.5779539894406, 28.743797286597957, 55.98768645335908, 351.3160442526246, 143.76738235155753, 310.8429137779207, 168.90916900055612, 978.0087232551294, 1314.5642880563323, 64.89140380984291, 179.66772254285115, 67.25663260037379, 220.07294460540467, 505.8641633620134, 528.6229045250235, 199.730882599681, 185.9910861178123, 152.78727699168883, 511.0814153951558, 1144.8400398033457, 254.39216706838909, 369.0472734859193, 700.0515878510987, 298.42746734636364, 277.61009744902725, 231.3664411144231, 201.44826446296625, 132.99472820145394, 129.89095422816905, 129.21583082778056, 128.94196856115212, 127.84551856109162, 112.5081497861279, 106.84692511388585, 90.08812578231503, 89.43915707601852, 84.92985733702562, 79.22187589152145, 76.80803528836176, 76.598526482554, 74.99909217206185, 69.2128966799829, 67.49607995706225, 64.28415062959385, 59.25434035685092, 58.59587905504889, 56.31585257754866, 55.82397209245052, 55.34920799465033, 54.338473088250545, 53.41364372254114, 53.23424396345203, 52.17813507494227, 52.040609690194685, 2319.840052711154, 648.6716274661492, 769.9403987752321, 90.58720237332649, 440.75543999712977, 189.9988044879375, 153.9163045745748, 359.21110032271275, 81.14555441209647, 70.51816608084968, 700.0515878510987, 74.773916309068, 260.74626948586666, 484.723642494216, 214.14300560633046, 1788.1740091980448, 1916.7943830455295, 560.6082385998427, 225.11122019149204, 222.90098160565645, 223.29308200782614, 192.44100581059516, 179.71701898405155, 163.0939627863338, 138.71760587026642, 128.45440361510023, 109.77053713479681, 92.45856034682784, 86.22528612073852, 75.57415430412452, 74.6257778833671, 72.76055501064413, 72.04403012221152, 64.11850202945601, 63.52634529314258, 63.080668507648916, 59.41209339761163, 57.70258731176287, 51.51472916788408, 50.36010488396848, 49.49135339671476, 49.48082441077968, 46.33403493673419, 45.53136309536974, 45.048211499609856, 44.08203443243245, 43.05885807985138, 42.992595459015334, 105.79086787073474, 173.747302253841, 107.55278531762028, 808.2895944915895, 76.37133048928415, 216.71147754168777, 89.86330311893519, 237.6931788574471, 221.18405067839592, 484.723642494216, 418.8890824289046, 105.68105908662417, 589.4556808416064, 147.89328723007907, 116.2031225126405, 1144.8400398033457, 277.3117275648519, 335.9648646382131, 252.48442537652323, 563.3293311526307, 158.97130841442942, 131.09284094769205, 128.84280575797263, 117.64120224665449, 115.23641189978002, 109.85279508773543, 103.5099191480255, 94.29636880799798, 73.98865931604858, 69.2587579475291, 68.87195223598002, 65.77932264345293, 63.87542771163179, 62.39315322387636, 46.36992643070269, 43.79708536604176, 42.40936020037188, 143.9606827025159, 40.74257112418567, 39.08139185672094, 36.4075316138864, 158.11086718285597, 247.9973861507042, 35.13811527184264, 32.482282173069294, 29.113390614522658, 26.56894798721599, 31.416252499887293, 119.0550428698731, 1212.7853126338923, 215.96975116166985, 136.98109504944762, 83.60118178580919, 149.91240421872166, 177.5161752230704, 266.37270751737424, 91.90406407968968, 113.5854719712371, 78.54963676988477, 98.59248422359951, 131.13432611604344, 103.18544593506124, 580.4318485942122, 1314.5642880563323, 175.78030201700656, 1788.1740091980448, 1274.272052564338, 162.7492690724691, 120.92056411149026, 95.92559134960736, 63.84144298250004, 59.77038969308693, 59.33076666150582, 56.27639089141326, 48.4140057773898, 46.4005631698645, 45.960876285150704, 45.151206708949985, 42.234121171353934, 39.50854389201613, 690.319659319511, 35.828840102301214, 35.064997079064845, 34.789054546459454, 33.59111179704654, 33.48754640662823, 31.02017144288497, 29.994977539475116, 29.543132038898182, 28.61541556015006, 28.170406247726003, 28.71244378908424, 27.756846579279806, 27.724661402010415, 27.30899172593745, 27.045531792522087, 236.89410288508984, 62.6724709445993, 98.38458674468497, 478.77253264330926, 129.16539249125174, 286.1655792068975, 59.469704910770524, 175.85546333327693, 38.4070903901996, 57.975292164988794, 56.61363805799124, 210.15392321588791, 359.21110032271275, 160.69762282018038, 808.2895944915895, 92.33156604097832, 596.0269881902133, 779.9522934529639, 2934.721390077844], \"Category\": [\"Default\", \"Default\", \"Default\", \"Default\", \"Default\", \"Default\", \"Default\", \"Default\", \"Default\", \"Default\", \"Default\", \"Default\", \"Default\", \"Default\", \"Default\", \"Default\", \"Default\", \"Default\", \"Default\", \"Default\", \"Default\", \"Default\", \"Default\", \"Default\", \"Default\", \"Default\", \"Default\", \"Default\", \"Default\", \"Default\", \"Topic1\", \"Topic1\", \"Topic1\", \"Topic1\", \"Topic1\", \"Topic1\", \"Topic1\", \"Topic1\", \"Topic1\", \"Topic1\", \"Topic1\", \"Topic1\", \"Topic1\", \"Topic1\", \"Topic1\", \"Topic1\", \"Topic1\", \"Topic1\", \"Topic1\", \"Topic1\", \"Topic1\", \"Topic1\", \"Topic1\", \"Topic1\", \"Topic1\", \"Topic1\", \"Topic1\", \"Topic1\", \"Topic1\", \"Topic1\", \"Topic1\", \"Topic1\", \"Topic1\", \"Topic1\", \"Topic1\", \"Topic1\", \"Topic1\", \"Topic1\", \"Topic1\", \"Topic1\", \"Topic1\", \"Topic1\", \"Topic1\", \"Topic1\", \"Topic1\", \"Topic1\", \"Topic1\", \"Topic1\", \"Topic1\", \"Topic1\", \"Topic1\", \"Topic1\", \"Topic1\", \"Topic1\", \"Topic1\", \"Topic1\", \"Topic1\", \"Topic1\", \"Topic1\", \"Topic1\", \"Topic1\", \"Topic1\", \"Topic1\", \"Topic1\", \"Topic1\", \"Topic1\", \"Topic1\", \"Topic1\", \"Topic1\", \"Topic1\", \"Topic1\", \"Topic1\", \"Topic1\", \"Topic1\", \"Topic2\", \"Topic2\", \"Topic2\", \"Topic2\", \"Topic2\", \"Topic2\", \"Topic2\", \"Topic2\", \"Topic2\", \"Topic2\", \"Topic2\", \"Topic2\", \"Topic2\", \"Topic2\", \"Topic2\", \"Topic2\", \"Topic2\", \"Topic2\", \"Topic2\", \"Topic2\", \"Topic2\", \"Topic2\", \"Topic2\", \"Topic2\", \"Topic2\", \"Topic2\", \"Topic2\", \"Topic2\", \"Topic2\", \"Topic2\", \"Topic2\", \"Topic2\", \"Topic2\", \"Topic2\", \"Topic2\", \"Topic2\", \"Topic2\", \"Topic2\", \"Topic2\", \"Topic2\", \"Topic2\", \"Topic2\", \"Topic2\", \"Topic2\", \"Topic2\", \"Topic2\", \"Topic2\", \"Topic2\", \"Topic2\", \"Topic2\", \"Topic2\", \"Topic2\", \"Topic2\", \"Topic2\", \"Topic2\", \"Topic2\", \"Topic2\", \"Topic2\", \"Topic2\", \"Topic2\", \"Topic2\", \"Topic2\", \"Topic2\", \"Topic2\", \"Topic2\", \"Topic2\", \"Topic2\", \"Topic2\", \"Topic2\", \"Topic2\", \"Topic2\", \"Topic2\", \"Topic2\", \"Topic2\", \"Topic2\", \"Topic2\", \"Topic2\", \"Topic2\", \"Topic2\", \"Topic3\", \"Topic3\", \"Topic3\", \"Topic3\", \"Topic3\", \"Topic3\", \"Topic3\", \"Topic3\", \"Topic3\", \"Topic3\", \"Topic3\", \"Topic3\", \"Topic3\", \"Topic3\", \"Topic3\", \"Topic3\", \"Topic3\", \"Topic3\", \"Topic3\", \"Topic3\", \"Topic3\", \"Topic3\", \"Topic3\", \"Topic3\", \"Topic3\", \"Topic3\", \"Topic3\", \"Topic3\", \"Topic3\", \"Topic3\", \"Topic3\", \"Topic3\", \"Topic3\", \"Topic3\", \"Topic3\", \"Topic3\", \"Topic3\", \"Topic3\", \"Topic3\", \"Topic3\", \"Topic3\", \"Topic3\", \"Topic3\", \"Topic3\", \"Topic3\", \"Topic3\", \"Topic3\", \"Topic3\", \"Topic3\", \"Topic3\", \"Topic3\", \"Topic3\", \"Topic3\", \"Topic3\", \"Topic3\", \"Topic3\", \"Topic3\", \"Topic3\", \"Topic3\", \"Topic3\", \"Topic3\", \"Topic3\", \"Topic3\", \"Topic3\", \"Topic3\", \"Topic3\", \"Topic3\", \"Topic3\", \"Topic3\", \"Topic3\", \"Topic3\", \"Topic3\", \"Topic3\", \"Topic3\", \"Topic3\", \"Topic3\", \"Topic4\", \"Topic4\", \"Topic4\", \"Topic4\", \"Topic4\", \"Topic4\", \"Topic4\", \"Topic4\", \"Topic4\", \"Topic4\", \"Topic4\", \"Topic4\", \"Topic4\", \"Topic4\", \"Topic4\", \"Topic4\", \"Topic4\", \"Topic4\", \"Topic4\", \"Topic4\", \"Topic4\", \"Topic4\", \"Topic4\", \"Topic4\", \"Topic4\", \"Topic4\", \"Topic4\", \"Topic4\", \"Topic4\", \"Topic4\", \"Topic4\", \"Topic4\", \"Topic4\", \"Topic4\", \"Topic4\", \"Topic4\", \"Topic4\", \"Topic4\", \"Topic4\", \"Topic4\", \"Topic4\", \"Topic4\", \"Topic4\", \"Topic4\", \"Topic4\", \"Topic4\", \"Topic4\", \"Topic4\", \"Topic4\", \"Topic4\", \"Topic4\", \"Topic4\", \"Topic4\", \"Topic4\", \"Topic4\", \"Topic4\", \"Topic4\", \"Topic4\", \"Topic4\", \"Topic4\", \"Topic4\", \"Topic4\", \"Topic4\", \"Topic4\", \"Topic4\", \"Topic4\", \"Topic4\", \"Topic4\", \"Topic4\", \"Topic4\", \"Topic5\", \"Topic5\", \"Topic5\", \"Topic5\", \"Topic5\", \"Topic5\", \"Topic5\", \"Topic5\", \"Topic5\", \"Topic5\", \"Topic5\", \"Topic5\", \"Topic5\", \"Topic5\", \"Topic5\", \"Topic5\", \"Topic5\", \"Topic5\", \"Topic5\", \"Topic5\", \"Topic5\", \"Topic5\", \"Topic5\", \"Topic5\", \"Topic5\", \"Topic5\", \"Topic5\", \"Topic5\", \"Topic5\", \"Topic5\", \"Topic5\", \"Topic5\", \"Topic5\", \"Topic5\", \"Topic5\", \"Topic5\", \"Topic5\", \"Topic5\", \"Topic5\", \"Topic5\", \"Topic5\", \"Topic5\", \"Topic5\", \"Topic5\", \"Topic5\", \"Topic5\", \"Topic5\", \"Topic5\", \"Topic5\", \"Topic5\", \"Topic5\", \"Topic5\", \"Topic5\", \"Topic5\", \"Topic5\", \"Topic5\", \"Topic5\", \"Topic5\", \"Topic5\", \"Topic5\", \"Topic5\", \"Topic5\", \"Topic5\", \"Topic5\", \"Topic5\", \"Topic5\", \"Topic6\", \"Topic6\", \"Topic6\", \"Topic6\", \"Topic6\", \"Topic6\", \"Topic6\", \"Topic6\", \"Topic6\", \"Topic6\", \"Topic6\", \"Topic6\", \"Topic6\", \"Topic6\", \"Topic6\", \"Topic6\", \"Topic6\", \"Topic6\", \"Topic6\", \"Topic6\", \"Topic6\", \"Topic6\", \"Topic6\", \"Topic6\", \"Topic6\", \"Topic6\", \"Topic6\", \"Topic6\", \"Topic6\", \"Topic6\", \"Topic6\", \"Topic6\", \"Topic6\", \"Topic6\", \"Topic6\", \"Topic6\", \"Topic6\", \"Topic6\", \"Topic6\", \"Topic6\", \"Topic6\", \"Topic6\", \"Topic6\", \"Topic6\", \"Topic6\", \"Topic6\", \"Topic6\", \"Topic6\", \"Topic6\", \"Topic6\", \"Topic6\", \"Topic6\", \"Topic6\", \"Topic6\", \"Topic6\", \"Topic6\", \"Topic6\", \"Topic7\", \"Topic7\", \"Topic7\", \"Topic7\", \"Topic7\", \"Topic7\", \"Topic7\", \"Topic7\", \"Topic7\", \"Topic7\", \"Topic7\", \"Topic7\", \"Topic7\", \"Topic7\", \"Topic7\", \"Topic7\", \"Topic7\", \"Topic7\", \"Topic7\", \"Topic7\", \"Topic7\", \"Topic7\", \"Topic7\", \"Topic7\", \"Topic7\", \"Topic7\", \"Topic7\", \"Topic7\", \"Topic7\", \"Topic7\", \"Topic7\", \"Topic7\", \"Topic7\", \"Topic7\", \"Topic7\", \"Topic7\", \"Topic7\", \"Topic7\", \"Topic7\", \"Topic7\", \"Topic7\", \"Topic7\", \"Topic7\", \"Topic7\", \"Topic7\", \"Topic7\", \"Topic7\", \"Topic7\", \"Topic7\", \"Topic7\", \"Topic7\", \"Topic7\", \"Topic7\", \"Topic7\", \"Topic7\", \"Topic7\", \"Topic7\", \"Topic8\", \"Topic8\", \"Topic8\", \"Topic8\", \"Topic8\", \"Topic8\", \"Topic8\", \"Topic8\", \"Topic8\", \"Topic8\", \"Topic8\", \"Topic8\", \"Topic8\", \"Topic8\", \"Topic8\", \"Topic8\", \"Topic8\", \"Topic8\", \"Topic8\", \"Topic8\", \"Topic8\", \"Topic8\", \"Topic8\", \"Topic8\", \"Topic8\", \"Topic8\", \"Topic8\", \"Topic8\", \"Topic8\", \"Topic8\", \"Topic8\", \"Topic8\", \"Topic8\", \"Topic8\", \"Topic8\", \"Topic8\", \"Topic8\", \"Topic8\", \"Topic8\", \"Topic8\", \"Topic8\", \"Topic8\", \"Topic8\", \"Topic8\", \"Topic8\", \"Topic8\", \"Topic8\", \"Topic8\", \"Topic8\", \"Topic8\", \"Topic8\", \"Topic8\", \"Topic8\", \"Topic8\", \"Topic9\", \"Topic9\", \"Topic9\", \"Topic9\", \"Topic9\", \"Topic9\", \"Topic9\", \"Topic9\", \"Topic9\", \"Topic9\", \"Topic9\", \"Topic9\", \"Topic9\", \"Topic9\", \"Topic9\", \"Topic9\", \"Topic9\", \"Topic9\", \"Topic9\", \"Topic9\", \"Topic9\", \"Topic9\", \"Topic9\", \"Topic9\", \"Topic9\", \"Topic9\", \"Topic9\", \"Topic9\", \"Topic9\", \"Topic9\", \"Topic9\", \"Topic9\", \"Topic9\", \"Topic9\", \"Topic9\", \"Topic9\", \"Topic9\", \"Topic9\", \"Topic9\", \"Topic9\", \"Topic9\", \"Topic9\", \"Topic9\", \"Topic9\", \"Topic9\", \"Topic9\", \"Topic9\", \"Topic9\", \"Topic9\", \"Topic9\", \"Topic9\", \"Topic10\", \"Topic10\", \"Topic10\", \"Topic10\", \"Topic10\", \"Topic10\", \"Topic10\", \"Topic10\", \"Topic10\", \"Topic10\", \"Topic10\", \"Topic10\", \"Topic10\", \"Topic10\", \"Topic10\", \"Topic10\", \"Topic10\", \"Topic10\", \"Topic10\", \"Topic10\", \"Topic10\", \"Topic10\", \"Topic10\", \"Topic10\", \"Topic10\", \"Topic10\", \"Topic10\", \"Topic10\", \"Topic10\", \"Topic10\", \"Topic10\", \"Topic10\", \"Topic10\", \"Topic10\", \"Topic10\", \"Topic10\", \"Topic10\", \"Topic10\", \"Topic10\", \"Topic10\", \"Topic10\", \"Topic10\", \"Topic10\", \"Topic10\", \"Topic10\", \"Topic10\", \"Topic10\", \"Topic10\", \"Topic11\", \"Topic11\", \"Topic11\", \"Topic11\", \"Topic11\", \"Topic11\", \"Topic11\", \"Topic11\", \"Topic11\", \"Topic11\", \"Topic11\", \"Topic11\", \"Topic11\", \"Topic11\", \"Topic11\", \"Topic11\", \"Topic11\", \"Topic11\", \"Topic11\", \"Topic11\", \"Topic11\", \"Topic11\", \"Topic11\", \"Topic11\", \"Topic11\", \"Topic11\", \"Topic11\", \"Topic11\", \"Topic11\", \"Topic11\", \"Topic11\", \"Topic11\", \"Topic11\", \"Topic11\", \"Topic11\", \"Topic11\", \"Topic11\", \"Topic11\", \"Topic11\", \"Topic11\", \"Topic11\", \"Topic11\", \"Topic11\", \"Topic11\", \"Topic11\", \"Topic11\", \"Topic11\", \"Topic11\", \"Topic11\", \"Topic12\", \"Topic12\", \"Topic12\", \"Topic12\", \"Topic12\", \"Topic12\", \"Topic12\", \"Topic12\", \"Topic12\", \"Topic12\", \"Topic12\", \"Topic12\", \"Topic12\", \"Topic12\", \"Topic12\", \"Topic12\", \"Topic12\", \"Topic12\", \"Topic12\", \"Topic12\", \"Topic12\", \"Topic12\", \"Topic12\", \"Topic12\", \"Topic12\", \"Topic12\", \"Topic12\", \"Topic12\", \"Topic12\", \"Topic12\", \"Topic12\", \"Topic12\", \"Topic12\", \"Topic12\", \"Topic12\", \"Topic12\", \"Topic12\", \"Topic12\", \"Topic12\", \"Topic12\", \"Topic12\", \"Topic12\", \"Topic12\", \"Topic12\", \"Topic12\", \"Topic12\", \"Topic12\", \"Topic13\", \"Topic13\", \"Topic13\", \"Topic13\", \"Topic13\", \"Topic13\", \"Topic13\", \"Topic13\", \"Topic13\", \"Topic13\", \"Topic13\", \"Topic13\", \"Topic13\", \"Topic13\", \"Topic13\", \"Topic13\", \"Topic13\", \"Topic13\", \"Topic13\", \"Topic13\", \"Topic13\", \"Topic13\", \"Topic13\", \"Topic13\", \"Topic13\", \"Topic13\", \"Topic13\", \"Topic13\", \"Topic13\", \"Topic13\", \"Topic13\", \"Topic13\", \"Topic13\", \"Topic13\", \"Topic13\", \"Topic13\", \"Topic13\", \"Topic13\", \"Topic13\", \"Topic13\", \"Topic13\", \"Topic13\", \"Topic13\", \"Topic13\", \"Topic13\", \"Topic13\", \"Topic13\", \"Topic13\", \"Topic13\"], \"logprob\": [30.0, 29.0, 28.0, 27.0, 26.0, 25.0, 24.0, 23.0, 22.0, 21.0, 20.0, 19.0, 18.0, 17.0, 16.0, 15.0, 14.0, 13.0, 12.0, 11.0, 10.0, 9.0, 8.0, 7.0, 6.0, 5.0, 4.0, 3.0, 2.0, 1.0, -5.5914998054504395, -6.287099838256836, -4.653200149536133, -3.861999988555908, -6.798999786376953, -7.025899887084961, -7.0640997886657715, -7.253699779510498, -7.2795000076293945, -7.383299827575684, -7.5071001052856445, -7.56790018081665, -7.605000019073486, -6.0640997886657715, -7.693399906158447, -7.1595001220703125, -4.74399995803833, -7.65910005569458, -7.759500026702881, -7.788300037384033, -7.828999996185303, -7.830399990081787, -7.3231000900268555, -8.058099746704102, -8.064900398254395, -8.085200309753418, -8.114299774169922, -8.181699752807617, -8.224300384521484, -8.22719955444336, -5.864299774169922, -5.5594000816345215, -7.6132001876831055, -2.2964999675750732, -3.832200050354004, -6.576300144195557, -5.760799884796143, -4.3993000984191895, -5.2403998374938965, -6.5167999267578125, -6.662799835205078, -4.739799976348877, -4.1722002029418945, -6.623799800872803, -4.188499927520752, -4.926599979400635, -6.030600070953369, -5.965700149536133, -5.202700138092041, -3.946899890899658, -6.037300109863281, -4.473400115966797, -4.678100109100342, -5.269199848175049, -5.000400066375732, -5.620299816131592, -4.714700222015381, -5.489500045776367, -5.078000068664551, -4.834700107574463, -4.005300045013428, -5.288400173187256, -5.562600135803223, -4.426799774169922, -4.283100128173828, -5.1519999504089355, -4.590799808502197, -4.707600116729736, -5.19950008392334, -4.912300109863281, -5.298099994659424, -4.855100154876709, -5.166600227355957, -5.246600151062012, -5.873899936676025, -6.289000034332275, -6.343699932098389, -6.673900127410889, -6.696899890899658, -5.775000095367432, -6.622900009155273, -6.981299877166748, -7.1016998291015625, -7.15910005569458, -7.215000152587891, -6.44789981842041, -7.167600154876709, -7.232800006866455, -7.291399955749512, -7.344600200653076, -7.354800224304199, -7.199100017547607, -4.430699825286865, -7.463099956512451, -7.526899814605713, -7.559000015258789, -7.559599876403809, -7.574100017547607, -7.565299987792969, -7.5883002281188965, -7.629899978637695, -7.52269983291626, -7.666800022125244, -7.690299987792969, -7.5243000984191895, -6.172900199890137, -6.69950008392334, -5.829699993133545, -4.357600212097168, -4.393199920654297, -6.791900157928467, -5.023900032043457, -6.495100021362305, -4.4842000007629395, -6.304800033569336, -4.672399997711182, -4.041200160980225, -4.645899772644043, -5.16510009765625, -5.817500114440918, -5.601500034332275, -5.490799903869629, -5.986400127410889, -4.2972002029418945, -4.2657999992370605, -5.6869001388549805, -5.786300182342529, -4.163400173187256, -5.96560001373291, -5.35890007019043, -3.721400022506714, -5.218699932098389, -5.2555999755859375, -5.588500022888184, -4.025199890136719, -5.061500072479248, -4.601399898529053, -4.62060022354126, -4.547599792480469, -5.107800006866455, -4.603700160980225, -4.370999813079834, -4.651299953460693, -4.443399906158447, -5.339099884033203, -4.537899971008301, -5.1057000160217285, -5.190999984741211, -5.0345001220703125, -4.367300033569336, -4.789700031280518, -4.772299766540527, -5.100399971008301, -5.461599826812744, -5.752299785614014, -5.786499977111816, -6.055200099945068, -6.3171000480651855, -6.3582000732421875, -6.575500011444092, -6.762599945068359, -6.813600063323975, -6.865799903869629, -6.831200122833252, -6.880099773406982, -5.975800037384033, -6.928899765014648, -6.970900058746338, -6.9857001304626465, -7.050899982452393, -7.059899806976318, -7.098400115966797, -6.88670015335083, -7.140399932861328, -7.159599781036377, -7.168499946594238, -7.260000228881836, -7.283699989318848, -7.33459997177124, -7.356200218200684, -7.413899898529053, -7.43310022354126, -7.441199779510498, -5.603899955749512, -6.914299964904785, -6.723400115966797, -5.881100177764893, -4.509300231933594, -5.041999816894531, -6.403200149536133, -5.200300216674805, -5.420899868011475, -4.48330020904541, -4.139500141143799, -5.912399768829346, -6.309899806976318, -5.110499858856201, -5.214200019836426, -6.476500034332275, -3.6865999698638916, -5.745699882507324, -6.087600231170654, -4.451900005340576, -5.577899932861328, -5.236599922180176, -5.953199863433838, -5.417399883270264, -5.58620023727417, -5.27400016784668, -5.149499893188477, -4.746699810028076, -4.401299953460693, -4.32390022277832, -5.031099796295166, -3.7344000339508057, -4.717400074005127, -3.977799892425537, -4.109099864959717, -4.260799884796143, -5.139100074768066, -4.518599987030029, -4.219699859619141, -4.888000011444092, -4.608500003814697, -5.209499835968018, -4.691299915313721, -5.13700008392334, -5.097899913787842, -5.204800128936768, -5.490499973297119, -6.026899814605713, -5.626500129699707, -6.080599784851074, -6.083099842071533, -6.100100040435791, -6.089300155639648, -6.307600021362305, -6.352099895477295, -6.417600154876709, -6.419099807739258, -6.4344000816345215, -6.499199867248535, -6.507699966430664, -6.547900199890137, -6.5817999839782715, -6.153800010681152, -6.6894001960754395, -6.712600231170654, -6.735300064086914, -6.740099906921387, -6.779300212860107, -5.147500038146973, -6.827499866485596, -5.7006001472473145, -6.872000217437744, -6.894400119781494, -6.9471001625061035, -6.946400165557861, -6.967800140380859, -4.9232001304626465, -6.040599822998047, -6.1321001052856445, -5.799600124359131, -5.6981000900268555, -5.309000015258789, -6.2555999755859375, -6.079699993133545, -5.956099987030029, -5.258999824523926, -6.067699909210205, -6.204100131988525, -5.458600044250488, -5.151000022888184, -5.401500225067139, -5.140200138092041, -5.6682000160217285, -5.612400054931641, -4.244900226593018, -5.956500053405762, -5.778900146484375, -4.262400150299072, -4.813799858093262, -4.140399932861328, -4.838399887084961, -4.941400051116943, -4.644599914550781, -5.316699981689453, -4.679900169372559, -4.4390997886657715, -5.236599922180176, -5.180300235748291, -5.315000057220459, -5.450500011444092, -5.496699810028076, -5.255000114440918, -5.365900039672852, -5.505099773406982, -5.576099872589111, -5.621500015258789, -4.496799945831299, -4.519100189208984, -4.834199905395508, -4.99399995803833, -5.003600120544434, -5.145299911499023, -5.419099807739258, -5.691199779510498, -5.790800094604492, -5.797299861907959, -5.660999774932861, -5.9604997634887695, -5.990499973297119, -5.992300033569336, -6.036200046539307, -6.036200046539307, -6.118899822235107, -6.122000217437744, -6.16510009765625, -6.170000076293945, -6.201700210571289, -6.311100006103516, -6.387400150299072, -6.446400165557861, -6.467400074005127, -6.5269999504089355, -6.530099868774414, -6.540900230407715, -6.565499782562256, -6.57919979095459, -5.738100051879883, -4.88730001449585, -4.2642998695373535, -6.177199840545654, -5.918499946594238, -5.999199867248535, -6.064599990844727, -5.112299919128418, -4.862199783325195, -5.118199825286865, -5.654300212860107, -4.215799808502197, -5.122000217437744, -5.176799774169922, -4.2677001953125, -5.817299842834473, -5.625899791717529, -4.316400051116943, -5.610000133514404, -4.323699951171875, -3.983599901199341, -5.103300094604492, -5.346799850463867, -5.303500175476074, -5.243000030517578, -5.087500095367432, -4.60290002822876, -4.73829984664917, -5.2617998123168945, -5.088200092315674, -5.088099956512451, -4.616700172424316, -5.045199871063232, -5.14300012588501, -5.170199871063232, -5.261099815368652, -4.096199989318848, -4.7729997634887695, -4.933700084686279, -4.948699951171875, -5.185400009155273, -5.312099933624268, -3.8422000408172607, -5.359399795532227, -5.402599811553955, -5.466400146484375, -5.547500133514404, -5.552999973297119, -5.5725998878479, -5.6194000244140625, -5.680600166320801, -5.703000068664551, -5.810500144958496, -5.823500156402588, -5.880199909210205, -5.917799949645996, -5.1458001136779785, -5.9355998039245605, -5.935999870300293, -5.9496002197265625, -5.964600086212158, -6.044600009918213, -6.07889986038208, -6.100500106811523, -6.140100002288818, -6.165500164031982, -4.782899856567383, -4.862400054931641, -3.8029000759124756, -4.400599956512451, -5.505300045013428, -4.868100166320801, -4.304900169372559, -4.554699897766113, -5.315299987792969, -4.380499839782715, -5.13129997253418, -4.907400131225586, -4.241600036621094, -4.368899822235107, -4.847300052642822, -4.610899925231934, -4.896699905395508, -4.621399879455566, -5.337200164794922, -4.931600093841553, -4.60860013961792, -4.689000129699707, -4.928999900817871, -5.097499847412109, -4.973499774932861, -5.1031999588012695, -5.051499843597412, -4.6504998207092285, -4.828700065612793, -4.8805999755859375, -5.146900177001953, -5.262599945068359, -5.306600093841553, -5.386499881744385, -5.5970001220703125, -5.651299953460693, -5.669099807739258, -5.678299903869629, -5.68179988861084, -5.708799839019775, -5.715099811553955, -5.717199802398682, -5.717400074005127, -5.735300064086914, -5.7480998039245605, -5.756400108337402, -5.764599800109863, -5.804599761962891, -5.822000026702881, -5.908999919891357, -6.007900238037109, -6.095600128173828, -6.098400115966797, -6.169899940490723, -6.170300006866455, -6.243299961090088, -6.247300148010254, -5.997700214385986, -5.371200084686279, -3.7908999919891357, -4.5559000968933105, -4.955100059509277, -3.3036000728607178, -5.50029993057251, -5.830399990081787, -5.3333001136779785, -5.119699954986572, -4.346399784088135, -4.693399906158447, -4.210599899291992, -4.372900009155273, -4.900400161743164, -5.3927998542785645, -4.565400123596191, -4.958799839019775, -5.2571001052856445, -5.434500217437744, -5.516300201416016, -5.307700157165527, -5.540900230407715, -5.382599830627441, -5.385900020599365, -5.442800045013428, -5.513700008392334, -1.8503999710083008, -4.444300174713135, -4.085100173950195, -4.97730016708374, -4.997399806976318, -5.220699787139893, -5.265200138092041, -5.298699855804443, -5.331600189208984, -5.496099948883057, -5.556099891662598, -5.668300151824951, -5.718200206756592, -5.834099769592285, -5.9440999031066895, -5.97130012512207, -6.059800148010254, -6.074699878692627, -6.103600025177002, -6.126999855041504, -6.076399803161621, -6.182000160217285, -6.27269983291626, -6.343699932098389, -6.373499870300293, -6.405200004577637, -4.96589994430542, -6.448400020599365, -6.507599830627441, -6.524899959564209, -2.5536999702453613, -5.296500205993652, -4.828000068664551, -3.789900064468384, -3.623300075531006, -5.646500110626221, -4.44980001449585, -3.796600103378296, -3.8996999263763428, -5.395699977874756, -4.141200065612793, -4.55810022354126, -4.50029993057251, -5.336900234222412, -5.1981000900268555, -4.9629998207092285, -4.868599891662598, -5.313600063323975, -4.9019999504089355, -4.5081000328063965, -5.166999816894531, -4.82289981842041, -5.236000061035156, -5.27869987487793, -3.2804999351501465, -3.671799898147583, -4.1203999519348145, -4.394800186157227, -4.657899856567383, -4.793700218200684, -5.013599872589111, -5.173999786376953, -3.911799907684326, -5.409299850463867, -5.499199867248535, -5.712900161743164, -5.7631001472473145, -3.9690001010894775, -5.780200004577637, -4.452700138092041, -5.833099842071533, -5.977700233459473, -6.029799938201904, -5.962600231170654, -4.577899932861328, -6.132900238037109, -6.222099781036377, -6.242599964141846, -3.426300048828125, -3.6321001052856445, -6.263599872589111, -6.321499824523926, -6.418600082397461, -5.752200126647949, -3.928800106048584, -4.837699890136719, -4.127799987792969, -4.712299823760986, -3.050800085067749, -2.7934000492095947, -5.651599884033203, -4.790900230407715, -5.62470006942749, -4.727700233459473, -4.106200218200684, -4.261000156402588, -4.926000118255615, -4.984000205993652, -5.116700172424316, -4.426599979400635, -4.100900173187256, -4.9029998779296875, -4.8190999031066895, -4.725800037384033, -5.006400108337402, -4.073699951171875, -4.2565999031066895, -4.395699977874756, -4.813300132751465, -4.836999893188477, -4.842299938201904, -4.844399929046631, -4.853000164031982, -4.981800079345703, -5.033899784088135, -5.206099987030029, -5.213399887084961, -5.265699863433838, -5.336100101470947, -5.367400169372559, -5.370100021362305, -5.391499996185303, -5.472799777984619, -5.498300075531006, -5.547800064086914, -5.630499839782715, -5.6417999267578125, -5.682199954986572, -5.691100120544434, -5.69980001449585, -5.718500137329102, -5.736000061035156, -5.7393999099731445, -5.759799957275391, -5.762499809265137, -2.0104000568389893, -3.265700101852417, -3.2053000926971436, -5.237299919128418, -3.796099901199341, -4.5706000328063965, -4.788700103759766, -4.0644001960754395, -5.372200012207031, -5.492000102996826, -3.7636001110076904, -5.453000068664551, -4.7484002113342285, -4.9710001945495605, -5.322700023651123, -5.174200057983398, -5.232399940490723, -5.3206000328063965, -4.024400234222412, -4.034299850463867, -4.032700061798096, -4.1819000244140625, -4.250699996948242, -4.348299980163574, -4.511199951171875, -4.588600158691406, -4.747000217437744, -4.920199871063232, -4.990699768066406, -5.124100208282471, -5.136899948120117, -5.162499904632568, -5.172500133514404, -5.2906999588012695, -5.300099849700928, -5.307300090789795, -5.368100166320801, -5.397799968719482, -5.513199806213379, -5.536200046539307, -5.553999900817871, -5.554200172424316, -5.621200084686279, -5.638999938964844, -5.649899959564209, -5.672100067138672, -5.696100234985352, -5.6975998878479, -4.7982001304626465, -4.326700210571289, -4.803500175476074, -2.9590001106262207, -5.155099868774414, -4.210899829864502, -5.023200035095215, -4.167300224304199, -4.263000011444092, -3.6617000102996826, -3.884000062942505, -4.9934000968933105, -3.9126999378204346, -4.871200084686279, -4.998600006103516, -4.204500198364258, -4.724800109863281, -4.679599761962891, -4.927499771118164, -2.8505001068115234, -4.119800090789795, -4.313899993896484, -4.331299781799316, -4.422999858856201, -4.443900108337402, -4.492000102996826, -4.552000045776367, -4.646200180053711, -4.89139986038208, -4.9583001136779785, -4.964000225067139, -5.0106000900268555, -5.04040002822876, -5.064199924468994, -5.366300106048584, -5.424600124359131, -5.457499980926514, -4.235799789428711, -5.498499870300293, -5.541100025177002, -5.613800048828125, -4.145999908447266, -3.696000099182129, -5.650199890136719, -5.731100082397461, -5.843900203704834, -5.938499927520752, -5.77209997177124, -4.442699909210205, -2.148200035095215, -3.8689000606536865, -4.343100070953369, -4.821700096130371, -4.3155999183654785, -4.164100170135498, -3.804800033569336, -4.7677001953125, -4.65939998626709, -4.970300197601318, -4.798999786376953, -4.813899993896484, -4.895299911499023, -4.446100234985352, -4.465700149536133, -4.853700160980225, -4.825099945068359, -1.9528000354766846, -4.014800071716309, -4.313799858093262, -4.547399997711182, -4.959499835968018, -5.026400089263916, -5.033899784088135, -5.087600231170654, -5.240799903869629, -5.28410005569458, -5.293799877166748, -5.311999797821045, -5.380199909210205, -5.448500156402588, -2.5882999897003174, -5.548699855804443, -5.570799827575684, -5.578999996185303, -5.614999771118164, -5.618199825286865, -5.697000026702881, -5.731599807739258, -5.747300148010254, -5.780200004577637, -5.79640007019043, -5.777699947357178, -5.811699867248535, -5.812900066375732, -5.82859992980957, -5.838600158691406, -3.7416000366210938, -5.0269999504089355, -4.641200065612793, -3.193000078201294, -4.423699855804443, -3.7502999305725098, -5.18310022354126, -4.399499893188477, -5.570099830627441, -5.314499855041504, -5.340799808502197, -4.69980001449585, -4.730800151824951, -5.196499824523926, -5.046999931335449, -5.428199768066406, -5.248499870300293, -5.311200141906738, -5.287099838256836], \"loglift\": [30.0, 29.0, 28.0, 27.0, 26.0, 25.0, 24.0, 23.0, 22.0, 21.0, 20.0, 19.0, 18.0, 17.0, 16.0, 15.0, 14.0, 13.0, 12.0, 11.0, 10.0, 9.0, 8.0, 7.0, 6.0, 5.0, 4.0, 3.0, 2.0, 1.0, 1.2922, 1.2904, 1.2897, 1.2876, 1.2865, 1.2857, 1.2854, 1.2835, 1.2832, 1.2819, 1.2803, 1.2794, 1.2788, 1.2777, 1.2773, 1.2772, 1.2771, 1.2771, 1.2761, 1.2751, 1.2748, 1.2748, 1.2699, 1.2698, 1.2696, 1.2691, 1.2684, 1.2666, 1.2653, 1.2653, 1.2538, 1.2453, 1.2617, 1.1897, 1.2187, 1.2434, 1.2232, 1.1779, 1.1989, 1.2285, 1.2325, 1.1455, 1.0952, 1.2229, 1.0753, 1.115, 1.1832, 1.1776, 1.0815, 0.9216, 1.1509, 0.9578, 0.9668, 1.0472, 1.0018, 1.0877, 0.9456, 1.0627, 0.9932, 0.9446, 0.7489, 1.0122, 1.0595, 0.5881, 0.4896, 0.8388, 0.369, 0.4304, 0.7804, 0.4785, 0.8075, -0.0174, -0.1989, 0.5066, 1.7926, 1.7902, 1.7898, 1.7869, 1.7867, 1.7863, 1.7847, 1.7832, 1.7814, 1.7804, 1.7794, 1.7793, 1.7792, 1.7791, 1.7781, 1.777, 1.7768, 1.7766, 1.7757, 1.7744, 1.773, 1.7722, 1.7722, 1.7718, 1.7715, 1.7715, 1.7703, 1.7702, 1.7694, 1.7685, 1.7672, 1.7472, 1.7544, 1.7344, 1.6838, 1.6637, 1.7387, 1.6184, 1.6953, 1.5278, 1.6751, 1.5298, 1.4616, 1.5133, 1.5539, 1.6209, 1.5963, 1.5808, 1.6337, 1.4219, 1.382, 1.5754, 1.586, 1.3189, 1.5822, 1.4299, 0.9657, 1.3811, 1.3652, 1.4676, 0.9345, 1.2501, 1.0292, 0.9835, 0.9076, 1.1832, 0.782, 0.5966, 0.7397, 0.4251, 1.2413, 0.2348, 0.8741, 0.9989, 0.7188, -0.881, 0.048, -0.0181, 0.2903, 2.0308, 2.0295, 2.0293, 2.0276, 2.0255, 2.0251, 2.0227, 2.0203, 2.0195, 2.0187, 2.0187, 2.0185, 2.018, 2.0177, 2.0169, 2.0167, 2.0155, 2.0153, 2.0145, 2.014, 2.0137, 2.0133, 2.0131, 2.011, 2.0104, 2.0092, 2.0085, 2.0071, 2.0066, 2.0063, 1.998, 2.0054, 1.9963, 1.9559, 1.887, 1.9079, 1.9593, 1.8816, 1.8927, 1.8052, 1.7377, 1.9106, 1.9438, 1.7978, 1.8007, 1.9549, 1.5474, 1.8467, 1.8935, 1.6176, 1.8015, 1.7337, 1.8567, 1.734, 1.7541, 1.6582, 1.6129, 1.4817, 1.3401, 1.3126, 1.5228, 0.9526, 1.3203, 0.86, 0.8586, 0.8772, 1.4163, 0.8723, 0.553, 1.0965, 0.7823, 1.3366, 0.3237, 1.0408, 0.8597, 0.443, 2.3631, 2.3591, 2.3591, 2.3585, 2.3585, 2.3583, 2.3574, 2.356, 2.3554, 2.3545, 2.3545, 2.3542, 2.3533, 2.3531, 2.3525, 2.352, 2.3509, 2.3501, 2.3496, 2.3492, 2.3491, 2.3483, 2.3482, 2.3473, 2.3467, 2.3464, 2.3459, 2.3446, 2.3444, 2.3441, 2.3076, 2.3152, 2.3188, 2.3031, 2.2472, 2.1801, 2.2813, 2.2568, 2.229, 2.0854, 2.2345, 2.2532, 2.0287, 1.8901, 1.944, 1.8246, 2.0287, 1.9953, 1.2619, 2.0822, 1.942, 0.7525, 1.1697, 0.6139, 1.0627, 1.1567, 0.8106, 1.4968, 0.7058, 0.3986, 1.2827, 1.0216, 1.0531, 1.2491, 1.1771, -0.117, -0.1319, 0.7798, 1.066, 0.1391, 2.9999, 2.9995, 2.9983, 2.9974, 2.9973, 2.9963, 2.9939, 2.9905, 2.9895, 2.9894, 2.9893, 2.9868, 2.9863, 2.9863, 2.9855, 2.9855, 2.9839, 2.9838, 2.983, 2.9828, 2.9822, 2.9797, 2.9778, 2.9757, 2.9757, 2.9739, 2.9737, 2.9735, 2.9728, 2.9724, 2.9389, 2.8956, 2.8616, 2.9536, 2.9168, 2.9182, 2.9169, 2.7519, 2.6653, 2.6477, 2.798, 2.3002, 2.5318, 2.5323, 2.0704, 2.8043, 2.6712, 1.668, 2.6279, 1.3128, 0.7891, 2.0238, 2.2604, 2.1258, 1.9668, 1.6645, 0.6646, 0.9066, 1.6754, 0.8129, 0.7972, -1.1305, 0.4616, -0.3887, -0.1553, 0.4803, 3.09, 3.0891, 3.0881, 3.088, 3.0862, 3.0849, 3.0849, 3.0846, 3.0841, 3.0834, 3.0825, 3.0824, 3.0822, 3.0816, 3.0807, 3.0804, 3.0788, 3.0786, 3.0776, 3.077, 3.0769, 3.0766, 3.0766, 3.0764, 3.0761, 3.0746, 3.0739, 3.0734, 3.0726, 3.072, 3.0457, 3.0309, 2.9646, 2.9341, 3.028, 2.945, 2.7542, 2.7896, 2.8957, 2.599, 2.8329, 2.7465, 2.4005, 2.3352, 2.5996, 2.4386, 2.5455, 2.2501, 2.8582, 2.4067, 1.6198, 1.651, 1.7786, 1.9357, 1.1659, 1.6147, -0.0366, 3.125, 3.124, 3.1236, 3.1216, 3.1206, 3.1202, 3.1193, 3.1168, 3.116, 3.1158, 3.1156, 3.1156, 3.1152, 3.1151, 3.1151, 3.1151, 3.1148, 3.1146, 3.1145, 3.1143, 3.1137, 3.1134, 3.1119, 3.11, 3.1081, 3.1081, 3.1065, 3.1065, 3.1047, 3.1046, 3.0908, 3.0246, 2.8242, 2.9123, 2.9531, 2.7189, 2.9622, 2.9707, 2.5773, 2.2635, 1.2842, 1.446, 0.4764, 0.4649, 1.3845, 2.3665, 0.4022, 0.7016, 1.4619, 1.77, 2.02, 0.4528, 2.0851, 0.0084, -0.3709, 0.0124, 0.3821, 3.1412, 3.14, 3.1384, 3.137, 3.1369, 3.135, 3.1346, 3.1342, 3.1339, 3.132, 3.1313, 3.1296, 3.129, 3.1271, 3.1251, 3.1246, 3.1227, 3.1224, 3.1218, 3.1213, 3.12, 3.12, 3.1177, 3.1157, 3.1149, 3.114, 3.1137, 3.1126, 3.1107, 3.1102, 3.0548, 3.0953, 3.0507, 3.0033, 2.9742, 3.0722, 2.9955, 2.8772, 2.8775, 3.0388, 2.8676, 2.8673, 2.7223, 2.9343, 2.7397, 2.5211, 2.2619, 2.6682, 1.9983, 0.8777, 2.2751, 0.6323, 2.028, 1.4254, 3.1985, 3.1976, 3.1966, 3.1955, 3.1942, 3.1934, 3.1918, 3.1904, 3.1895, 3.1878, 3.1867, 3.1836, 3.1828, 3.1826, 3.1825, 3.1821, 3.1815, 3.1787, 3.1776, 3.1774, 3.1753, 3.1752, 3.1729, 3.1724, 3.1721, 3.1721, 3.1718, 3.1702, 3.1672, 3.1668, 3.1536, 3.1383, 3.077, 3.1024, 3.0078, 2.9694, 3.1198, 2.9622, 3.111, 2.8225, 2.6117, 2.4129, 2.7211, 2.7344, 2.7984, 2.281, 1.8002, 2.5022, 2.2141, 1.6672, 2.2392, 3.2442, 3.2435, 3.2429, 3.2406, 3.2404, 3.2404, 3.2404, 3.2403, 3.2393, 3.2389, 3.2372, 3.2372, 3.2366, 3.2358, 3.2355, 3.2354, 3.2352, 3.2341, 3.2338, 3.2331, 3.2318, 3.2317, 3.231, 3.2309, 3.2307, 3.2304, 3.2301, 3.2301, 3.2297, 3.2297, 3.1845, 3.2035, 3.0926, 3.2005, 3.0595, 3.1265, 3.119, 2.9958, 3.1757, 3.1963, 2.6294, 3.1767, 2.6322, 1.7896, 2.2549, 0.281, 0.1534, 1.2945, 3.5031, 3.5031, 3.503, 3.5024, 3.5021, 3.5016, 3.5006, 3.5, 3.4988, 3.4972, 3.4965, 3.4949, 3.4948, 3.4945, 3.4943, 3.4927, 3.4926, 3.4925, 3.4916, 3.4911, 3.4891, 3.4887, 3.4884, 3.4884, 3.4871, 3.4867, 3.4865, 3.486, 3.4855, 3.4855, 3.4845, 3.4599, 3.4627, 3.2902, 3.4535, 3.3547, 3.4227, 3.3059, 3.2822, 3.0989, 3.0226, 3.2903, 2.6522, 3.0765, 3.1902, 1.6966, 2.5942, 2.4475, 2.4853, 3.7598, 3.7556, 3.7543, 3.7542, 3.7535, 3.7533, 3.753, 3.7524, 3.7516, 3.7488, 3.748, 3.7479, 3.7472, 3.7468, 3.7465, 3.7412, 3.74, 3.7393, 3.7388, 3.7384, 3.7374, 3.7356, 3.7348, 3.7348, 3.7347, 3.7323, 3.729, 3.7259, 3.7247, 3.7218, 3.6953, 3.7001, 3.6813, 3.6964, 3.6185, 3.6009, 3.5544, 3.6557, 3.5522, 3.6101, 3.5542, 3.254, 3.4123, 2.1343, 1.2972, 2.9212, 0.6301, 3.8412, 3.8372, 3.8352, 3.8332, 3.8283, 3.8273, 3.8271, 3.8263, 3.8236, 3.8227, 3.8225, 3.8221, 3.8207, 3.8191, 3.8186, 3.8167, 3.8161, 3.8159, 3.8149, 3.8148, 3.8126, 3.8115, 3.811, 3.81, 3.8094, 3.8091, 3.8089, 3.8089, 3.8084, 3.808, 3.7349, 3.7792, 3.7141, 3.5799, 3.6594, 3.5373, 3.6756, 3.375, 3.7258, 3.5697, 3.5671, 2.8965, 2.3295, 2.6681, 1.2022, 2.9906, 1.3053, 0.9737, -0.3273]}, \"token.table\": {\"Topic\": [10, 6, 11, 9, 10, 11, 2, 9, 3, 13, 9, 10, 13, 10, 11, 10, 13, 4, 6, 8, 9, 11, 13, 4, 4, 3, 5, 8, 12, 13, 4, 8, 9, 13, 8, 4, 10, 7, 12, 3, 5, 6, 6, 9, 10, 11, 13, 4, 9, 6, 8, 11, 7, 9, 10, 13, 4, 9, 12, 12, 11, 12, 11, 13, 10, 13, 12, 2, 5, 4, 8, 10, 4, 6, 5, 11, 1, 2, 4, 6, 8, 9, 10, 11, 12, 3, 11, 11, 11, 3, 11, 8, 10, 8, 10, 12, 13, 6, 10, 8, 10, 11, 8, 9, 6, 8, 9, 10, 4, 6, 13, 4, 6, 8, 10, 11, 11, 7, 4, 5, 12, 13, 13, 3, 10, 6, 9, 10, 4, 4, 9, 3, 8, 10, 11, 12, 5, 10, 12, 13, 4, 5, 5, 4, 12, 10, 5, 9, 12, 4, 7, 8, 5, 1, 13, 1, 3, 4, 5, 6, 9, 10, 12, 9, 13, 3, 4, 8, 9, 11, 10, 10, 9, 10, 9, 11, 11, 10, 11, 4, 6, 8, 9, 10, 11, 12, 13, 1, 2, 3, 6, 8, 10, 4, 6, 8, 9, 12, 13, 6, 8, 10, 3, 3, 4, 5, 10, 11, 13, 5, 11, 13, 5, 6, 8, 8, 4, 5, 6, 9, 10, 3, 4, 8, 9, 10, 9, 11, 2, 9, 4, 6, 9, 10, 11, 12, 9, 9, 10, 4, 11, 1, 8, 8, 6, 2, 8, 9, 10, 2, 4, 8, 9, 10, 11, 13, 8, 8, 3, 4, 6, 7, 10, 13, 4, 8, 9, 10, 11, 12, 2, 3, 6, 8, 9, 10, 11, 13, 1, 9, 7, 6, 13, 7, 4, 6, 8, 10, 11, 12, 4, 8, 10, 6, 9, 10, 1, 3, 5, 8, 9, 10, 11, 6, 12, 3, 4, 6, 8, 10, 11, 12, 13, 1, 5, 8, 11, 12, 2, 8, 4, 7, 4, 8, 11, 13, 2, 3, 4, 6, 9, 10, 12, 2, 8, 11, 2, 10, 11, 8, 2, 13, 4, 12, 6, 6, 4, 10, 2, 5, 8, 12, 13, 9, 1, 2, 3, 4, 6, 8, 9, 10, 11, 7, 3, 3, 1, 9, 12, 3, 8, 7, 5, 3, 4, 6, 9, 10, 11, 12, 13, 11, 9, 1, 3, 4, 5, 6, 8, 9, 10, 11, 12, 4, 6, 9, 10, 11, 9, 6, 8, 12, 9, 10, 3, 10, 10, 2, 4, 8, 9, 10, 1, 2, 5, 8, 10, 4, 5, 5, 4, 10, 4, 8, 11, 4, 5, 6, 7, 8, 10, 11, 13, 5, 12, 12, 13, 9, 4, 11, 12, 4, 4, 6, 8, 9, 11, 13, 6, 9, 11, 5, 11, 5, 9, 4, 6, 11, 12, 12, 7, 4, 8, 10, 11, 8, 8, 3, 4, 8, 11, 6, 2, 10, 4, 5, 7, 8, 10, 12, 4, 6, 8, 10, 12, 10, 11, 12, 13, 3, 4, 6, 9, 12, 6, 10, 3, 13, 9, 12, 12, 6, 4, 9, 1, 10, 12, 10, 3, 13, 3, 4, 6, 8, 9, 10, 11, 12, 9, 8, 2, 5, 6, 8, 12, 4, 7, 10, 10, 11, 4, 9, 10, 11, 10, 13, 4, 4, 6, 11, 12, 5, 9, 10, 7, 4, 6, 12, 2, 3, 4, 6, 7, 9, 10, 11, 12, 4, 6, 8, 10, 11, 1, 9, 7, 11, 8, 10, 2, 3, 4, 6, 8, 9, 10, 11, 12, 8, 9, 1, 11, 13, 7, 12, 11, 5, 11, 4, 5, 11, 4, 13, 11, 10, 10, 13, 3, 12, 4, 8, 11, 13, 12, 5, 10, 6, 8, 11, 12, 2, 4, 8, 11, 6, 8, 12, 10, 1, 3, 6, 8, 10, 12, 13, 7, 3, 6, 9, 11, 2, 3, 6, 9, 10, 11, 12, 13, 1, 4, 5, 6, 9, 2, 10, 12, 5, 9, 11, 3, 9, 3, 4, 6, 9, 11, 11, 12, 4, 13, 3, 4, 6, 9, 10, 9, 13, 2, 4, 6, 12, 4, 8, 10, 11, 12, 13, 13, 13, 3, 8, 10, 1, 3, 6, 12, 6, 11, 4, 11, 5, 6, 9, 2, 4, 5, 8, 10, 11, 4, 6, 9, 12, 13, 9, 7, 5, 10, 12, 4, 8, 4, 1, 2, 3, 4, 5, 6, 8, 9, 10, 11, 12, 13, 10, 12, 11, 12, 7, 4, 9, 10, 11, 4, 5, 9, 11, 13, 4, 13, 10, 7, 12, 1, 2, 4, 5, 6, 9, 10, 12, 7, 8, 5, 4, 9, 11, 12, 12, 6, 10, 1, 3, 4, 13, 13, 10, 2, 5, 12, 7, 4, 4, 6, 8, 10, 12, 4, 5, 9, 11, 13, 1, 4, 6, 9, 11, 12, 13, 1, 7, 13, 9, 4, 8, 6, 9, 6, 5, 11, 13, 3, 4, 6, 8, 9, 10, 12, 13, 12, 11, 12, 12, 8, 10, 13, 3, 3, 3, 9, 1, 2, 3, 6, 8, 9, 13, 1, 3, 4, 5, 6, 7, 1, 2, 3, 4, 5, 7, 1, 2, 3, 4, 5, 6, 7, 9, 10, 1, 3, 4, 7, 7, 1, 2, 3, 7, 5, 3, 3, 4, 12, 2, 6, 13, 2, 1, 2, 3, 4, 5, 7, 8, 12, 4, 9, 1, 2, 3, 4, 7, 10, 1, 2, 4, 10, 1, 5, 2, 1, 3, 5, 9, 1, 3, 5, 1, 2, 3, 4, 5, 7, 8, 9, 12, 13, 5, 4, 7, 1, 2, 3, 4, 5, 6, 7, 8, 9, 10, 1, 3, 5, 6, 13, 2, 1, 2, 3, 4, 5, 7, 8, 9, 10, 12, 1, 5, 7, 1, 5, 1, 2, 4, 6, 2, 7, 1, 2, 3, 4, 5, 6, 7, 9, 10, 1, 4, 5, 6, 1, 2, 3, 4, 5, 7, 1, 2, 4, 5, 1, 5, 3, 7, 1, 2, 4, 6, 7, 13, 1, 2, 4, 6, 7, 8, 5, 7, 8, 7, 13, 12, 1, 2, 4, 9, 1, 2, 4, 7, 8, 10, 13, 1, 2, 3, 4, 7, 8, 9, 12, 1, 2, 3, 4, 5, 6, 7, 9, 11, 1, 2, 3, 5, 7, 1, 3, 4, 5, 7, 10, 11, 5, 6, 13, 1, 2, 3, 4, 5, 6, 7, 9, 10, 13, 1, 2, 3, 4, 5, 6, 7, 9, 1, 2, 5, 1, 3, 5, 7, 8, 1, 2, 3, 4, 7, 8, 9, 10, 11, 1, 2, 3, 4, 7, 8, 9, 10, 1, 1, 2, 3, 4, 5, 7, 8, 9, 10, 3, 4, 5, 10, 1, 2, 3, 4, 5, 8, 9, 10, 13, 1, 2, 3, 4, 7, 9, 10, 7, 1, 2, 3, 7, 8, 10, 12, 11, 4, 7, 12, 1, 6, 1, 2, 4, 7, 8, 13, 6, 13, 2, 1, 3, 1, 2, 3, 4, 6, 10, 11, 7, 11, 1, 2, 3, 4, 5, 7, 1, 1, 2, 3, 4, 6, 8, 9, 11, 6, 12, 7, 6, 9, 6, 1, 8, 3, 2, 3, 4, 6, 10, 7, 5, 11, 1, 2, 3, 4, 5, 7, 8, 10, 2, 1, 2, 3, 4, 5, 6, 7, 9, 7, 1, 2, 3, 4, 5, 6, 7, 8, 9, 12, 1, 2, 3, 4, 7, 8, 12, 1, 2, 3, 4, 5, 6, 7, 8, 9, 10, 11, 12, 13, 1, 1, 2, 3, 4, 6, 7, 8, 9, 10, 12, 13, 2, 4, 9, 13, 3, 9, 1, 2, 3, 4, 5, 6, 7, 8, 10, 12, 13, 1, 1, 2, 3, 4, 5, 7, 10, 5, 1, 1, 2, 3, 4, 7, 9, 13, 6, 8, 1, 2, 1, 2, 4, 8, 10, 1, 2, 3, 4, 5, 8, 9, 1, 2, 4, 1, 2, 3, 4, 6, 7, 8, 9, 10, 11, 12, 13, 1, 2, 5, 6, 13, 1, 3, 5, 6, 7, 9, 6, 1, 2, 3, 5, 6, 7, 8, 12, 1, 2, 5, 10, 2, 7, 4, 13, 4, 5, 2, 5, 10, 8, 7, 9, 13, 1, 2, 3, 4, 5, 7, 9, 1, 2, 3, 4, 5, 6, 7, 8, 13, 8, 1, 2, 5, 2, 3, 4, 5, 3, 5, 4, 1, 2, 1, 2, 1, 2, 3, 4, 5, 7, 9, 11, 12, 2, 1, 2, 3, 4, 5, 6, 7, 9, 10, 13, 1, 2, 3, 4, 5, 6, 8, 10, 13, 13, 4, 1, 2, 3, 5, 7, 8, 3, 1, 2, 3, 4, 7, 12, 1, 2, 4, 5, 9, 10, 5, 8, 1, 2, 3, 4, 6, 8, 9, 1, 2, 3, 4, 5, 7, 10, 13, 1, 2, 3, 10, 4, 1, 2, 3, 4, 5, 6, 7, 12, 3, 6, 8, 1, 2, 3, 4, 5, 6, 7, 9, 10, 12, 1, 3, 4, 5, 1, 3, 4, 1, 2, 3, 4, 5, 8, 10, 13, 1, 2, 3, 4, 5, 6, 7, 9, 10, 12, 7, 3, 1, 2, 3, 5, 1, 4, 1, 2, 3, 4, 5, 6, 7, 8, 9, 10, 12, 5, 7, 4, 1, 2, 3, 4, 6, 8, 10, 13, 1, 2, 3, 4, 6, 7, 8, 9, 10, 12, 13, 9, 1, 3, 4, 5, 7, 10, 1, 2, 3, 4, 5, 6, 1, 2, 3, 4, 5, 6, 7, 9, 10, 5, 2, 6, 1, 1, 2, 5, 6, 12, 1, 2, 4, 7, 7, 1, 2, 3, 1, 9, 5, 4, 11, 1, 2, 3, 5, 7, 1, 1, 2, 3, 4, 5, 6, 7, 3, 8, 1, 3, 8, 2, 8, 1, 2, 3, 4, 5, 7, 8, 13, 2, 4, 7, 12, 7, 3, 5, 7, 10, 5, 3, 1, 2, 3, 4, 7, 8, 13, 2, 1, 2, 3, 5, 1, 2, 3, 5, 6, 11, 1, 2, 3, 4, 5, 7, 8, 10, 2, 6, 1, 2, 3, 4, 5, 6, 7, 8, 9, 10, 12, 2, 3, 4, 5, 6, 9, 10, 12, 11, 2, 3, 9, 1, 5, 6, 3, 1, 2, 6, 1, 2, 4, 7, 1, 2, 3, 4, 5, 6, 7, 8, 11, 6, 2, 3, 4, 5, 6, 7, 1, 3, 4, 5, 6, 8, 9, 2, 4, 1, 7, 1, 2, 3, 4, 5, 6, 7, 8, 9, 10, 11, 12, 13, 1, 3, 4, 5, 6, 7, 1, 2, 3, 4, 5, 6, 7, 8, 11, 2, 3, 4, 10, 11, 7, 6, 1, 2, 11, 1, 2, 3, 4, 7, 9, 1, 2, 3, 4, 5, 6, 7, 8, 9, 10, 11, 13, 2, 1, 2, 4, 5, 6, 7, 8, 9, 13, 9, 2, 6, 2, 1, 1, 2, 3, 4, 5, 7, 8, 1, 3, 4, 5, 6, 7, 9, 4, 1, 2, 3, 4, 5, 6, 7, 8, 9, 10, 11, 1, 2, 4, 5, 7, 1, 2, 3, 4, 5, 7, 13, 1, 2, 4, 5, 7, 8, 9, 12, 1, 5, 1, 2, 3, 4, 5, 6, 7, 8, 9, 10, 12, 1, 2, 3, 5, 7, 13, 5, 1, 2, 3, 4, 5, 6, 7, 8, 9, 10, 11, 8, 4, 5, 13, 1, 2, 3, 4, 5, 6, 7, 8, 9, 10, 1, 2, 3, 4, 7, 5, 4, 11, 7, 8, 9, 13, 3, 1, 2, 3, 4, 5, 7, 10, 1, 2, 1, 2, 3, 5, 8, 10, 13, 1, 3, 5, 3, 5, 2, 1, 2, 4, 5, 6, 7, 9, 12, 13, 4, 7, 6, 6, 6, 6, 6, 5, 4, 7, 10, 6, 12, 8, 1, 3, 2, 2, 1, 3, 6, 1, 3, 6, 7, 8, 5, 13, 1, 3, 4, 12, 3, 9, 1, 3, 4, 5, 6, 7, 1, 2, 3, 4, 5, 6, 7, 8, 10, 12, 1, 3, 4, 5, 13, 6, 4, 1, 2, 3, 4, 5, 7, 8, 1, 2, 3, 4, 5, 7, 8, 9, 10, 1, 3, 5, 6, 1, 2, 3, 7, 8, 1, 3, 4, 5, 6, 7, 9, 1, 2, 3, 5, 6, 7, 1, 3, 4, 5, 7, 8, 13, 1, 2, 1, 2, 8, 2, 3, 12, 11, 3, 3, 8, 10, 1, 2, 8, 1, 6, 1, 2, 5, 7, 1, 2, 5, 7, 1, 2, 3, 4, 7], \"Freq\": [0.9800238376486742, 0.9544199083074002, 0.04201848652925661, 0.9903253145588422, 0.989479807869995, 0.9825557055443658, 0.9953765812384815, 0.9888449468141361, 0.9956169360681423, 0.977318885012937, 0.0028972085221671343, 0.02028045965516994, 0.9763592719703242, 0.993386404383916, 0.9900719345301361, 0.9735340331791563, 0.99035094455416, 0.007352335029586063, 0.5036349495266453, 0.2646840610650983, 0.05146634520710244, 0.047790177692309414, 0.12498969550296309, 0.9830228836117694, 0.9818206131730285, 0.1279378253861726, 0.012268010653468607, 0.8429875891883428, 0.014020583603964121, 0.9773192475353282, 0.7103816142197177, 0.17364883903148653, 0.04735877428131451, 0.057882946343828845, 0.9882741554769494, 0.9786137847713716, 0.014940668469791932, 0.04784621358880092, 0.933001164981618, 0.9650480938232384, 0.05763146634780647, 0.9349104540866383, 0.2273337554407904, 0.5554850893814096, 0.11267847008804394, 0.04151312055875303, 0.06325808847048081, 0.08880512578894172, 0.9058122830472054, 0.5791684729848566, 0.4201010754749312, 0.9942090368577526, 0.9924989709991611, 0.0007847617767238993, 0.0007847617767238993, 0.9982169799927999, 0.028464398832890175, 0.9535573609018209, 0.014232199416445088, 0.981825288456909, 0.9977083584200905, 0.9818004929008407, 0.9767313403858678, 0.9868198000673216, 0.9950898790823212, 0.982402731989999, 0.9950737170676727, 0.9790976054282082, 0.020150919240047867, 0.07368467416271991, 0.036842337081359956, 0.884216089952639, 0.9795973069998888, 0.011802377192769744, 0.9906468398452255, 0.9754540722458951, 0.04270149349640312, 0.06642454543884929, 0.01897844155395694, 0.2016459415107925, 0.3178888960287788, 0.014233831165467706, 0.07354146102158314, 0.13047678568345397, 0.13284909087769858, 0.9619609767371209, 0.9917145352732987, 0.995063683673578, 0.9883297345116431, 0.9849022125430715, 0.972992413595996, 0.967114632610098, 0.9898307003042128, 0.06365401809110537, 0.03819241085466322, 0.8656946460390329, 0.025461607236442144, 0.9792439086407355, 0.008902217351279414, 0.8130150626829162, 0.14017501080739933, 0.03738000288197316, 0.022266514333383666, 0.9741600020855354, 0.07365262087937899, 0.8633723891971649, 0.061377184066149164, 0.9768148493984549, 0.9878431427305232, 0.988417473123198, 0.975186933083171, 0.08052571354695157, 0.04026285677347578, 0.009091612819817112, 0.855910406894211, 0.012988018314024446, 0.9964625298758787, 0.9835786287749725, 0.026278968537132966, 0.07508276724895134, 0.814648024651122, 0.08259104397384646, 0.9727329768128349, 0.053494590058203374, 0.936155326018559, 0.010791284378112088, 0.030832241080320254, 0.9573410855439438, 0.9869172211851128, 0.997030798623212, 0.9803189560115079, 0.02226280259064333, 0.009070030685076913, 0.0008245482440979011, 0.030508285031622343, 0.9358622570511178, 0.9921221200191269, 0.9931407523067081, 0.9776713765550924, 0.9613417920363774, 0.9851789454791312, 0.9857815267227059, 0.9843400946046136, 0.9893456182817155, 0.9704565752816112, 0.9756237163360905, 0.9794077881760113, 0.9955273165562147, 0.9938900395038753, 0.9395428411888671, 0.007895317993183758, 0.047371907959102545, 0.9750270529591067, 0.047867906830287826, 0.9414021676623272, 0.027834854365852632, 0.10627853485143732, 0.5794710590709321, 0.0759132391795981, 0.01771308914190622, 0.1670091261951158, 0.01771308914190622, 0.005060882611973206, 0.9838176681578592, 0.958452631551223, 0.0053899612324406826, 0.6521853091253226, 0.016169883697322047, 0.26949806162203416, 0.05389961232440683, 0.9774209048818985, 0.997802322557308, 0.9840764001279713, 0.014835322614994543, 0.34484323768298414, 0.6491166826973819, 0.9902826111629027, 0.950109790478441, 0.04254222942440781, 0.052645055006227875, 0.4679560444998033, 0.17938315039159128, 0.08579194149163061, 0.12283846168119837, 0.031197069633320224, 0.052645055006227875, 0.007799267408330056, 0.016524714405191165, 0.1266894771064656, 0.16524714405191165, 0.5177743846959898, 0.1542306677817842, 0.016524714405191165, 0.02936727194800494, 0.01468363597400247, 0.7656467329301287, 0.14893402202202505, 0.03146493423000529, 0.008390649128001412, 0.25186488262430196, 0.622665959821191, 0.11893619457258703, 0.9907055678632499, 0.038694522458469494, 0.014882508637872882, 0.37503921767439663, 0.1904961105647729, 0.34527420039865087, 0.03274151900332034, 0.7775884347819647, 0.16173839443464866, 0.05598636730430146, 0.029235574789114684, 0.029235574789114684, 0.9355383932516699, 0.9763055235805952, 0.07671766155230134, 0.719228077052825, 0.07671766155230134, 0.07671766155230134, 0.04794853847018833, 0.18765028734772848, 0.03685987787187524, 0.2379137571730129, 0.3820023706721616, 0.15414130746420554, 0.06676807764409601, 0.9236250740766615, 0.008701543660556326, 0.9890754627499024, 0.011123141608840932, 0.7118810629658197, 0.16128555332819353, 0.022246283217681864, 0.09454670367514793, 0.9881524677948247, 0.9751651397804735, 0.9949023962674284, 0.9920734722783727, 0.18090548583133134, 0.8161782384018205, 0.9903521335548107, 0.9941286927547095, 0.9874519159561729, 0.9903073618810658, 0.0007035940438176046, 0.9969927600895457, 0.0003517970219088023, 0.0017589851095440115, 0.04202798954146156, 0.4016007889517438, 0.018679106462871804, 0.004669776615717951, 0.3689123526417181, 0.14476307508725647, 0.014009329847153851, 0.9784903038347743, 0.991769142169069, 0.024461362611815047, 0.15725161679023958, 0.010483441119349306, 0.024461362611815047, 0.04542824485051366, 0.7373353587275678, 0.1814322769152118, 0.04297080242728701, 0.10265247246518562, 0.03580900202273917, 0.6159148347911138, 0.019098134412127557, 0.009778186336040108, 0.0032593954453467027, 0.009778186336040108, 0.9145863619642848, 0.031942075364397686, 0.02346764720649626, 0.003911274534416043, 0.003911274534416043, 0.8669491792810485, 0.12972597208220069, 0.9825687946728467, 0.9885085308167496, 0.9745033013985474, 0.9803832585461781, 0.014541858229347285, 0.8787437187162717, 0.06855447450978006, 0.0020774083184781837, 0.010387041592390917, 0.027006308140216387, 0.003277490838745933, 0.9930797241400177, 0.990590697594933, 0.04173408391987042, 0.9390168881970845, 0.013911361306623474, 0.06441660335126216, 0.021472201117087388, 0.008179886139842813, 0.029652087256930203, 0.8251460143566439, 0.013292314977244573, 0.037831973396773015, 0.9825653482052137, 0.9976402237925179, 0.007566583962971274, 0.043507857787084825, 0.02459139787965664, 0.7661166262508414, 0.0018916459907428185, 0.054857733731541736, 0.03404962783337073, 0.06809925566674147, 0.9946819865150812, 0.010880911633384392, 0.04352364653353757, 0.032642734900153174, 0.9031156655709045, 0.9800461180879109, 0.9755305020556888, 0.19256860599959383, 0.8037646163461307, 0.023072151307898185, 0.11536075653949093, 0.8582840286538126, 0.9871108470759052, 0.7648547203326975, 0.08144286373912983, 0.0011803313585381134, 0.08616418917328228, 0.035409940756143406, 0.010622982226843021, 0.02006563309514793, 0.9794389827906727, 0.9863220782295924, 0.9948268580201884, 0.9821601106080403, 0.04028839532583449, 0.9554105177269321, 0.9692685120542643, 0.9937508293607689, 0.9816156242952486, 0.9917027900967538, 0.9723297506730183, 0.9947130104032111, 0.9931434744068687, 0.9905049876041212, 0.9845765342240246, 0.005633289466401469, 0.0732327630632191, 0.011266578932802938, 0.8506267094266219, 0.05633289466401469, 0.9978241705148454, 0.029963997956633178, 0.3687876671585622, 0.002304922919741014, 0.05531815007378433, 0.4287156630718285, 0.006914768759223041, 0.03226892087637419, 0.059927995913266356, 0.013829537518446082, 0.9891919534382558, 0.9935864087414068, 0.9834964611463753, 0.1521414144102633, 0.03042828288205266, 0.8114208768547376, 0.9715232884502419, 0.9729564236729332, 0.9934498404047001, 0.9873401272908451, 0.0435670437239683, 0.14258305218753262, 0.15842561354170293, 0.22971713963546925, 0.003960640338542573, 0.36041827080737415, 0.035645763046883154, 0.02772448236979801, 0.9959579289459998, 0.9968368643039238, 0.02142699232501492, 0.022855458480015915, 0.0528532477350368, 0.008570796930005968, 0.059995578510041774, 0.009999263085006963, 0.2156983894051502, 0.538531740435375, 0.041425518495028846, 0.025712390790017903, 0.09754847843733915, 0.31432287496475947, 0.37393583400980007, 0.029806479522520295, 0.18425823704830727, 0.9886706211397964, 0.058402219642879546, 0.014600554910719887, 0.9198349593753529, 0.8846912308783451, 0.11259706574815302, 0.9901286428715141, 0.9925205441230184, 0.9890514671026034, 0.037636212283668216, 0.08602562807695592, 0.16129805264429234, 0.6290624053127402, 0.08602562807695592, 0.014225118650500716, 0.00043106420153032475, 0.04483067695915377, 0.0012931926045909742, 0.9388578309330473, 0.9861447716354147, 0.9949781798333948, 0.9949760628180324, 0.06161767007724878, 0.9365885851741815, 0.9810468826680403, 0.01721134881873755, 0.9950403689489897, 0.037459313927403086, 0.01427021482948689, 0.0017837768536858613, 0.7366998405722607, 0.023189099097916197, 0.1427021482948689, 0.03567553707371723, 0.005351330561057584, 0.033597904831061974, 0.9575402876852662, 0.9873395161938724, 0.9775703781294768, 0.9779594109744151, 0.8977870822594944, 0.09975412025105493, 0.986294765561744, 0.9851469296190589, 0.7545910924028176, 0.025892831602057468, 0.0665815669767192, 0.040688735374661736, 0.07767849480617241, 0.029591807545208532, 0.012201042298546627, 0.9821839050330035, 0.003050260574636657, 0.9912233132157383, 0.9929804740424054, 0.949206876283199, 0.02207457851821393, 0.015122832390153742, 0.7057321782071747, 0.1058598267310762, 0.1713921004217424, 0.9817740730715724, 0.9961289893952482, 0.1725815678541823, 0.09587864880787905, 0.5407555792764379, 0.18792215166344295, 0.9811241578451291, 0.9905179335071529, 0.9819857694809015, 0.7480408623681667, 0.04443807103177228, 0.1925649744710132, 0.9818127196207546, 0.9844531545178709, 0.986678609792106, 0.3754686915580255, 0.011377839138121983, 0.017066758707182977, 0.02844459784530496, 0.12515623051934183, 0.4323578872486354, 0.188144800896285, 0.14932127055260713, 0.41511313213624784, 0.20904977877365, 0.03882353034367786, 0.9977747911397437, 0.060985162397138776, 0.05082096866428232, 0.8741206610256559, 0.09965279080697674, 0.020539124822812, 0.0007607083267708149, 0.7941794931487307, 0.08519933259833126, 0.9893237941312313, 0.007310274340871167, 0.975426331869106, 0.9854409636135142, 0.024193803382886837, 0.9717844358792879, 0.9934586510048856, 0.9882282272217843, 0.01786107023431048, 0.9644977926527659, 0.06003505878585625, 0.06670562087317361, 0.867173071351257, 0.9879215404597901, 0.36962172666090903, 0.6255136912723076, 0.17022728156282832, 0.08413532307128296, 0.26805905257594803, 0.04304597924577268, 0.39915362573352847, 0.0019566354202623943, 0.003913270840524789, 0.027392895883673524, 0.9933227970193224, 0.9967459870392822, 0.052792100309204816, 0.03519473353946988, 0.8182775547926746, 0.07038946707893975, 0.01759736676973494, 0.9142136427778793, 0.036568545711115175, 0.036568545711115175, 0.03928175639706758, 0.942762153529622, 0.24032337601093975, 0.620835388028261, 0.050067370002279114, 0.08511452900387449, 0.776702055558273, 0.21992638849141063, 0.9947791882248416, 0.10408676914359431, 0.08516190202657715, 0.8043068524732288, 0.9617567520985596, 0.061641446557722156, 0.9246216983658324, 0.982475857272801, 0.9816614012298132, 0.9787763194564978, 0.013892682102187944, 0.97943408820425, 0.05863915056857535, 0.027487101829019697, 0.271206071379661, 0.5002652532881584, 0.03848194256062758, 0.04214688947116353, 0.0018324734552679796, 0.020157208007947777, 0.03848194256062758, 0.3143509878481891, 0.006548978913503939, 0.6548978913503939, 0.01964693674051182, 0.9900081165872657, 0.9875834403210001, 0.9907198603383024, 0.9522045976047241, 0.021160102168993868, 0.972145858430024, 0.02314632996261962, 0.009458538321362718, 0.09269367554935463, 0.30456493394787953, 0.024592199635543065, 0.007566830657090174, 0.455901547089683, 0.04729269160681359, 0.024592199635543065, 0.03405073795690578, 0.9881387708655762, 0.9982970299229114, 0.9834162509705531, 0.9736190095902711, 0.009452611743594866, 0.9828222598482932, 0.9851524541748748, 0.9960102889080573, 0.8945911881325015, 0.09748750127084953, 0.1724605185965287, 0.82250401176806, 0.9857897123237981, 0.9822723744481905, 0.9668285286039748, 0.9769124090225823, 0.9926946317660306, 0.9852398161297815, 0.9520673725682007, 0.9950834121718698, 0.9862521873918858, 0.13221890980447973, 0.7589365422777136, 0.05553194211788148, 0.05024318572570229, 0.9785859798630436, 0.9840417993936047, 0.9921861880373074, 0.14629555241212, 0.008605620730124705, 0.7314777620606, 0.11187306949162118, 0.0070228545953531655, 0.9902224979447963, 0.9805523749169476, 0.9878239894518621, 0.1925233086515716, 0.7580605278155632, 0.0481308271628929, 0.9766344196647526, 0.22968495184160337, 0.08506850068207532, 0.029773975238726363, 0.5359315542970745, 0.029773975238726363, 0.07230822557976402, 0.012760275102311298, 0.9805872743946944, 0.973678735863492, 0.862956182680804, 0.1004811993532443, 0.03546395271290975, 0.04687865210085582, 0.18390855824181898, 0.21996905985786191, 0.03966655177764723, 0.01803025080802147, 0.4002715679380766, 0.043272601939251525, 0.050484702262460115, 0.15903817737684986, 0.05452737510063423, 0.08179106265095135, 0.018175791700211413, 0.6861361366829808, 0.054451965471274254, 0.8281236415422959, 0.11571042662645778, 0.052360380769369795, 0.6675948548094649, 0.2748919990391914, 0.9842525923284243, 0.01416190780328668, 0.461442664547141, 0.0152683234592804, 0.006785921537457956, 0.08991346037131792, 0.42581657647548676, 0.055563336696244484, 0.9399464457781358, 0.09708979548197788, 0.89913593207223, 0.006603000852952759, 0.9409276215457681, 0.019809002558858275, 0.019809002558858275, 0.009904501279429137, 0.9741232072025237, 0.9871282552602781, 0.07043154253059596, 0.04401971408162247, 0.06162759971427146, 0.8099627391018535, 0.35688127469765885, 0.1522693438710011, 0.023792084979843923, 0.057101003951625415, 0.014275250987906354, 0.39019019366944035, 0.9784935655099454, 0.9953961754990404, 0.9617640926339296, 0.023924479916266905, 0.009569791966506763, 0.9924756756501566, 0.19382578442881185, 0.08722160299296533, 0.7074641131651632, 0.03719104054987857, 0.9576692941593731, 0.9911921396364394, 0.9924027690496672, 0.017239847590132747, 0.008619923795066374, 0.9718964078937335, 0.9805855098393069, 0.0907733729957788, 0.01031515602224759, 0.002063031204449518, 0.23312252610279555, 0.6642960478327448, 0.07519228348636364, 0.014620721789015152, 0.137852519725, 0.002088674541287879, 0.7686322311939394, 0.9738201914032337, 0.9822051194980778, 0.9943239086191923, 0.9493614743236932, 0.033117260732221855, 0.0316268056066484, 0.9488041681994519, 0.9883155083327911, 0.01048181368819114, 0.013975751584254854, 0.05590300633701942, 0.27078018694493783, 0.11180601267403883, 0.05153558396693978, 0.03319241001260528, 0.24632262167249183, 0.014849236058270784, 0.1633415966409786, 0.002620453422047785, 0.024457565272445997, 0.877100060147237, 0.11694667468629825, 0.01897402786698074, 0.9740000971716781, 0.9806212925098884, 0.015787372456195735, 0.971800482303604, 0.008770762475664298, 0.0017541524951328593, 0.12659140618015136, 0.03164785154503784, 0.022605608246455598, 0.8002385319245282, 0.01356336494787336, 0.1345222750306791, 0.8407642189417444, 0.9788312493347014, 0.9907246342950872, 0.9667677089747861, 0.09827346607444548, 0.043240325072756006, 0.003930938642977819, 0.16903036164804622, 0.0628950182876451, 0.499229207658183, 0.07075689557360074, 0.05896407964466729, 0.08801626647068035, 0.9021667313244736, 0.9718712317200467, 0.8836637421169748, 0.033727623744922705, 0.060709722740860866, 0.013491049497969082, 0.9613395483985642, 0.9877700784499066, 0.9753678561030461, 0.9864504577169008, 0.9967347059102128, 0.9877271662585574, 0.9768666777954673, 0.9790936038906388, 0.9954834402032753, 0.9671899708914536, 0.9198788542243433, 0.06570563244459596, 0.9946328666601637, 0.9789014326611466, 0.10444072363738384, 0.008525773358153783, 0.8674974391921474, 0.008525773358153783, 0.008525773358153783, 0.07235578998837407, 0.05565829999105698, 0.7903478598730092, 0.02226331999642279, 0.061224129990162676, 0.0012371803457756937, 0.030929508644392346, 0.018557705186635406, 0.021032065878186793, 0.8054044050999767, 0.05196157452257914, 0.07175646005499024, 0.970319347385534, 0.9780415657591588, 0.9923870342629109, 0.9678524032090672, 0.9506239277626171, 0.03355143274456296, 0.7882994865403737, 0.1992405295651494, 0.9899424353964206, 0.9861447557134706, 0.162582248967519, 0.8361372804043835, 0.002567841343804066, 0.2105629901919334, 0.6085783984815636, 0.023110572094236594, 0.041085461500865054, 0.005135682687608132, 0.0975779710645545, 0.010271365375216264, 0.9916636107678213, 0.9855084436498002, 0.9866376911652711, 0.9945495095730993, 0.980695744399012, 0.9940940392744887, 0.9698158152792828, 0.9757881108479325, 0.9726983897734551, 0.9930174116326864, 0.9816975479274602, 0.13993526538969692, 0.045796995945718996, 0.7403847677891238, 0.05088555105079888, 0.005088555105079888, 0.005088555105079888, 0.010177110210159776, 0.2647193507637629, 0.4978055715620447, 0.04495234258252578, 0.15317094509601376, 0.021643720502697597, 0.016649015771305842, 0.31084714579957895, 0.00840127421079943, 0.5393618043333235, 0.018482803263758747, 0.08401274210799431, 0.03696560652751749, 0.8030586095246477, 0.06880720691154256, 0.09974736035498787, 0.0055415200197215485, 0.0023089666748839785, 0.0036943466798143657, 0.00323255334483757, 0.012468420044373483, 0.0013853800049303871, 0.2576220666898958, 0.11200959421299816, 0.15681343189819744, 0.46483981598394236, 0.9792038614321054, 0.15213851935099376, 0.8101376155440418, 0.01901731491887422, 0.01901731491887422, 0.9932661810792568, 0.9813735447585623, 0.3660368831081179, 0.030503073592343156, 0.6024357034487773, 0.06899490887629532, 0.15523854497166448, 0.7589439976392486, 0.9939649397770325, 0.21679886196771822, 0.1349879706591453, 0.265885396752862, 0.0020452722827143228, 0.2617948521874333, 0.0899919804394302, 0.026588539675286196, 0.0020452722827143228, 0.8659210439287878, 0.12002865955448544, 0.18841664037906009, 0.3076190047005063, 0.0038452375587563286, 0.03845237558756329, 0.4191308939044398, 0.03460713802880695, 0.4063674608936667, 0.5405332257601472, 0.015480665176901588, 0.03612155207943704, 0.13079794290358832, 0.8680227119965407, 0.973260970850828, 0.0888330875066128, 0.19543279251454815, 0.7106647000529024, 0.9826368692310962, 0.9311707684449384, 0.056747249046505945, 0.010317681644819263, 0.025842827260994607, 0.5737107651940803, 0.00861427575366487, 0.07752848178298381, 0.012059986055130817, 0.04307137876832434, 0.0327342478639265, 0.015505696356596764, 0.19640548718355902, 0.015505696356596764, 0.9903629052825713, 0.4170067915393892, 0.5733843383666601, 0.7051054025398469, 0.08719414422839393, 0.046000060340963725, 0.03158213098036315, 0.0006865680647905033, 0.0006865680647905033, 0.08788071229318442, 0.009611952907067046, 0.019910473878924598, 0.01029852097185755, 0.03354661959946151, 0.7410753238790133, 0.17993186876074807, 0.024397541526881096, 0.02134784883602096, 0.9853271112718522, 0.19860780824768814, 0.46386253201473476, 0.09597155834787616, 0.035989334380453555, 0.01532879056945244, 0.1579531897808795, 0.02265995127658187, 0.001999407465580753, 0.00599822239674226, 0.001999407465580753, 0.951903148206125, 0.005949394676288281, 0.04164576273401797, 0.9849800698293254, 0.014756255727780155, 0.12181642779116227, 0.8478423374264894, 0.019490628446585962, 0.0048726571116464905, 0.9824492042100826, 0.9761794583420795, 0.027911437879467847, 0.19744757907327254, 0.6585031825637414, 0.02377641004547261, 0.0010337569584988092, 0.02584392396247023, 0.04651906313244641, 0.005168784792494045, 0.0113713265434869, 0.9291201234315866, 0.024450529563989118, 0.01833789717299184, 0.024450529563989118, 0.81903415764544, 0.00046351678417964914, 0.0755532358212828, 0.0064892349785150875, 0.09641149110936702, 0.0013905503525389474, 0.3030633119647398, 0.04329475885210568, 0.17317903540842272, 0.4762423473731625, 0.05608417102987979, 0.9394098647504865, 0.9834054019075745, 0.9929691934791292, 0.10814053393689567, 0.8357980250038038, 0.031159136897071636, 0.021994684868521155, 0.0018328904057100962, 0.9707934562595074, 0.10725930713924473, 0.05917754876647985, 0.0036985967979049905, 0.736020762783093, 0.04808175837276488, 0.044383161574859886, 0.9126537999823987, 0.07605448333186655, 0.9886455833866914, 0.8485759225707682, 0.1470864932455998, 0.9549197505370072, 0.9586625985348853, 0.0029497310724150316, 0.023597848579320253, 0.011798924289660126, 0.044910803915263274, 0.8747399762586506, 0.031641702758480945, 0.009186300800849307, 0.02449680213559815, 0.005103500444916281, 0.010207000889832563, 0.754077850120656, 0.04297853031775759, 0.08856182004871262, 0.07163088386292932, 0.020838075305579438, 0.01562855647918458, 0.0013023797065987149, 0.0052095188263948594, 0.06442997895769277, 0.05637623158798117, 0.22147805266706888, 0.07248372632740437, 0.4147679895401472, 0.032214989478846386, 0.06845685264254857, 0.05234935790312537, 0.016107494739423193, 0.22548712412511315, 0.058822728032638216, 0.30391742816863077, 0.05392083402991836, 0.3529363681958293, 0.1183413881502203, 0.10059017992768726, 0.027612990568384736, 0.0769219022976432, 0.6627117736412337, 0.000986178234585169, 0.0128203170496072, 0.11355079280853274, 0.8497994816638579, 0.032966359202477244, 0.07308139289859972, 0.39874233669235987, 0.06795287409869799, 0.20385862229609394, 0.0012821296999754336, 0.005128518799901735, 0.174369639196659, 0.005128518799901735, 0.012821296999754338, 0.056413706798919085, 0.42997451687179217, 0.016164455521495945, 0.06142493098168459, 0.08082227760747973, 0.3556180214729108, 0.003232891104299189, 0.03879469325159027, 0.016164455521495945, 0.9928077496571719, 0.0024717205385655734, 0.004119534230942622, 0.12436125549600757, 0.7892156598785096, 0.03348187647969435, 0.016740938239847174, 0.03348187647969435, 0.19024741691290986, 0.15720444450172028, 0.4896367730021733, 0.09011719748506257, 0.010013021942784731, 0.04305599435397434, 0.0070091153599493115, 0.003003906582835419, 0.009011719748506257, 0.03667173366856817, 0.1731246961562637, 0.7428158145423924, 0.0281434235130872, 0.0042641550777404846, 0.0042641550777404846, 0.000852831015548097, 0.008528310155480969, 0.9795813204328392, 0.1183986345980106, 0.6493985715830278, 0.012557430942213246, 0.05202364247488345, 0.08252026047740134, 0.05561147988694438, 0.010763512236182783, 0.012557430942213246, 0.005381756118091391, 0.8679703260094169, 0.010759962719125004, 0.11835958991037504, 0.9800038912612749, 0.03859978224331464, 0.06047299218119293, 0.7951555142122816, 0.001286659408110488, 0.015439912897325856, 0.0424597604676461, 0.002573318816220976, 0.028306506978430734, 0.015439912897325856, 0.054517326394737185, 0.8007232314227024, 0.01703666449835537, 0.08177598959210577, 0.03407332899671074, 0.006814665799342148, 0.003407332899671074, 0.9706180954098995, 0.03097129901838063, 0.8052537744778964, 0.07602046122693427, 0.042233589570519044, 0.01970900846624222, 0.008446717914103808, 0.016893435828207615, 0.9895471521549984, 0.02116884978577192, 0.8996761158953066, 0.07409097425020172, 0.982802720571721, 0.9825423790892591, 0.11782889488474883, 0.8369914602158021, 0.008126130681706817, 0.016252261363413633, 0.016252261363413633, 0.004063065340853408, 0.9807420490215262, 0.9671126433081348, 0.9715733227588115, 0.07264588369605139, 0.9262350171246553, 0.7903764998136533, 0.053889306805476364, 0.005388930680547636, 0.09700075224985745, 0.0035926204536984242, 0.03592620453698424, 0.014370481814793697, 0.9702069209824754, 0.9828684677379746, 0.3963482518090238, 0.5780627327048553, 0.005267086402777724, 0.017118030809027605, 0.002633543201388862, 0.001316771600694431, 0.9897566488304671, 0.026656758688891568, 0.035138454635357065, 0.5755436535101588, 0.07027690927071413, 0.22900579055456846, 0.02908010038788171, 0.024233416989901425, 0.00969336679596057, 0.9905221679062322, 0.9892706490995631, 0.9637395469493449, 0.9840620052177879, 0.9771099429280454, 0.9803352931620581, 0.980784118504173, 0.9664330610052204, 0.9761605770637078, 0.9949247074738221, 0.08145499045792051, 0.6553424232296332, 0.040727495228960256, 0.22214997397614683, 0.9888100702995369, 0.989569397300964, 0.993292438495918, 0.44708127183181884, 0.20969298590341945, 0.22721450224575368, 0.0014130255114785677, 0.10908556948614542, 0.004239076534435703, 0.000565210204591427, 0.000565210204591427, 0.9714020896050821, 0.7392760336180098, 0.051770030365406845, 0.0010354006073081368, 0.11596486801851133, 0.0010354006073081368, 0.0010354006073081368, 0.06937184068964516, 0.020708012146162736, 0.9879227067349906, 0.4310660240855912, 0.257273560149675, 0.02428540980763894, 0.1077665060213978, 0.06906163414047324, 0.0007589190564887169, 0.06906163414047324, 0.007589190564887169, 0.014419462073285622, 0.018972976412217922, 0.3617821052116195, 0.17747801387739826, 0.08532596821028762, 0.02047823237046903, 0.01365215491364602, 0.32765171792750447, 0.010239116185234515, 0.26274552687083597, 0.3471807161446974, 0.3125675329641082, 0.005244421694028662, 0.0005244421694028662, 0.007866632541042994, 0.04405314222984076, 0.007342190371640127, 0.0020977686776114646, 0.003146653016417197, 0.004719979524625796, 0.0015733265082085986, 0.0005244421694028662, 0.9812026054902835, 0.15339348203737754, 0.3551649084096203, 0.08849623963694858, 0.25958896960171585, 0.03421854599295345, 0.01179949861825981, 0.05545764350582111, 0.004719799447303924, 0.001179949861825981, 0.0247789470983456, 0.008259649032781867, 0.27309236682512555, 0.712600394684312, 0.004267068231642587, 0.008534136463285174, 0.9658230639356412, 0.02926736557380731, 0.42147427815816096, 0.06800599464001245, 0.31437501713826116, 0.08307319105726071, 0.04235103857821135, 0.019139411665153205, 0.023211626913058142, 0.013845531842876787, 0.004072215247904937, 0.0008144430495809874, 0.009773316594971848, 0.9655177929374055, 0.7141756452836683, 0.13540944956448756, 0.10155708717336567, 0.021294227955705704, 0.014742157815488564, 0.01201212859039809, 0.000546005845018095, 0.9881945591588505, 0.9883970416101853, 0.2195719478440555, 0.286787850245297, 0.06721590240124148, 0.08962120320165531, 0.33159845184612463, 0.004481060160082766, 0.9738622091176246, 0.9853935183786856, 0.984335595520755, 0.8893591423475153, 0.10890111947112432, 0.009625631555744887, 0.004812815777872443, 0.6882326562357594, 0.19732544689277018, 0.09625631555744887, 0.5079766776670372, 0.09790933696530196, 0.3697517313630815, 0.00806312186773075, 0.00806312186773075, 0.0011518745525329643, 0.006911247315197785, 0.8084048145642876, 0.18192311199386504, 0.00896804073209194, 0.11855669465583898, 0.41103382345302664, 0.0011184593835456508, 0.21027036410658234, 0.006151526609501079, 0.0441791456500532, 0.08108830530705968, 0.021250728287367363, 0.051449131643099937, 0.0005592296917728254, 0.04361991595828038, 0.011184593835456507, 0.135229287614247, 0.2089907172220181, 0.020489286002158637, 0.6105807228643274, 0.020489286002158637, 0.05484699808460443, 0.8800450147211528, 0.02991654440978423, 0.0024930453674820194, 0.022437408307338175, 0.007479136102446058, 0.990969355911556, 0.28480615330812076, 0.0370247999300557, 0.39113378387648584, 0.26297101488783153, 0.014240307665406038, 0.0028480615330812075, 0.004746769221802013, 0.0018987076887208051, 0.5981886379046522, 0.3969024137755986, 0.0028350172412542757, 0.001890011494169517, 0.9842613068190877, 0.9839444922925948, 0.22962664908910582, 0.7595343008331962, 0.307318961181811, 0.6869482661711069, 0.9826509161384199, 0.961603355084256, 0.9926502404676267, 0.9764729539869573, 0.9872838917747766, 0.5631876749163067, 0.42239075618723004, 0.7460731799579866, 0.19135037517057168, 0.028026065050235246, 0.01836190468808516, 0.011596992434580101, 0.001932832072430017, 0.0028992481086450254, 0.34528789907607516, 0.44329254712210403, 0.12331710681288399, 0.01817304731979343, 0.047379730512318585, 0.0038942244256700204, 0.009735561064175051, 0.0025961496171133473, 0.005841336638505031, 0.950326466297882, 0.9933463725403591, 0.976504281421809, 0.9776695966923508, 0.007660770536482978, 0.7928897505259882, 0.14555464019317657, 0.04979500848713935, 0.9821277281509619, 0.9748135217884905, 0.9688730066550861, 0.9813650311057226, 0.011026573383210366, 0.9839128399810054, 0.9934029980073994, 0.08700440657960819, 0.3762940584568054, 0.03045154230286287, 0.4176211515821193, 0.015225771151431434, 0.013050660986941229, 0.0456773134542943, 0.006525330493470614, 0.006525330493470614, 0.9586807210828051, 0.6886339302665423, 0.2534944232914327, 0.01119729967913077, 0.014929732905507693, 0.010886263576932693, 0.005909685941763462, 0.007464866452753846, 0.0031103610219807695, 0.004043469328575, 0.00031103610219807693, 0.9003614806076198, 0.06870008696216989, 0.012022515218379732, 7.806828063882943e-05, 0.016003997530960032, 7.806828063882943e-05, 0.0019517070159707358, 0.00031227312255531774, 0.0004684096838329766, 0.9696279147931061, 0.9843641383968013, 0.2986315750386582, 0.6587461214088048, 0.01229659426629769, 0.001756656323756813, 0.02459318853259538, 0.001756656323756813, 0.9835224533468384, 0.15500791838298705, 0.10953892899064417, 0.6551668016987585, 0.0330683559217039, 0.02686803918638442, 0.018600950205958446, 0.9081686509437003, 0.03291550299960693, 0.03441166222686179, 0.019450069954313184, 0.0029923184545097205, 0.0014961592272548603, 0.9766884551011739, 0.9681642772680277, 0.15559446077550976, 0.01458698069770404, 0.35981219054336633, 0.33712133168027114, 0.09400498671853715, 0.035657063927720986, 0.0016207756330782266, 0.3962897479576933, 0.42184583660500796, 0.07871275303372928, 0.031008054225408505, 0.036800767652133165, 0.01908187952332831, 0.00034074784863086265, 0.01533365318838882, 0.06448894810989074, 0.06448894810989074, 0.8627188169367606, 0.007165438678876749, 0.9859125769480747, 0.49328618205565655, 0.006841195225589397, 0.18075157911820408, 0.19875472444870249, 0.04248742297997626, 0.043567611699806164, 0.030245284155237338, 0.0036006290660996827, 0.8669951294530168, 0.10487844307899397, 0.020975688615798793, 0.15297012058219303, 0.035471332308914326, 0.27822826279804674, 0.10530551779208941, 0.06983418548317509, 0.14521076663961804, 0.18511601548714665, 0.0011084791346535727, 0.0022169582693071454, 0.023278061827725027, 0.792301817794944, 0.12395419559582634, 0.0016750566972408964, 0.08040272146756303, 0.142190261711573, 0.8294431933175092, 0.023698376951928835, 0.07639268956961526, 0.6917782444359605, 0.17612758984105742, 0.021220191547115352, 0.002122019154711535, 0.00424403830942307, 0.021220191547115352, 0.006366057464134605, 0.23489047695961437, 0.014792720877227623, 0.6141220485394498, 0.08203236122826227, 0.020171892105310396, 0.004482642690068977, 0.0004482642690068977, 0.0017930570760275907, 0.021964949181337987, 0.004930906959075875, 0.9874135035279384, 0.9832347692752044, 0.9829360798526167, 0.0059094353498153306, 0.007879247133087108, 0.0029547176749076653, 0.9986140250408969, 0.9902255127864775, 0.2874002898107312, 0.016124768735255545, 0.2674814578436508, 0.30162802693007434, 0.02086734777503659, 0.031301021662554884, 0.007588126463649669, 0.061653527517153556, 0.0018970316159124172, 0.0018970316159124172, 0.0018970316159124172, 0.817634132142843, 0.17920748101760942, 0.9853321853742562, 0.2177153928480562, 0.6866408543669464, 0.009465886645567662, 0.05897975525315235, 0.00655330613923915, 0.010922176898731916, 0.0007281451265821277, 0.008737741518985534, 0.2425062309204195, 0.08508990558611211, 0.2733513216953852, 0.2978146695513924, 0.0010636238198264013, 0.0074453667387848095, 0.029781466955139238, 0.026590595495660035, 0.010636238198264014, 0.004254495279305605, 0.020208852576701627, 0.9578812290350555, 0.0026603650068323355, 0.7901284070292036, 0.021282920054658684, 0.11705606030062277, 0.03990547510248504, 0.026603650068323357, 0.3715348998308217, 0.00446735350497982, 0.4995990336402433, 0.021592208607402467, 0.08041236308963677, 0.022336767524899104, 0.3796658426538954, 0.24587055714199635, 0.23892015269981978, 0.04604642942941981, 0.0034752022210882876, 0.0008688005552720719, 0.06429124109013333, 0.0034752022210882876, 0.016507210550169366, 0.9830038410987294, 0.9535238608535184, 0.03365378332424182, 0.9742076366701155, 0.9267951387640776, 0.0697989089604843, 0.001119768592948946, 0.00037325619764964863, 0.0018662809882482431, 0.9508402542510324, 0.010780501748877918, 0.02371710384753142, 0.010780501748877918, 0.973544598890593, 0.9824991532801332, 0.9591163254844025, 0.9696228821799835, 0.07434211031213911, 0.921842167870525, 0.965224643790668, 0.9457426624626704, 0.04067710376183528, 0.7806099166883362, 0.08467632994585342, 0.07806099166883362, 0.05292270621615839, 0.003969202966211879, 0.978070598864581, 0.058594217665741806, 0.04794072354469785, 0.01598024118156595, 0.10653494121043965, 0.6232294060810719, 0.005326747060521983, 0.13849542357357156, 0.92135857523962, 0.06581132680283, 0.012622130852160802, 0.07573278511296481, 0.9087934213555778, 0.9447187499293451, 0.048447115380992056, 0.3485982859268185, 0.4500298942065282, 0.10259748883464892, 0.012824686104331115, 0.020985849988905462, 0.05246462497226365, 0.0023317611098783845, 0.009327044439513538, 0.0845008335812153, 0.03250032060815973, 0.8385082716905211, 0.03900038472979168, 0.9921665717672812, 0.8591655292687359, 0.09103740707483295, 0.04267378456632794, 0.005689837942177059, 0.9587678862323792, 0.9799954379125199, 0.02211084818871265, 0.892474235980765, 0.001005038554032393, 0.018090693972583075, 0.001005038554032393, 0.06331742890404077, 0.002010077108064786, 0.9822673181189725, 0.18143903381762228, 0.16631911433282043, 0.025199865808003097, 0.6249566720384767, 0.7206643146973468, 0.00540836258684688, 0.11695584094056378, 0.12304024885076653, 0.02298554099409924, 0.01081672517369376, 0.07254330210881907, 0.6603474416260726, 0.20339243581911887, 0.004067848716382378, 0.025085067084357992, 0.006101773074573566, 0.004067848716382378, 0.023729117512230533, 0.048580274761522775, 0.9351702891593133, 0.22461134644526143, 0.3008555649633777, 0.3084112983300379, 0.03812210925905813, 0.015454909159077622, 0.016485236436349464, 0.06525406089388329, 0.016828678862106743, 0.00721229094090289, 0.0024040969803009633, 0.004121309109087366, 0.02137419972875206, 0.008549679891500824, 0.8293189494755799, 0.06412259918625618, 0.017099359783001648, 0.051298079349004946, 0.008549679891500824, 0.004274839945750412, 0.9754090533964519, 0.9878459723632934, 0.009189264859193427, 0.9775112147731267, 0.130618160720468, 0.09624496053087116, 0.7699596842469693, 0.9914739198323128, 0.9368310952407639, 0.03849990802359304, 0.01924995401179652, 0.0447197376075489, 0.8177323448237513, 0.019165601831806673, 0.11818787796280782, 0.2620293928501165, 0.08773568434756711, 0.16840540753962546, 0.33033368402003455, 0.07890323290318116, 0.01413192231101752, 0.0353298057775438, 0.01413192231101752, 0.00883245144438595, 0.9834390791335876, 0.01127636804634137, 0.028190920115853425, 0.17478370471829124, 0.699134818873165, 0.06765820827804822, 0.01127636804634137, 0.41107513921106226, 0.08123041673032967, 0.15753777790124543, 0.26584500020835167, 0.029538333356483516, 0.00492305555941392, 0.04923055559413919, 0.9399265033708271, 0.05528979431593101, 0.9797898413798772, 0.012891971597103648, 0.1612066493585193, 0.36206283059809835, 0.04747509738390051, 0.18937868516874598, 0.004695339301704446, 0.04434487118276421, 0.0020868174674241982, 0.10381916900435385, 0.006782156769128644, 0.04538827991647631, 0.011999200437689138, 0.014086017905113338, 0.006260452402272594, 0.3183597561442388, 0.3386805916428072, 0.08128334199427373, 0.013547223665712288, 0.2357216917833938, 0.009483056565998602, 0.7044369720951636, 0.02010467757900577, 0.024744218558776333, 0.08892453544560244, 0.030930273198470415, 0.06959311469655843, 0.02551747538873809, 0.009279081959541123, 0.02551747538873809, 0.240357277606218, 0.005462665400141318, 0.6200125229160396, 0.005462665400141318, 0.12837263690332099, 0.9805971809603419, 0.974004195175891, 0.9954637947595407, 0.004553814248671275, 0.9916144541321212, 0.03049506510624316, 0.7180201693197252, 0.2079208984516579, 0.002772278646022105, 0.03603962239828737, 0.002772278646022105, 0.5792941916201492, 0.1628571314564308, 0.017201264310559985, 0.17284496234643337, 0.03357020938028642, 0.0030518372163896744, 0.007213433420557413, 0.011097589877780634, 0.005548794938890317, 0.0013871987347225793, 0.0027743974694451586, 0.0030518372163896744, 0.960410865806544, 0.12542136326668493, 0.01929559434872076, 0.2476267941419164, 0.2765701856649975, 0.045023053480348435, 0.2572745913162768, 0.00643186478290692, 0.00964779717436038, 0.00964779717436038, 0.991729766871407, 0.9710316758138409, 0.9679940508026137, 0.9854023722242167, 0.9905085427423824, 0.15424942370168424, 0.714943146358757, 0.10029145039158936, 0.009383995358277367, 0.0005864997098923354, 0.016421991876985394, 0.003518998259354013, 0.34073149869923525, 0.23661909631891337, 0.016225309461868346, 0.39346375445030735, 0.0040563273654670865, 0.0040563273654670865, 0.0040563273654670865, 0.9872030268650863, 0.2131786784034483, 0.3218580046483435, 0.02507984451805274, 0.26891166622134327, 0.03761976677707911, 0.029259818604394864, 0.03065314329984224, 0.016719896345368496, 0.03065314329984224, 0.023686519822605365, 0.002786649390894749, 0.09520149392707934, 0.8069459961438155, 0.004533404472718064, 0.0634676626180529, 0.027200426836308383, 0.3344101211545688, 0.6199802761611335, 0.02183433780734298, 0.002872939185176708, 0.0063204662073887575, 0.013215520251812857, 0.0005745878370353415, 0.6140747698912539, 0.36008572894146823, 0.0064301023025262185, 0.002143367434175406, 0.002143367434175406, 0.001071683717087703, 0.002143367434175406, 0.009645153453789327, 0.07132975720459543, 0.9094544043585917, 0.11984636408241779, 0.43528614487077283, 0.3387864750901248, 0.009598085435171988, 0.015045647438918251, 0.005188154289282156, 0.07029949061977321, 0.0010376308578564312, 0.0038911157169616165, 0.0007782231433923233, 0.0005188154289282156, 0.08253477167076988, 0.7529884648319554, 0.10401642457138122, 0.013567359726701898, 0.04296330580122268, 0.0022612266211169832, 0.9703825637084157, 0.1649856837480517, 0.1494576193952939, 0.08152233785197849, 0.32608935140791395, 0.03299713674961034, 0.031056128705515613, 0.13975257917482026, 0.005823024132284178, 0.040761168925989244, 0.011646048264568356, 0.013587056308663081, 0.9704225198647417, 0.8771566805161307, 0.048195422006380814, 0.06747359080893313, 0.26933254205435614, 0.17402561787834658, 0.30884269100073986, 0.13934113597884942, 0.031970044185623464, 0.00120641676172164, 0.06967056798942471, 0.00060320838086082, 0.00241283352344328, 0.0027144377138736903, 0.9880603293053075, 0.7837099776502197, 0.017811590401141355, 0.007916262400507268, 0.18801123201204764, 0.989571947555261, 0.9773606721220656, 0.9762322228210125, 0.9929511625584325, 0.987298898487166, 0.078110577227311, 0.8852532085761914, 0.9757412836249144, 0.42882113166825203, 0.20054781373278166, 0.3086772801232676, 0.018483669468459137, 0.013862752101344354, 0.011090201681075483, 0.01755948599503618, 0.10474202668934493, 0.886815825969787, 0.056005806694918836, 0.4916065254331764, 0.0684515415160119, 0.024891469642186147, 0.01866860223163961, 0.024891469642186147, 0.3111433705273268, 0.8614726113276642, 0.027512099363757737, 0.11004839745503095, 0.9876897780403974, 0.9621260604250527, 0.9757142572292511, 0.18346963429466603, 0.7641315087910825, 0.017566241581404195, 0.01268673003101414, 0.0009759023100780107, 0.008783120790702098, 0.004879511550390054, 0.004879511550390054, 0.003903609240312043, 0.1269947678560678, 0.8572146830284576, 0.9822389800712239, 0.9916360667689492, 0.9823480656416704, 0.9855485951520548, 0.990994368919759, 0.9959459969851479, 0.8892592102044666, 0.045025782795162866, 0.05628222849395358, 0.9873784122031098, 0.9922369286365965, 0.9705288158476222, 0.08264024059402031, 0.9090426465342234, 0.9720227541265306, 0.9829132245254549, 0.0810358612742762, 0.7551068891466646, 0.1620717225485524, 0.017908376090354224, 0.8834798871241417, 0.017908376090354224, 0.0716335043614169, 0.9811853589398812, 0.9857095690546106, 0.9707790493296449, 0.03535102467403342, 0.8366409172854576, 0.05891837445672237, 0.06481021190239461, 0.9651737411626814, 0.017873587799308914, 0.25474613070432167, 0.48535841744718133, 0.0422342269325586, 0.1843557524833907, 0.029496920397342512, 0.0033519227724252854, 0.44200328006976636, 0.22178812273963366, 0.28575538272600554, 0.0052432180316698265, 0.024643124748848184, 0.00786482704750474, 0.004718896228502844, 0.005767539834836809, 0.0005243218031669827, 0.0020972872126679308, 0.15831669280132893, 0.32955719725990923, 0.0032309529143128356, 0.4943357958898638, 0.012923811657251342, 0.9818882720117835, 0.9740393158483973, 0.6334829072088227, 0.23504795652092064, 0.08694863432277958, 0.002866438494157569, 0.008599315482472706, 0.030575343937680733, 0.0009554794980525229, 0.45505568674830743, 0.339784958151468, 0.06780631093931734, 0.07760055585277428, 0.028629331285489543, 0.021095296736676504, 0.0067806310939317336, 0.0022602103646439113, 0.0007534034548813038, 0.2890344399454332, 0.6858444337688245, 0.012247222031586152, 0.009797777625268922, 0.017239242258278106, 0.9050602185596005, 0.008619621129139053, 0.03447848451655621, 0.03447848451655621, 0.812351315354983, 0.11549090989384095, 0.0019574730490481518, 0.007829892196192607, 0.0019574730490481518, 0.02544714963762597, 0.03327704183381858, 0.8895034951624784, 0.013266742470463102, 0.025269985658024956, 0.05180347059895116, 0.00821274533885811, 0.010739743904660606, 0.21475537607560596, 0.5989661660858697, 0.033555527511813434, 0.04362218576535746, 0.003355552751181343, 0.0234888692582694, 0.07885548965276157, 0.9741353019963556, 0.01709009301747992, 0.02008674344464941, 0.30130115166974114, 0.6695581148216471, 0.9537516245903414, 0.0460431818767751, 0.9676102356931291, 0.97120831504194, 0.9899645784221089, 0.931675989645321, 0.030714593065230358, 0.030714593065230358, 0.9678094550099205, 0.9836113764176174, 0.008941921603796522, 0.9660507765073715, 0.9702775008149866, 0.9333796554121343, 0.005522956540900203, 0.049706608868101826, 0.005522956540900203, 0.8958828202991782, 0.06167309270175502, 0.016229761237303953, 0.025967617979686327, 0.8352940658518409, 0.10353223680233406, 0.015077510213932145, 0.03317052247065072, 0.012062008171145715], \"Term\": [\"aha\", \"air\", \"air\", \"alight\", \"anpanman\", \"attack\", \"ay\", \"ayy\", \"ba\", \"baam\", \"bad\", \"bad\", \"bad\", \"bae\", \"bailar\", \"ballin\", \"bam\", \"bang\", \"bang\", \"bang\", \"bang\", \"bang\", \"bang\", \"baram\", \"bass\", \"beautiful\", \"beautiful\", \"beautiful\", \"beautiful\", \"bi\", \"big\", \"big\", \"big\", \"big\", \"birthday\", \"black\", \"black\", \"blah\", \"blah\", \"blood\", \"blue\", \"blue\", \"body\", \"body\", \"body\", \"body\", \"body\", \"bomb\", \"bomb\", \"boom\", \"boom\", \"bounce\", \"bow\", \"boy\", \"boy\", \"boy\", \"break\", \"break\", \"break\", \"breathe\", \"bring\", \"brr\", \"bu\", \"bubble\", \"bum\", \"bump\", \"butterfly\", \"bye\", \"bye\", \"call\", \"call\", \"call\", \"calm\", \"calm\", \"candy\", \"catch\", \"cause\", \"cause\", \"cause\", \"cause\", \"cause\", \"cause\", \"cause\", \"cause\", \"cause\", \"ch\", \"cha\", \"change\", \"chi\", \"chill\", \"chillin\", \"cho\", \"chocolate\", \"chorus\", \"chorus\", \"chorus\", \"chorus\", \"christmas\", \"christmas\", \"chu\", \"chu\", \"chu\", \"city\", \"city\", \"clap\", \"clap\", \"clap\", \"clock\", \"contact\", \"cos\", \"cowboy\", \"crazy\", \"crazy\", \"crazy\", \"crazy\", \"crazy\", \"cream\", \"crush\", \"cry\", \"cry\", \"cry\", \"cry\", \"dam\", \"dan\", \"dan\", \"dance\", \"dance\", \"dance\", \"dangerous\", \"dat\", \"dawn\", \"day\", \"day\", \"day\", \"day\", \"day\", \"di\", \"diamond\", \"dirty\", \"disaster\", \"disco\", \"diva\", \"dna\", \"dogg\", \"dollar\", \"dong\", \"doo\", \"door\", \"dot\", \"double\", \"double\", \"double\", \"downdown\", \"drama\", \"drama\", \"dream\", \"dream\", \"dream\", \"dream\", \"dream\", \"dream\", \"dream\", \"dream\", \"dress\", \"drink\", \"drop\", \"drop\", \"drop\", \"drop\", \"drop\", \"dum\", \"dumb\", \"dynamite\", \"dynamite\", \"dynnnnnanana\", \"dynnnnnanana\", \"ehoh\", \"emotion\", \"emotion\", \"everybody\", \"everybody\", \"everybody\", \"everybody\", \"everybody\", \"everybody\", \"everybody\", \"everybody\", \"everyday\", \"everyday\", \"everyday\", \"everyday\", \"everyday\", \"everyday\", \"eye\", \"eye\", \"eye\", \"eye\", \"eye\", \"eye\", \"face\", \"face\", \"face\", \"fake\", \"fall\", \"fall\", \"fall\", \"fall\", \"fall\", \"fall\", \"fallin\", \"fallin\", \"fallin\", \"fan\", \"fan\", \"fan\", \"fancy\", \"fantasy\", \"fantasy\", \"fantasy\", \"fantasy\", \"fantasy\", \"feel\", \"feel\", \"feel\", \"feel\", \"feel\", \"fight\", \"fight\", \"fine\", \"fine\", \"fire\", \"fire\", \"fire\", \"fire\", \"fire\", \"flower\", \"friday\", \"funk\", \"ga\", \"game\", \"game\", \"gee\", \"ghost\", \"gi\", \"gim\", \"girl\", \"girl\", \"girl\", \"girl\", \"give\", \"give\", \"give\", \"give\", \"give\", \"give\", \"give\", \"glam\", \"glow\", \"god\", \"god\", \"god\", \"god\", \"god\", \"god\", \"gon\", \"gon\", \"gon\", \"gon\", \"gon\", \"gon\", \"good\", \"good\", \"good\", \"good\", \"good\", \"good\", \"good\", \"good\", \"goodbye\", \"goodbye\", \"gosh\", \"gravity\", \"greedy\", \"hallo\", \"hand\", \"hand\", \"hand\", \"hand\", \"hand\", \"hand\", \"happy\", \"happy\", \"hate\", \"head\", \"head\", \"head\", \"heart\", \"heart\", \"heart\", \"heart\", \"heart\", \"heart\", \"heart\", \"heavy\", \"hello\", \"high\", \"high\", \"high\", \"high\", \"high\", \"high\", \"high\", \"high\", \"hip\", \"hit\", \"hit\", \"hit\", \"hit\", \"hol\", \"holic\", \"home\", \"home\", \"honey\", \"honey\", \"honey\", \"hoohoo\", \"hot\", \"hot\", \"hot\", \"hot\", \"hot\", \"hot\", \"hot\", \"hurry\", \"hush\", \"ice\", \"illa\", \"imma\", \"imma\", \"irony\", \"issue\", \"jibberish\", \"jingle\", \"jo\", \"jump\", \"jumpin\", \"killin\", \"kimi\", \"kiss\", \"kiss\", \"kiss\", \"kiss\", \"kiss\", \"knock\", \"lady\", \"lady\", \"lady\", \"lady\", \"lady\", \"lady\", \"lady\", \"lady\", \"lady\", \"lalala\", \"lalalala\", \"lalalalala\", \"last\", \"last\", \"last\", \"lazy\", \"lean\", \"leggo\", \"lem\", \"let\", \"let\", \"let\", \"let\", \"let\", \"let\", \"let\", \"let\", \"liar\", \"lie\", \"life\", \"life\", \"life\", \"life\", \"life\", \"life\", \"life\", \"life\", \"life\", \"life\", \"light\", \"light\", \"light\", \"light\", \"light\", \"likey\", \"line\", \"line\", \"line\", \"little\", \"little\", \"lo\", \"lolli\", \"lollipop\", \"look\", \"look\", \"look\", \"look\", \"look\", \"love\", \"love\", \"love\", \"love\", \"love\", \"luck\", \"lucky\", \"luv\", \"mad\", \"mad\", \"magic\", \"magic\", \"mama\", \"man\", \"man\", \"man\", \"man\", \"man\", \"man\", \"man\", \"man\", \"matter\", \"matter\", \"mayday\", \"meow\", \"mess\", \"mic\", \"mic\", \"middle\", \"midnight\", \"mind\", \"mind\", \"mind\", \"mind\", \"mind\", \"mind\", \"mine\", \"mine\", \"mine\", \"mo\", \"moment\", \"monday\", \"monday\", \"money\", \"money\", \"money\", \"money\", \"monsta\", \"moon\", \"move\", \"move\", \"move\", \"move\", \"movie\", \"movin\", \"muah\", \"music\", \"music\", \"music\", \"muzik\", \"mystery\", \"nai\", \"name\", \"name\", \"name\", \"name\", \"name\", \"name\", \"new\", \"new\", \"new\", \"new\", \"new\", \"ni\", \"nice\", \"nice\", \"nice\", \"night\", \"night\", \"night\", \"night\", \"night\", \"nobody\", \"nobody\", \"nonstop\", \"nope\", \"nothing\", \"nothing\", \"number\", \"ohohohoh\", \"open\", \"open\", \"pain\", \"pain\", \"pain\", \"pam\", \"paradise\", \"paradise\", \"party\", \"party\", \"party\", \"party\", \"party\", \"party\", \"party\", \"party\", \"peek\", \"peep\", \"perfect\", \"perfect\", \"perfect\", \"perfect\", \"perfect\", \"phone\", \"phone\", \"phone\", \"pick\", \"pick\", \"play\", \"play\", \"play\", \"play\", \"pop\", \"pop\", \"pow\", \"power\", \"power\", \"power\", \"prechorus\", \"promise\", \"promise\", \"push\", \"py\", \"radio\", \"rain\", \"rain\", \"ready\", \"ready\", \"ready\", \"ready\", \"ready\", \"ready\", \"ready\", \"ready\", \"ready\", \"real\", \"real\", \"real\", \"real\", \"remedy\", \"replay\", \"respect\", \"rewind\", \"rewind\", \"ride\", \"ride\", \"right\", \"right\", \"right\", \"right\", \"right\", \"right\", \"right\", \"right\", \"right\", \"rip\", \"rock\", \"rocket\", \"roll\", \"roll\", \"rollin\", \"roob\", \"rookie\", \"round\", \"round\", \"run\", \"run\", \"rush\", \"rwa\", \"santa\", \"seoul\", \"shake\", \"shi\", \"shoe\", \"shoot\", \"shootout\", \"show\", \"show\", \"show\", \"show\", \"shut\", \"shy\", \"sick\", \"side\", \"side\", \"side\", \"side\", \"sign\", \"sign\", \"signal\", \"simple\", \"sky\", \"sky\", \"sky\", \"slip\", \"smile\", \"smile\", \"smile\", \"smile\", \"smile\", \"smile\", \"smile\", \"snap\", \"snowman\", \"someone\", \"someone\", \"someone\", \"something\", \"something\", \"something\", \"something\", \"something\", \"something\", \"something\", \"something\", \"song\", \"song\", \"song\", \"song\", \"song\", \"sorry\", \"sorry\", \"sorry\", \"soul\", \"soul\", \"soul\", \"special\", \"special\", \"star\", \"star\", \"star\", \"star\", \"star\", \"stay\", \"stay\", \"step\", \"step\", \"stop\", \"stop\", \"stop\", \"stop\", \"stop\", \"straight\", \"stuck\", \"stupid\", \"stupid\", \"stupid\", \"stupid\", \"style\", \"style\", \"style\", \"style\", \"style\", \"style\", \"su\", \"sugar\", \"summer\", \"summer\", \"summer\", \"sunny\", \"sunshine\", \"sunshine\", \"sunshine\", \"super\", \"super\", \"superstar\", \"swan\", \"sweet\", \"sweet\", \"sweet\", \"sweety\", \"ta\", \"ta\", \"ta\", \"ta\", \"ta\", \"talk\", \"talk\", \"talk\", \"talk\", \"talk\", \"talker\", \"taste\", \"te\", \"tear\", \"tear\", \"thank\", \"thank\", \"tik\", \"time\", \"time\", \"time\", \"time\", \"time\", \"time\", \"time\", \"time\", \"time\", \"time\", \"time\", \"time\", \"toc\", \"toc\", \"today\", \"today\", \"tomorrow\", \"tonight\", \"tonight\", \"tonight\", \"tonight\", \"touch\", \"touch\", \"touch\", \"touch\", \"touch\", \"town\", \"town\", \"train\", \"trick\", \"truck\", \"true\", \"true\", \"true\", \"true\", \"true\", \"true\", \"true\", \"true\", \"trust\", \"trust\", \"tuesday\", \"turn\", \"turn\", \"turn\", \"turn\", \"twilight\", \"twit\", \"type\", \"uhhuh\", \"umpah\", \"ur\", \"vip\", \"vroom\", \"wa\", \"wah\", \"walk\", \"walk\", \"walker\", \"walkin\", \"wan\", \"wan\", \"wan\", \"wan\", \"wan\", \"watch\", \"watch\", \"watch\", \"watch\", \"watch\", \"way\", \"way\", \"way\", \"way\", \"way\", \"way\", \"way\", \"weak\", \"whatta\", \"whoo\", \"wide\", \"wild\", \"wild\", \"wish\", \"wish\", \"woman\", \"wonderful\", \"work\", \"work\", \"world\", \"world\", \"world\", \"world\", \"world\", \"world\", \"world\", \"world\", \"wrong\", \"xiang\", \"yah\", \"yolo\", \"york\", \"young\", \"yummy\", \"zimzalabim\", \"zimzim\", \"zimzimzalabim\", \"zombie\", \"\\uac00\\uae4c\\uc774\", \"\\uac00\\uae4c\\uc774\", \"\\uac00\\uae4c\\uc774\", \"\\uac00\\uae4c\\uc774\", \"\\uac00\\uae4c\\uc774\", \"\\uac00\\uae4c\\uc774\", \"\\uac00\\uae4c\\uc774\", \"\\uac00\\ub4dd\", \"\\uac00\\ub4dd\", \"\\uac00\\ub4dd\", \"\\uac00\\ub4dd\", \"\\uac00\\ub4dd\", \"\\uac00\\ub4dd\", \"\\uac00\\ub4dd\\ud558\\ub2e4\", \"\\uac00\\ub4dd\\ud558\\ub2e4\", \"\\uac00\\ub4dd\\ud558\\ub2e4\", \"\\uac00\\ub4dd\\ud558\\ub2e4\", \"\\uac00\\ub4dd\\ud558\\ub2e4\", \"\\uac00\\ub4dd\\ud558\\ub2e4\", \"\\uac00\\uc2b4\", \"\\uac00\\uc2b4\", \"\\uac00\\uc2b4\", \"\\uac00\\uc2b4\", \"\\uac00\\uc2b4\", \"\\uac00\\uc2b4\", \"\\uac00\\uc2b4\", \"\\uac00\\uc2b4\", \"\\uac00\\uc2b4\", \"\\uac00\\uc2dc\", \"\\uac00\\uc2dc\", \"\\uac00\\uc2dc\", \"\\uac00\\uc2dc\", \"\\uac00\\uc9dc\", \"\\uac04\\ub2e4\", \"\\uac04\\ub2e4\", \"\\uac04\\ub2e4\", \"\\uac04\\ub2e4\", \"\\uac04\\uc9c0\\ub7fd\\ub2e4\", \"\\uac04\\uc9c8\", \"\\uac08\\ub798\", \"\\uac08\\ub798\", \"\\uac08\\ub798\", \"\\uac10\\uac01\", \"\\uac10\\uac01\", \"\\uac10\\uac01\", \"\\uac70\\ub098\", \"\\uac70\\ub9ac\", \"\\uac70\\ub9ac\", \"\\uac70\\ub9ac\", \"\\uac70\\ub9ac\", \"\\uac70\\ub9ac\", \"\\uac70\\ub9ac\", \"\\uac70\\ub9ac\", \"\\uac70\\ub9ac\", \"\\uac70\\ubd80\", \"\\uac70\\ubd80\", \"\\uac70\\uc6b8\", \"\\uac70\\uc6b8\", \"\\uac70\\uc6b8\", \"\\uac70\\uc6b8\", \"\\uac70\\uc6b8\", \"\\uac70\\uc6b8\", \"\\uac70\\uc9d3\\ub9d0\", \"\\uac70\\uc9d3\\ub9d0\", \"\\uac70\\uc9d3\\ub9d0\", \"\\uac70\\uc9d3\\ub9d0\", \"\\uaca8\\uc6b8\", \"\\uaca8\\uc6b8\", \"\\uacb0\\ud63c\", \"\\uacc4\\uc808\", \"\\uacc4\\uc808\", \"\\uacc4\\uc808\", \"\\uace0\\uace0\", \"\\uace0\\ub9d9\\ub2e4\", \"\\uace0\\ub9d9\\ub2e4\", \"\\uace0\\ub9d9\\ub2e4\", \"\\uace0\\ubbfc\", \"\\uace0\\ubbfc\", \"\\uace0\\ubbfc\", \"\\uace0\\ubbfc\", \"\\uace0\\ubbfc\", \"\\uace0\\ubbfc\", \"\\uace0\\ubbfc\", \"\\uace0\\ubbfc\", \"\\uace0\\ubbfc\", \"\\uace0\\ubbfc\", \"\\uace8\\ubaa9\\uae38\", \"\\uacf5\\uae30\", \"\\uacf5\\uae30\", \"\\uad1c\\ucc2e\\ub2e4\", \"\\uad1c\\ucc2e\\ub2e4\", \"\\uad1c\\ucc2e\\ub2e4\", \"\\uad1c\\ucc2e\\ub2e4\", \"\\uad1c\\ucc2e\\ub2e4\", \"\\uad1c\\ucc2e\\ub2e4\", \"\\uad1c\\ucc2e\\ub2e4\", \"\\uad1c\\ucc2e\\ub2e4\", \"\\uad1c\\ucc2e\\ub2e4\", \"\\uad1c\\ucc2e\\ub2e4\", \"\\uad6c\\ub984\", \"\\uad6c\\ub984\", \"\\uad6c\\ub984\", \"\\uad6c\\ub984\", \"\\uad6c\\ub984\", \"\\uadc0\\ucc2e\\ub2e4\", \"\\uadf8\\ub0e5\", \"\\uadf8\\ub0e5\", \"\\uadf8\\ub0e5\", \"\\uadf8\\ub0e5\", \"\\uadf8\\ub0e5\", \"\\uadf8\\ub0e5\", \"\\uadf8\\ub0e5\", \"\\uadf8\\ub0e5\", \"\\uadf8\\ub0e5\", \"\\uadf8\\ub0e5\", \"\\uadf8\\ub300\\ub9cc\", \"\\uadf8\\ub300\\ub9cc\", \"\\uadf8\\ub300\\ub9cc\", \"\\uadf8\\ub9ac\\uc6c0\", \"\\uadf8\\ub9ac\\uc6c0\", \"\\uadf8\\ub9cc\\ud558\\ub2e4\", \"\\uadf8\\ub9cc\\ud558\\ub2e4\", \"\\uadf8\\ub9cc\\ud558\\ub2e4\", \"\\uadf8\\ub9cc\\ud558\\ub2e4\", \"\\uae00\\uc384\", \"\\uae30\\uae30\", \"\\uae30\\ubd84\", \"\\uae30\\ubd84\", \"\\uae30\\ubd84\", \"\\uae30\\ubd84\", \"\\uae30\\ubd84\", \"\\uae30\\ubd84\", \"\\uae30\\ubd84\", \"\\uae30\\ubd84\", \"\\uae30\\ubd84\", \"\\uae30\\uc068\", \"\\uae30\\uc068\", \"\\uae30\\uc068\", \"\\uae30\\uc068\", \"\\uae30\\uc5b5\", \"\\uae30\\uc5b5\", \"\\uae30\\uc5b5\", \"\\uae30\\uc5b5\", \"\\uae30\\uc5b5\", \"\\uae30\\uc5b5\", \"\\uae38\\uc774\", \"\\uae38\\uc774\", \"\\uae38\\uc774\", \"\\uae38\\uc774\", \"\\uaf2c\\ub9ac\", \"\\uaf2c\\ub9ac\", \"\\uafc8\\uacb0\", \"\\ub044\\ub355\", \"\\ub098\\uc058\\ub2e4\", \"\\ub098\\uc058\\ub2e4\", \"\\ub098\\uc058\\ub2e4\", \"\\ub098\\uc058\\ub2e4\", \"\\ub098\\uc058\\ub2e4\", \"\\ub098\\uc640\\ub77c\", \"\\ub098\\uc774\", \"\\ub098\\uc774\", \"\\ub098\\uc774\", \"\\ub098\\uc774\", \"\\ub098\\uc774\", \"\\ub098\\uc774\", \"\\ub099\\uc5fd\", \"\\ub099\\uc5fd\", \"\\ub09c\\ub09c\", \"\\ub09c\\ub9ac\", \"\\ub09c\\ub9ac\", \"\\ub0a0\\ub85c\", \"\\ub0a8\\uc544\", \"\\ub0a8\\uc544\", \"\\ub0a8\\uc544\", \"\\ub0a8\\uc544\", \"\\ub0a8\\uc790\", \"\\ub0a8\\uc790\", \"\\ub0a8\\uc790\", \"\\ub0a8\\uc790\", \"\\ub0a8\\uc790\", \"\\ub0a8\\uc790\", \"\\ub0a8\\uc790\", \"\\ub0b4\\uac90\", \"\\ub0b4\\uac90\", \"\\ub0b4\\uac90\", \"\\ub0b4\\uac90\", \"\\ub0b4\\uac90\", \"\\ub0b4\\uac90\", \"\\ub0b4\\uac90\", \"\\ub0b4\\uac90\", \"\\ub118\\uce58\\ub2e4\", \"\\ub118\\uce58\\ub2e4\", \"\\ub118\\uce58\\ub2e4\", \"\\ub118\\uce58\\ub2e4\", \"\\ub118\\uce58\\ub2e4\", \"\\ub118\\uce58\\ub2e4\", \"\\ub118\\uce58\\ub2e4\", \"\\ub118\\uce58\\ub2e4\", \"\\ub118\\uce58\\ub2e4\", \"\\ub178\\ub797\\ub2e4\", \"\\ub178\\ub797\\ub2e4\", \"\\ub178\\ub797\\ub2e4\", \"\\ub178\\ub797\\ub2e4\", \"\\ub178\\ub797\\ub2e4\", \"\\ub178\\ub798\", \"\\ub178\\ub798\", \"\\ub178\\ub798\", \"\\ub178\\ub798\", \"\\ub178\\ub798\", \"\\ub178\\ub798\", \"\\ub178\\ub798\", \"\\ub192\\uc774\", \"\\ub192\\uc774\", \"\\ub192\\uc774\", \"\\ub204\\uac00\", \"\\ub204\\uac00\", \"\\ub204\\uac00\", \"\\ub204\\uac00\", \"\\ub204\\uac00\", \"\\ub204\\uac00\", \"\\ub204\\uac00\", \"\\ub204\\uac00\", \"\\ub204\\uac00\", \"\\ub204\\uac00\", \"\\ub204\\uad70\\uac00\", \"\\ub204\\uad70\\uac00\", \"\\ub204\\uad70\\uac00\", \"\\ub204\\uad70\\uac00\", \"\\ub204\\uad70\\uac00\", \"\\ub204\\uad70\\uac00\", \"\\ub204\\uad70\\uac00\", \"\\ub204\\uad70\\uac00\", \"\\ub208\\ubb3c\", \"\\ub208\\ubb3c\", \"\\ub208\\ubb3c\", \"\\ub208\\ubd80\\uc2dc\\ub2e4\", \"\\ub208\\ubd80\\uc2dc\\ub2e4\", \"\\ub208\\ubd80\\uc2dc\\ub2e4\", \"\\ub208\\ubd80\\uc2dc\\ub2e4\", \"\\ub208\\ubd80\\uc2dc\\ub2e4\", \"\\ub208\\ube5b\", \"\\ub208\\ube5b\", \"\\ub208\\ube5b\", \"\\ub208\\ube5b\", \"\\ub208\\ube5b\", \"\\ub208\\ube5b\", \"\\ub208\\ube5b\", \"\\ub208\\ube5b\", \"\\ub208\\ube5b\", \"\\ub290\\ub08c\", \"\\ub290\\ub08c\", \"\\ub290\\ub08c\", \"\\ub290\\ub08c\", \"\\ub290\\ub08c\", \"\\ub290\\ub08c\", \"\\ub290\\ub08c\", \"\\ub290\\ub08c\", \"\\ub2e4\\ub2e4\\ub2e4\", \"\\ub2ec\\ub77c\", \"\\ub2ec\\ub77c\", \"\\ub2ec\\ub77c\", \"\\ub2ec\\ub77c\", \"\\ub2ec\\ub77c\", \"\\ub2ec\\ub77c\", \"\\ub2ec\\ub77c\", \"\\ub2ec\\ub77c\", \"\\ub2ec\\ub77c\", \"\\ub2ec\\ube5b\", \"\\ub2ec\\ube5b\", \"\\ub2ec\\ube5b\", \"\\ub2ec\\ucf64\", \"\\ub2ec\\ucf64\\ud558\\ub2e4\", \"\\ub2ec\\ucf64\\ud558\\ub2e4\", \"\\ub2ec\\ucf64\\ud558\\ub2e4\", \"\\ub2ec\\ucf64\\ud558\\ub2e4\", \"\\ub2ec\\ucf64\\ud558\\ub2e4\", \"\\ub2ec\\ucf64\\ud558\\ub2e4\", \"\\ub2ec\\ucf64\\ud558\\ub2e4\", \"\\ub2ec\\ucf64\\ud558\\ub2e4\", \"\\ub2ec\\ucf64\\ud558\\ub2e4\", \"\\ub2f5\\ub2f5\\ud558\\ub2e4\", \"\\ub2f5\\ub2f5\\ud558\\ub2e4\", \"\\ub2f5\\ub2f5\\ud558\\ub2e4\", \"\\ub2f5\\ub2f5\\ud558\\ub2e4\", \"\\ub2f5\\ub2f5\\ud558\\ub2e4\", \"\\ub2f5\\ub2f5\\ud558\\ub2e4\", \"\\ub2f5\\ub2f5\\ud558\\ub2e4\", \"\\ub2f9\\ud558\\ub2e4\", \"\\ub300\\uccb4\", \"\\ub300\\uccb4\", \"\\ub300\\uccb4\", \"\\ub300\\uccb4\", \"\\ub300\\uccb4\", \"\\ub300\\uccb4\", \"\\ub300\\uccb4\", \"\\ub300\\ud55c\\ubbfc\\uad6d\", \"\\ub354\\ub7fd\\ub2e4\", \"\\ub354\\ub7fd\\ub2e4\", \"\\ub354\\ub7fd\\ub2e4\", \"\\ub364\\ub364\\ud558\\ub2e4\", \"\\ub370\\ubaa8\", \"\\ub3c4\\ub300\\uccb4\", \"\\ub3c4\\ub300\\uccb4\", \"\\ub3c4\\ub300\\uccb4\", \"\\ub3c4\\ub300\\uccb4\", \"\\ub3c4\\ub300\\uccb4\", \"\\ub3c4\\ub300\\uccb4\", \"\\ub3c4\\ub8cc\", \"\\ub3c4\\ub9dd\", \"\\ub3cc\\ub9ac\\uc9c0\", \"\\ub450\\uadfc\\uac70\\ub9ac\\ub2e4\", \"\\ub450\\uadfc\\uac70\\ub9ac\\ub2e4\", \"\\ub450\\ub835\\ub2e4\", \"\\ub450\\ub835\\ub2e4\", \"\\ub450\\ub835\\ub2e4\", \"\\ub450\\ub835\\ub2e4\", \"\\ub450\\ub835\\ub2e4\", \"\\ub450\\ub835\\ub2e4\", \"\\ub450\\ub835\\ub2e4\", \"\\ub450\\ub8e8\", \"\\ub4dc\\ub8e8\", \"\\ub54c\\ubb38\", \"\\ub54c\\ubb38\", \"\\ub54c\\ubb38\", \"\\ub54c\\ubb38\", \"\\ub54c\\ubb38\", \"\\ub54c\\ubb38\", \"\\ub69c\\ub69c\\ub69c\", \"\\ub728\\uac81\\ub2e4\", \"\\ub728\\uac81\\ub2e4\", \"\\ub728\\uac81\\ub2e4\", \"\\ub728\\uac81\\ub2e4\", \"\\ub728\\uac81\\ub2e4\", \"\\ub728\\uac81\\ub2e4\", \"\\ub728\\uac81\\ub2e4\", \"\\ub728\\uac81\\ub2e4\", \"\\ub77c\\uc774\", \"\\ub784\\ub77c\\ub77c\", \"\\ub7a9\\ubaac\", \"\\ub808\\ub8e8\", \"\\ub808\\uc624\", \"\\ub808\\ud14c\", \"\\ub85c\\uafb8\\uac70\", \"\\ub85c\\ub9e8\\uc2a4\", \"\\ub864\\ub7ec\\ucf54\\uc2a4\\ud130\", \"\\ub8e8\\ub8e8\", \"\\ub9ac\\ub4ec\", \"\\ub9ac\\ub4ec\", \"\\ub9ac\\ub4ec\", \"\\ub9ac\\ub4ec\", \"\\ub9ac\\ub9ac\", \"\\ub9c8\\ub9ac\\uc544\", \"\\ub9c8\\ub9c8\", \"\\ub9c8\\uc74c\", \"\\ub9c8\\uc74c\", \"\\ub9c8\\uc74c\", \"\\ub9c8\\uc74c\", \"\\ub9c8\\uc74c\", \"\\ub9c8\\uc74c\", \"\\ub9c8\\uc74c\", \"\\ub9c8\\uc74c\", \"\\ub9c8\\uc774\", \"\\ub9c8\\uc9c0\\ub9c9\", \"\\ub9c8\\uc9c0\\ub9c9\", \"\\ub9c8\\uc9c0\\ub9c9\", \"\\ub9c8\\uc9c0\\ub9c9\", \"\\ub9c8\\uc9c0\\ub9c9\", \"\\ub9c8\\uc9c0\\ub9c9\", \"\\ub9c8\\uc9c0\\ub9c9\", \"\\ub9c8\\uc9c0\\ub9c9\", \"\\ub9cc\\uc138\", \"\\ub9ce\\ub2e4\", \"\\ub9ce\\ub2e4\", \"\\ub9ce\\ub2e4\", \"\\ub9ce\\ub2e4\", \"\\ub9ce\\ub2e4\", \"\\ub9ce\\ub2e4\", \"\\ub9ce\\ub2e4\", \"\\ub9ce\\ub2e4\", \"\\ub9ce\\ub2e4\", \"\\ub9ce\\ub2e4\", \"\\ub9d0\\ub85c\", \"\\ub9d0\\ub85c\", \"\\ub9d0\\ub85c\", \"\\ub9d0\\ub85c\", \"\\ub9d0\\ub85c\", \"\\ub9d0\\ub85c\", \"\\ub9d0\\ub85c\", \"\\ub9e4\\uc77c\", \"\\ub9e4\\uc77c\", \"\\ub9e4\\uc77c\", \"\\ub9e4\\uc77c\", \"\\ub9e4\\uc77c\", \"\\ub9e4\\uc77c\", \"\\ub9e4\\uc77c\", \"\\ub9e4\\uc77c\", \"\\ub9e4\\uc77c\", \"\\ub9e4\\uc77c\", \"\\ub9e4\\uc77c\", \"\\ub9e4\\uc77c\", \"\\ub9e4\\uc77c\", \"\\ub9f9\\uc138\", \"\\uba38\\ub9ac\", \"\\uba38\\ub9ac\", \"\\uba38\\ub9ac\", \"\\uba38\\ub9ac\", \"\\uba38\\ub9ac\", \"\\uba38\\ub9ac\", \"\\uba38\\ub9ac\", \"\\uba38\\ub9ac\", \"\\uba38\\ub9ac\", \"\\uba38\\ub9ac\", \"\\uba38\\ub9ac\", \"\\uba4b\\ub300\\ub85c\", \"\\uba4b\\ub300\\ub85c\", \"\\uba4b\\ub300\\ub85c\", \"\\uba4b\\ub300\\ub85c\", \"\\uba58\\ud2b8\", \"\\uba58\\ud2b8\", \"\\ubaa8\\ub4e0\", \"\\ubaa8\\ub4e0\", \"\\ubaa8\\ub4e0\", \"\\ubaa8\\ub4e0\", \"\\ubaa8\\ub4e0\", \"\\ubaa8\\ub4e0\", \"\\ubaa8\\ub4e0\", \"\\ubaa8\\ub4e0\", \"\\ubaa8\\ub4e0\", \"\\ubaa8\\ub4e0\", \"\\ubaa8\\ub4e0\", \"\\ubaa8\\ub798\\uc131\", \"\\ubaa8\\uc2b5\", \"\\ubaa8\\uc2b5\", \"\\ubaa8\\uc2b5\", \"\\ubaa8\\uc2b5\", \"\\ubaa8\\uc2b5\", \"\\ubaa8\\uc2b5\", \"\\ubaa8\\uc2b5\", \"\\ubaa8\\uc774\", \"\\ubaa8\\uc9c8\\ub2e4\", \"\\ubb34\\uc12d\\ub2e4\", \"\\ubb34\\uc12d\\ub2e4\", \"\\ubb34\\uc12d\\ub2e4\", \"\\ubb34\\uc12d\\ub2e4\", \"\\ubb34\\uc12d\\ub2e4\", \"\\ubb34\\uc12d\\ub2e4\", \"\\ubb36\\uc778\", \"\\ubbf8\\ub178\", \"\\ubbf8\\ub2c8\\uc2a4\\ucee4\\ud2b8\", \"\\ubbf8\\ub828\", \"\\ubbf8\\ub828\", \"\\ubbf8\\ub85c\", \"\\ubbf8\\ub85c\", \"\\ubbf8\\ub85c\", \"\\ubbf8\\ub85c\", \"\\ubbf8\\ub85c\", \"\\ubbf8\\uc18c\", \"\\ubbf8\\uc18c\", \"\\ubbf8\\uc18c\", \"\\ubbf8\\uc18c\", \"\\ubbf8\\uc18c\", \"\\ubbf8\\uc18c\", \"\\ubbf8\\uc18c\", \"\\ubbf8\\uc548\\ud558\\ub2e4\", \"\\ubbf8\\uc548\\ud558\\ub2e4\", \"\\ubbf8\\uc548\\ud558\\ub2e4\", \"\\ubbf8\\uce58\\ub2e4\", \"\\ubbf8\\uce58\\ub2e4\", \"\\ubbf8\\uce58\\ub2e4\", \"\\ubbf8\\uce58\\ub2e4\", \"\\ubbf8\\uce58\\ub2e4\", \"\\ubbf8\\uce58\\ub2e4\", \"\\ubbf8\\uce58\\ub2e4\", \"\\ubbf8\\uce58\\ub2e4\", \"\\ubbf8\\uce58\\ub2e4\", \"\\ubbf8\\uce58\\ub2e4\", \"\\ubbf8\\uce58\\ub2e4\", \"\\ubbf8\\uce58\\ub2e4\", \"\\ubc09\\ub2e4\", \"\\ubc09\\ub2e4\", \"\\ubc09\\ub2e4\", \"\\ubc09\\ub2e4\", \"\\ubc09\\ub2e4\", \"\\ubc14\\ub2e4\", \"\\ubc14\\ub2e4\", \"\\ubc14\\ub2e4\", \"\\ubc14\\ub2e4\", \"\\ubc14\\ub2e4\", \"\\ubc14\\ub2e4\", \"\\ubc14\\ub77c\\ubc14\", \"\\ubc14\\ub78c\", \"\\ubc14\\ub78c\", \"\\ubc14\\ub78c\", \"\\ubc14\\ub78c\", \"\\ubc14\\ub78c\", \"\\ubc14\\ub78c\", \"\\ubc14\\ub78c\", \"\\ubc14\\ub78c\", \"\\ubc14\\ubcf4\", \"\\ubc14\\ubcf4\", \"\\ubc14\\ubcf4\", \"\\ubc14\\ubcf4\", \"\\ubc14\\uc9dd\", \"\\ubc15\\uc218\", \"\\ubc18\\uc804\", \"\\ubc18\\uc804\", \"\\ubc18\\uc9dd\", \"\\ubc18\\uc9dd\", \"\\ubc18\\uce59\", \"\\ubc24\\ubc14\", \"\\ubc29\\ud0c4\", \"\\ubc30\\ucd94\", \"\\ubc45\\uae00\", \"\\ubca0\\ubca0\", \"\\ubca0\\ubca0\", \"\\ubcc0\\ud558\\ub2e4\", \"\\ubcc0\\ud558\\ub2e4\", \"\\ubcc0\\ud558\\ub2e4\", \"\\ubcc0\\ud558\\ub2e4\", \"\\ubcc0\\ud558\\ub2e4\", \"\\ubcc0\\ud558\\ub2e4\", \"\\ubcc0\\ud558\\ub2e4\", \"\\ubcf4\\uace0\", \"\\ubcf4\\uace0\", \"\\ubcf4\\uace0\", \"\\ubcf4\\uace0\", \"\\ubcf4\\uace0\", \"\\ubcf4\\uace0\", \"\\ubcf4\\uace0\", \"\\ubcf4\\uace0\", \"\\ubcf4\\uace0\", \"\\ubcf4\\uc308\", \"\\ubd80\\ub514\", \"\\ubd80\\ubaa8\\ub2d8\", \"\\ubd90\\ubd90\", \"\\ube44\\ubc00\", \"\\ube44\\ubc00\", \"\\ube44\\ubc00\", \"\\ube44\\ubc00\", \"\\ube44\\ubc00\\uc2a4\\ub7fd\\ub2e4\", \"\\ube44\\ubc14\\ub78c\", \"\\ube44\\ud2b8\", \"\\ube48\\uc790\\ub9ac\", \"\\ube48\\uc790\\ub9ac\", \"\\ube57\\ubb3c\", \"\\ube59\\ube59\", \"\\ubed4\\ud558\\ub2e4\", \"\\ubed4\\ud558\\ub2e4\", \"\\ubed4\\ud558\\ub2e4\", \"\\ubed4\\ud558\\ub2e4\", \"\\ubed4\\ud558\\ub2e4\", \"\\ubed4\\ud558\\ub2e4\", \"\\ubed4\\ud558\\ub2e4\", \"\\ubed4\\ud558\\ub2e4\", \"\\ubed4\\ud558\\ub2e4\", \"\\uc090\\uc090\", \"\\uc0ac\\ub78c\", \"\\uc0ac\\ub78c\", \"\\uc0ac\\ub78c\", \"\\uc0ac\\ub78c\", \"\\uc0ac\\ub78c\", \"\\uc0ac\\ub78c\", \"\\uc0ac\\ub78c\", \"\\uc0ac\\ub78c\", \"\\uc0ac\\ub78c\", \"\\uc0ac\\ub78c\", \"\\uc0ac\\ub791\", \"\\uc0ac\\ub791\", \"\\uc0ac\\ub791\", \"\\uc0ac\\ub791\", \"\\uc0ac\\ub791\", \"\\uc0ac\\ub791\", \"\\uc0ac\\ub791\", \"\\uc0ac\\ub791\", \"\\uc0ac\\ub791\", \"\\uc0ac\\ub974\\ub974\", \"\\uc0ac\\ubc29\", \"\\uc0ac\\uc2e4\", \"\\uc0ac\\uc2e4\", \"\\uc0ac\\uc2e4\", \"\\uc0ac\\uc2e4\", \"\\uc0ac\\uc2e4\", \"\\uc0ac\\uc2e4\", \"\\uc0ac\\ud0d5\", \"\\uc0c1\\uc0c1\", \"\\uc0c1\\uc0c1\", \"\\uc0c1\\uc0c1\", \"\\uc0c1\\uc0c1\", \"\\uc0c1\\uc0c1\", \"\\uc0c1\\uc0c1\", \"\\uc0c1\\ucc98\", \"\\uc0c1\\ucc98\", \"\\uc0c1\\ucc98\", \"\\uc0c1\\ucc98\", \"\\uc0c1\\ucc98\", \"\\uc0c1\\ucc98\", \"\\uc0c1\\ud0dc\", \"\\uc0c8\\ub07c\", \"\\uc0c8\\ub86d\\ub2e4\", \"\\uc0c8\\ub86d\\ub2e4\", \"\\uc0c8\\ub86d\\ub2e4\", \"\\uc0c8\\ub86d\\ub2e4\", \"\\uc0c8\\ub86d\\ub2e4\", \"\\uc0c8\\ub86d\\ub2e4\", \"\\uc0c8\\ub86d\\ub2e4\", \"\\uc0dd\\uac01\", \"\\uc0dd\\uac01\", \"\\uc0dd\\uac01\", \"\\uc0dd\\uac01\", \"\\uc0dd\\uac01\", \"\\uc0dd\\uac01\", \"\\uc0dd\\uac01\", \"\\uc0dd\\uac01\", \"\\uc124\\ub808\\ub2e4\", \"\\uc124\\ub808\\ub2e4\", \"\\uc124\\ub808\\ub2e4\", \"\\uc124\\ub808\\ub2e4\", \"\\uc131\\uacf5\", \"\\uc138\\uc0c1\", \"\\uc138\\uc0c1\", \"\\uc138\\uc0c1\", \"\\uc138\\uc0c1\", \"\\uc138\\uc0c1\", \"\\uc138\\uc0c1\", \"\\uc138\\uc0c1\", \"\\uc138\\uc0c1\", \"\\uc18c\\ub140\", \"\\uc18c\\ub140\", \"\\uc18c\\ub140\", \"\\uc18c\\ub9ac\", \"\\uc18c\\ub9ac\", \"\\uc18c\\ub9ac\", \"\\uc18c\\ub9ac\", \"\\uc18c\\ub9ac\", \"\\uc18c\\ub9ac\", \"\\uc18c\\ub9ac\", \"\\uc18c\\ub9ac\", \"\\uc18c\\ub9ac\", \"\\uc18c\\ub9ac\", \"\\uc18c\\uc911\\ud558\\ub2e4\", \"\\uc18c\\uc911\\ud558\\ub2e4\", \"\\uc18c\\uc911\\ud558\\ub2e4\", \"\\uc18c\\uc911\\ud558\\ub2e4\", \"\\uc190\\uae38\", \"\\uc190\\uae38\", \"\\uc190\\uae38\", \"\\uc194\\uc9c1\\ud558\\ub2e4\", \"\\uc194\\uc9c1\\ud558\\ub2e4\", \"\\uc194\\uc9c1\\ud558\\ub2e4\", \"\\uc194\\uc9c1\\ud558\\ub2e4\", \"\\uc194\\uc9c1\\ud558\\ub2e4\", \"\\uc194\\uc9c1\\ud558\\ub2e4\", \"\\uc194\\uc9c1\\ud558\\ub2e4\", \"\\uc194\\uc9c1\\ud558\\ub2e4\", \"\\uc21c\\uac04\", \"\\uc21c\\uac04\", \"\\uc21c\\uac04\", \"\\uc21c\\uac04\", \"\\uc21c\\uac04\", \"\\uc21c\\uac04\", \"\\uc21c\\uac04\", \"\\uc21c\\uac04\", \"\\uc21c\\uac04\", \"\\uc21c\\uac04\", \"\\uc288\\uac00\", \"\\uc2a4\\ub974\\ub974\", \"\\uc2ac\\ud504\\ub2e4\", \"\\uc2ac\\ud504\\ub2e4\", \"\\uc2ac\\ud504\\ub2e4\", \"\\uc2ac\\ud504\\ub2e4\", \"\\uc2ac\\ud514\", \"\\uc2dc\\uc18c\", \"\\uc2dc\\uc791\", \"\\uc2dc\\uc791\", \"\\uc2dc\\uc791\", \"\\uc2dc\\uc791\", \"\\uc2dc\\uc791\", \"\\uc2dc\\uc791\", \"\\uc2dc\\uc791\", \"\\uc2dc\\uc791\", \"\\uc2dc\\uc791\", \"\\uc2dc\\uc791\", \"\\uc2dc\\uc791\", \"\\uc2dc\\uc808\", \"\\uc2dc\\uc808\", \"\\uc2e0\\uc18d\\ud558\\ub2e4\", \"\\uc2eb\\ub2e4\", \"\\uc2eb\\ub2e4\", \"\\uc2eb\\ub2e4\", \"\\uc2eb\\ub2e4\", \"\\uc2eb\\ub2e4\", \"\\uc2eb\\ub2e4\", \"\\uc2eb\\ub2e4\", \"\\uc2eb\\ub2e4\", \"\\uc2ec\\uc7a5\", \"\\uc2ec\\uc7a5\", \"\\uc2ec\\uc7a5\", \"\\uc2ec\\uc7a5\", \"\\uc2ec\\uc7a5\", \"\\uc2ec\\uc7a5\", \"\\uc2ec\\uc7a5\", \"\\uc2ec\\uc7a5\", \"\\uc2ec\\uc7a5\", \"\\uc2ec\\uc7a5\", \"\\uc2ec\\uc7a5\", \"\\uc378\\ud0c0\", \"\\uc544\\ub798\", \"\\uc544\\ub798\", \"\\uc544\\ub798\", \"\\uc544\\ub798\", \"\\uc544\\ub798\", \"\\uc544\\ub798\", \"\\uc544\\ub984\\ub2f5\\ub2e4\", \"\\uc544\\ub984\\ub2f5\\ub2e4\", \"\\uc544\\ub984\\ub2f5\\ub2e4\", \"\\uc544\\ub984\\ub2f5\\ub2e4\", \"\\uc544\\ub984\\ub2f5\\ub2e4\", \"\\uc544\\ub984\\ub2f5\\ub2e4\", \"\\uc544\\ubb34\", \"\\uc544\\ubb34\", \"\\uc544\\ubb34\", \"\\uc544\\ubb34\", \"\\uc544\\ubb34\", \"\\uc544\\ubb34\", \"\\uc544\\ubb34\", \"\\uc544\\ubb34\", \"\\uc544\\ubb34\", \"\\uc544\\uc544\", \"\\uc544\\uc608\", \"\\uc544\\uc608\", \"\\uc544\\ud30c\\ud574\", \"\\uc544\\ud504\\ub2e4\", \"\\uc544\\ud504\\ub2e4\", \"\\uc544\\ud504\\ub2e4\", \"\\uc544\\ud504\\ub2e4\", \"\\uc544\\ud504\\ub2e4\", \"\\uc544\\ud514\", \"\\uc544\\ud514\", \"\\uc544\\ud514\", \"\\uc544\\ud514\", \"\\uc548\\ub155\\ud558\\ub2e4\", \"\\uc54c\\ub78c\", \"\\uc560\\uad50\", \"\\uc560\\ub9e4\", \"\\uc560\\ub9e4\\ud558\\ub2e4\", \"\\uc560\\ub9e4\\ud558\\ub2e4\", \"\\uc560\\ud2cb\\ud558\\ub2e4\", \"\\uc57c\\uc57c\", \"\\uc57c\\uc57c\", \"\\uc57d\\uc18d\", \"\\uc57d\\uc18d\", \"\\uc57d\\uc18d\", \"\\uc57d\\uc18d\", \"\\uc57d\\uc18d\", \"\\uc5b4\\ub3c4\", \"\\uc5b4\\ub978\", \"\\uc5b4\\ub978\", \"\\uc5b4\\ub978\", \"\\uc5b4\\ub978\", \"\\uc5b4\\ub978\", \"\\uc5b4\\ub978\", \"\\uc5b4\\ub978\", \"\\uc5b4\\uba38\", \"\\uc5b4\\uba38\", \"\\uc5b4\\uc5b4\", \"\\uc5b4\\uc5b4\", \"\\uc5b4\\uc5b4\", \"\\uc5b8\\ub2c8\", \"\\uc5b8\\ub2c8\", \"\\uc5bc\\uad74\", \"\\uc5bc\\uad74\", \"\\uc5bc\\uad74\", \"\\uc5bc\\uad74\", \"\\uc5bc\\uad74\", \"\\uc5bc\\uad74\", \"\\uc5bc\\uad74\", \"\\uc5bc\\uad74\", \"\\uc5c4\\ub9c8\", \"\\uc5c4\\ub9c8\", \"\\uc5c4\\ub9c8\", \"\\uc5c4\\ub9c8\", \"\\uc5d0\\uc774\", \"\\uc5ec\\ub984\", \"\\uc5ec\\ub984\", \"\\uc5ec\\ub984\", \"\\uc5ec\\ub984\", \"\\uc5ec\\ub984\\ub0a0\", \"\\uc5ec\\ub984\\ubc24\", \"\\uc5ec\\uc790\", \"\\uc5ec\\uc790\", \"\\uc5ec\\uc790\", \"\\uc5ec\\uc790\", \"\\uc5ec\\uc790\", \"\\uc5ec\\uc790\", \"\\uc5ec\\uc790\", \"\\uc5f0\\uc560\", \"\\uc5f0\\uc778\", \"\\uc5f0\\uc778\", \"\\uc5f0\\uc778\", \"\\uc5f0\\uc778\", \"\\uc601\\uc6d0\\ud558\\ub2e4\", \"\\uc601\\uc6d0\\ud558\\ub2e4\", \"\\uc601\\uc6d0\\ud558\\ub2e4\", \"\\uc601\\uc6d0\\ud558\\ub2e4\", \"\\uc601\\uc6d0\\ud558\\ub2e4\", \"\\uc601\\uc6d0\\ud558\\ub2e4\", \"\\uc608\\uc058\\ub2e4\", \"\\uc608\\uc058\\ub2e4\", \"\\uc608\\uc058\\ub2e4\", \"\\uc608\\uc058\\ub2e4\", \"\\uc608\\uc058\\ub2e4\", \"\\uc608\\uc058\\ub2e4\", \"\\uc608\\uc058\\ub2e4\", \"\\uc608\\uc058\\ub2e4\", \"\\uc608\\uc774\\uc608\", \"\\uc608\\uc774\\uc608\", \"\\uc624\\ub298\", \"\\uc624\\ub298\", \"\\uc624\\ub298\", \"\\uc624\\ub298\", \"\\uc624\\ub298\", \"\\uc624\\ub298\", \"\\uc624\\ub298\", \"\\uc624\\ub298\", \"\\uc624\\ub298\", \"\\uc624\\ub298\", \"\\uc624\\ub298\", \"\\uc624\\ub298\\ubc24\", \"\\uc624\\ub298\\ubc24\", \"\\uc624\\ub298\\ubc24\", \"\\uc624\\ub298\\ubc24\", \"\\uc624\\ub298\\ubc24\", \"\\uc624\\ub298\\ubc24\", \"\\uc624\\ub298\\ubc24\", \"\\uc624\\ub298\\ubc24\", \"\\uc624\\ub808\", \"\\uc624\\ube60\", \"\\uc624\\ube60\", \"\\uc624\\uc608\", \"\\uc624\\uc624\\uc624\", \"\\uc624\\uc624\\uc624\", \"\\uc624\\uc624\\uc624\", \"\\uc628\\ub3c4\", \"\\uc678\\ub85c\\uc6c0\", \"\\uc678\\ub85c\\uc6c0\", \"\\uc678\\ub85c\\uc6c0\", \"\\uc694\\uc998\", \"\\uc694\\uc998\", \"\\uc694\\uc998\", \"\\uc694\\uc998\", \"\\uc6b0\\ub9b0\", \"\\uc6b0\\ub9b0\", \"\\uc6b0\\ub9b0\", \"\\uc6b0\\ub9b0\", \"\\uc6b0\\ub9b0\", \"\\uc6b0\\ub9b0\", \"\\uc6b0\\ub9b0\", \"\\uc6b0\\ub9b0\", \"\\uc6b0\\ub9b0\", \"\\uc6b0\\uc5f0\\uc774\", \"\\uc6b0\\uc8fc\", \"\\uc6b0\\uc8fc\", \"\\uc6b0\\uc8fc\", \"\\uc6b0\\uc8fc\", \"\\uc6b0\\uc8fc\", \"\\uc6b0\\uc8fc\", \"\\uc6b4\\uba85\", \"\\uc6b4\\uba85\", \"\\uc6b4\\uba85\", \"\\uc6b4\\uba85\", \"\\uc6b4\\uba85\", \"\\uc6b4\\uba85\", \"\\uc6b4\\uba85\", \"\\uc6d0\\ub798\", \"\\uc6d0\\ub798\", \"\\uc6d0\\ub9dd\\ud558\\ub2e4\", \"\\uc6d0\\ub9dd\\ud558\\ub2e4\", \"\\uc6d0\\ud558\\ub2e4\", \"\\uc6d0\\ud558\\ub2e4\", \"\\uc6d0\\ud558\\ub2e4\", \"\\uc6d0\\ud558\\ub2e4\", \"\\uc6d0\\ud558\\ub2e4\", \"\\uc6d0\\ud558\\ub2e4\", \"\\uc6d0\\ud558\\ub2e4\", \"\\uc6d0\\ud558\\ub2e4\", \"\\uc6d0\\ud558\\ub2e4\", \"\\uc6d0\\ud558\\ub2e4\", \"\\uc6d0\\ud558\\ub2e4\", \"\\uc6d0\\ud558\\ub2e4\", \"\\uc6d0\\ud558\\ub2e4\", \"\\uc704\\ub85c\", \"\\uc704\\ub85c\", \"\\uc704\\ub85c\", \"\\uc704\\ub85c\", \"\\uc704\\ub85c\", \"\\uc704\\ub85c\", \"\\uc704\\ud574\", \"\\uc704\\ud574\", \"\\uc704\\ud574\", \"\\uc704\\ud574\", \"\\uc704\\ud574\", \"\\uc704\\ud574\", \"\\uc704\\ud574\", \"\\uc704\\ud574\", \"\\uc704\\ud574\", \"\\uc704\\ud5d8\\ud558\\ub2e4\", \"\\uc704\\ud5d8\\ud558\\ub2e4\", \"\\uc704\\ud5d8\\ud558\\ub2e4\", \"\\uc704\\ud5d8\\ud558\\ub2e4\", \"\\uc704\\ud5d8\\ud558\\ub2e4\", \"\\uc720\\ud589\\uac00\", \"\\uc774\\ub178\", \"\\uc774\\ubcc4\", \"\\uc774\\ubcc4\", \"\\uc774\\ubd88\", \"\\uc774\\uc0c1\\ud558\\ub2e4\", \"\\uc774\\uc0c1\\ud558\\ub2e4\", \"\\uc774\\uc0c1\\ud558\\ub2e4\", \"\\uc774\\uc0c1\\ud558\\ub2e4\", \"\\uc774\\uc0c1\\ud558\\ub2e4\", \"\\uc774\\uc0c1\\ud558\\ub2e4\", \"\\uc774\\uc81c\", \"\\uc774\\uc81c\", \"\\uc774\\uc81c\", \"\\uc774\\uc81c\", \"\\uc774\\uc81c\", \"\\uc774\\uc81c\", \"\\uc774\\uc81c\", \"\\uc774\\uc81c\", \"\\uc774\\uc81c\", \"\\uc774\\uc81c\", \"\\uc774\\uc81c\", \"\\uc774\\uc81c\", \"\\uc774\\ud2c0\", \"\\uc778\\uc0dd\", \"\\uc778\\uc0dd\", \"\\uc778\\uc0dd\", \"\\uc778\\uc0dd\", \"\\uc778\\uc0dd\", \"\\uc778\\uc0dd\", \"\\uc778\\uc0dd\", \"\\uc778\\uc0dd\", \"\\uc778\\uc0dd\", \"\\uc77c\\ub8e8\", \"\\uc77c\\ubd80\\ub7ec\", \"\\uc77c\\uc8fc\\uc77c\", \"\\uc785\\ubc84\\ub987\", \"\\uc790\\uaca9\", \"\\uc790\\uafb8\", \"\\uc790\\uafb8\", \"\\uc790\\uafb8\", \"\\uc790\\uafb8\", \"\\uc790\\uafb8\", \"\\uc790\\uafb8\", \"\\uc790\\uafb8\", \"\\uc791\\ub2e4\", \"\\uc791\\ub2e4\", \"\\uc791\\ub2e4\", \"\\uc791\\ub2e4\", \"\\uc791\\ub2e4\", \"\\uc791\\ub2e4\", \"\\uc791\\ub2e4\", \"\\uc794\\ub729\", \"\\uc808\\ub300\", \"\\uc808\\ub300\", \"\\uc808\\ub300\", \"\\uc808\\ub300\", \"\\uc808\\ub300\", \"\\uc808\\ub300\", \"\\uc808\\ub300\", \"\\uc808\\ub300\", \"\\uc808\\ub300\", \"\\uc808\\ub300\", \"\\uc808\\ub300\", \"\\uc815\\ub3c4\", \"\\uc815\\ub3c4\", \"\\uc815\\ub3c4\", \"\\uc815\\ub3c4\", \"\\uc815\\ub3c4\", \"\\uc815\\ub9d0\", \"\\uc815\\ub9d0\", \"\\uc815\\ub9d0\", \"\\uc815\\ub9d0\", \"\\uc815\\ub9d0\", \"\\uc815\\ub9d0\", \"\\uc815\\ub9d0\", \"\\uc81c\\ubc1c\", \"\\uc81c\\ubc1c\", \"\\uc81c\\ubc1c\", \"\\uc81c\\ubc1c\", \"\\uc81c\\ubc1c\", \"\\uc81c\\ubc1c\", \"\\uc81c\\ubc1c\", \"\\uc81c\\ubc1c\", \"\\uc870\\uadf8\\ub9cc\", \"\\uc870\\uadf8\\ub9cc\", \"\\uc88b\\ub2e4\", \"\\uc88b\\ub2e4\", \"\\uc88b\\ub2e4\", \"\\uc88b\\ub2e4\", \"\\uc88b\\ub2e4\", \"\\uc88b\\ub2e4\", \"\\uc88b\\ub2e4\", \"\\uc88b\\ub2e4\", \"\\uc88b\\ub2e4\", \"\\uc88b\\ub2e4\", \"\\uc88b\\ub2e4\", \"\\uc88b\\uc544\\ud558\\ub2e4\", \"\\uc88b\\uc544\\ud558\\ub2e4\", \"\\uc88b\\uc544\\ud558\\ub2e4\", \"\\uc88b\\uc544\\ud558\\ub2e4\", \"\\uc88b\\uc544\\ud558\\ub2e4\", \"\\uc88b\\uc544\\ud558\\ub2e4\", \"\\uc8fc\\uc70c\", \"\\uc900\\ube44\", \"\\uc900\\ube44\", \"\\uc900\\ube44\", \"\\uc900\\ube44\", \"\\uc900\\ube44\", \"\\uc900\\ube44\", \"\\uc900\\ube44\", \"\\uc900\\ube44\", \"\\uc900\\ube44\", \"\\uc900\\ube44\", \"\\uc900\\ube44\", \"\\uc904\\ub2e4\\ub9ac\\uae30\", \"\\uc911\\ub3c5\", \"\\uc911\\ub3c5\", \"\\uc911\\ub3c5\", \"\\uc9c0\\uae08\", \"\\uc9c0\\uae08\", \"\\uc9c0\\uae08\", \"\\uc9c0\\uae08\", \"\\uc9c0\\uae08\", \"\\uc9c0\\uae08\", \"\\uc9c0\\uae08\", \"\\uc9c0\\uae08\", \"\\uc9c0\\uae08\", \"\\uc9c0\\uae08\", \"\\uc9c0\\ub09c\\ub0a0\", \"\\uc9c4\\uc9dc\", \"\\uc9c4\\uc9dc\", \"\\uc9c4\\uc9dc\", \"\\uc9c4\\uc9dc\", \"\\uc9d5\\uae00\", \"\\uc9d5\\uae00\\uc9d5\\uae00\", \"\\uc9dd\\uc9dd\", \"\\uc9f8\\uae4d\", \"\\ucc0c\\ub9bf\", \"\\ucc28\\uc6d0\", \"\\ucc28\\uc6d0\", \"\\ucc30\\ub098\", \"\\ucc98\\uc74c\", \"\\ucc98\\uc74c\", \"\\ucc98\\uc74c\", \"\\ucc98\\uc74c\", \"\\ucc98\\uc74c\", \"\\ucc98\\uc74c\", \"\\ucc98\\uc74c\", \"\\uccab\\uc0ac\\ub791\", \"\\uccab\\uc0ac\\ub791\", \"\\ucd5c\\uace0\", \"\\ucd5c\\uace0\", \"\\ucd5c\\uace0\", \"\\ucd5c\\uace0\", \"\\ucd5c\\uace0\", \"\\ucd5c\\uace0\", \"\\ucd5c\\uace0\", \"\\ucd94\\uc5b5\", \"\\ucd94\\uc5b5\", \"\\ucd94\\uc5b5\", \"\\ucd9c\\uad6c\", \"\\ucda5\\ub2e4\", \"\\ucde8\\ud5a5\", \"\\uce5c\\uad6c\", \"\\uce5c\\uad6c\", \"\\uce5c\\uad6c\", \"\\uce5c\\uad6c\", \"\\uce5c\\uad6c\", \"\\uce5c\\uad6c\", \"\\uce5c\\uad6c\", \"\\uce5c\\uad6c\", \"\\uce5c\\uad6c\", \"\\uce60\\ud558\\ub2e4\", \"\\uce60\\ud558\\ub2e4\", \"\\uce74\\ub098\", \"\\uce74\\ub77c\", \"\\uce84\\uce84\\ud558\\ub2e4\", \"\\ucf54\\ub178\", \"\\ucf54\\ucf54\", \"\\ud06c\\ub9ac\\uc2a4\\ub9c8\\uc2a4\", \"\\ud070\\uc77c\", \"\\ud070\\uc77c\", \"\\ud070\\uc77c\", \"\\ud0c0\\uc774\", \"\\ud0d5\\uc9c4\", \"\\ud1a1\\ud1a1\", \"\\ud22c\\uba85\\ud558\\ub2e4\", \"\\ud22c\\uba85\\ud558\\ub2e4\", \"\\ud22c\\uc131\\uc774\", \"\\ud295\\uae30\", \"\\ud30c\\ub3c4\", \"\\ud30c\\ub3c4\", \"\\ud30c\\ub3c4\", \"\\ud478\\ub978\", \"\\ud478\\ub978\", \"\\ud478\\ub978\", \"\\ud478\\ub978\", \"\\ud48d\\ub385\\uc774\", \"\\ud48d\\uc120\", \"\\ud504\\ub9ac\\ub9c8\\ub3c8\\ub098\", \"\\ud53c\\uc5b4\", \"\\ud53c\\uc5b4\", \"\\ud53c\\uc5b4\", \"\\ud53c\\uc5b4\", \"\\ud551\\ud06c\", \"\\ud551\\ud06c\", \"\\ud558\\ub298\", \"\\ud558\\ub298\", \"\\ud558\\ub298\", \"\\ud558\\ub298\", \"\\ud558\\ub298\", \"\\ud558\\ub298\", \"\\ud558\\ub8e8\", \"\\ud558\\ub8e8\", \"\\ud558\\ub8e8\", \"\\ud558\\ub8e8\", \"\\ud558\\ub8e8\", \"\\ud558\\ub8e8\", \"\\ud558\\ub8e8\", \"\\ud558\\ub8e8\", \"\\ud558\\ub8e8\", \"\\ud558\\ub8e8\", \"\\ud558\\uc597\\ub2e4\", \"\\ud558\\uc597\\ub2e4\", \"\\ud558\\uc597\\ub2e4\", \"\\ud558\\uc597\\ub2e4\", \"\\ud558\\uc597\\ub2e4\", \"\\ud558\\uc774\", \"\\ud55c\\uacc4\", \"\\ud56d\\uc0c1\", \"\\ud56d\\uc0c1\", \"\\ud56d\\uc0c1\", \"\\ud56d\\uc0c1\", \"\\ud56d\\uc0c1\", \"\\ud56d\\uc0c1\", \"\\ud56d\\uc0c1\", \"\\ud574\\ub3c4\", \"\\ud574\\ub3c4\", \"\\ud574\\ub3c4\", \"\\ud574\\ub3c4\", \"\\ud574\\ub3c4\", \"\\ud574\\ub3c4\", \"\\ud574\\ub3c4\", \"\\ud574\\ub3c4\", \"\\ud574\\ub3c4\", \"\\ud587\\uc0b4\", \"\\ud587\\uc0b4\", \"\\ud587\\uc0b4\", \"\\ud587\\uc0b4\", \"\\ud589\\ub3d9\", \"\\ud589\\ub3d9\", \"\\ud589\\ub3d9\", \"\\ud589\\ub3d9\", \"\\ud589\\ub3d9\", \"\\ud589\\ubcf5\", \"\\ud589\\ubcf5\", \"\\ud589\\ubcf5\", \"\\ud589\\ubcf5\", \"\\ud589\\ubcf5\", \"\\ud589\\ubcf5\", \"\\ud589\\ubcf5\", \"\\ud589\\ubcf5\\ud558\\ub2e4\", \"\\ud589\\ubcf5\\ud558\\ub2e4\", \"\\ud589\\ubcf5\\ud558\\ub2e4\", \"\\ud589\\ubcf5\\ud558\\ub2e4\", \"\\ud589\\ubcf5\\ud558\\ub2e4\", \"\\ud589\\ubcf5\\ud558\\ub2e4\", \"\\ud5a5\\uae30\", \"\\ud5a5\\uae30\", \"\\ud5a5\\uae30\", \"\\ud5a5\\uae30\", \"\\ud5a5\\uae30\", \"\\ud5a5\\uae30\", \"\\ud5a5\\uae30\", \"\\ud5db\\ub41c\", \"\\ud5db\\ub41c\", \"\\ud5e4\\uc5b4\", \"\\ud5e4\\uc5b4\", \"\\ud5e4\\uc5b4\", \"\\ud5f7\\uac08\\ub9ac\\ub2e4\", \"\\ud5f7\\uac08\\ub9ac\\ub2e4\", \"\\ud638\\uc6b0\", \"\\ud640\\ub824\", \"\\ud640\\ub9ac\", \"\\ud640\\ub9b0\", \"\\ud640\\ub9b0\", \"\\ud640\\ub9b0\", \"\\ud654\\uc0b4\", \"\\ud654\\uc7a5\", \"\\ud654\\uc7a5\", \"\\ud6c4\\ud6c4\\ud6c4\", \"\\ud718\\ud30c\\ub78c\", \"\\ud754\\uc801\", \"\\ud754\\uc801\", \"\\ud754\\uc801\", \"\\ud754\\uc801\", \"\\ud798\\ub4dc\\ub2e4\", \"\\ud798\\ub4dc\\ub2e4\", \"\\ud798\\ub4dc\\ub2e4\", \"\\ud798\\ub4dc\\ub2e4\", \"\\ud798\\ub4e4\\ub2e4\", \"\\ud798\\ub4e4\\ub2e4\", \"\\ud798\\ub4e4\\ub2e4\", \"\\ud798\\ub4e4\\ub2e4\", \"\\ud798\\ub4e4\\ub2e4\"]}, \"R\": 30, \"lambda.step\": 0.01, \"plot.opts\": {\"xlab\": \"PC1\", \"ylab\": \"PC2\"}, \"topic.order\": [11, 9, 6, 10, 13, 4, 12, 2, 5, 3, 1, 7, 8]};\n",
       "\n",
       "function LDAvis_load_lib(url, callback){\n",
       "  var s = document.createElement('script');\n",
       "  s.src = url;\n",
       "  s.async = true;\n",
       "  s.onreadystatechange = s.onload = callback;\n",
       "  s.onerror = function(){console.warn(\"failed to load library \" + url);};\n",
       "  document.getElementsByTagName(\"head\")[0].appendChild(s);\n",
       "}\n",
       "\n",
       "if(typeof(LDAvis) !== \"undefined\"){\n",
       "   // already loaded: just create the visualization\n",
       "   !function(LDAvis){\n",
       "       new LDAvis(\"#\" + \"ldavis_el156019718187619283889122757\", ldavis_el156019718187619283889122757_data);\n",
       "   }(LDAvis);\n",
       "}else if(typeof define === \"function\" && define.amd){\n",
       "   // require.js is available: use it to load d3/LDAvis\n",
       "   require.config({paths: {d3: \"https://cdnjs.cloudflare.com/ajax/libs/d3/3.5.5/d3.min\"}});\n",
       "   require([\"d3\"], function(d3){\n",
       "      window.d3 = d3;\n",
       "      LDAvis_load_lib(\"https://cdn.rawgit.com/bmabey/pyLDAvis/files/ldavis.v1.0.0.js\", function(){\n",
       "        new LDAvis(\"#\" + \"ldavis_el156019718187619283889122757\", ldavis_el156019718187619283889122757_data);\n",
       "      });\n",
       "    });\n",
       "}else{\n",
       "    // require.js not available: dynamically load d3 & LDAvis\n",
       "    LDAvis_load_lib(\"https://cdnjs.cloudflare.com/ajax/libs/d3/3.5.5/d3.min.js\", function(){\n",
       "         LDAvis_load_lib(\"https://cdn.rawgit.com/bmabey/pyLDAvis/files/ldavis.v1.0.0.js\", function(){\n",
       "                 new LDAvis(\"#\" + \"ldavis_el156019718187619283889122757\", ldavis_el156019718187619283889122757_data);\n",
       "            })\n",
       "         });\n",
       "}\n",
       "</script>"
      ],
      "text/plain": [
       "<IPython.core.display.HTML object>"
      ]
     },
     "execution_count": 31,
     "metadata": {},
     "output_type": "execute_result"
    }
   ],
   "source": [
    "import pyLDAvis.gensim\n",
    "pyLDAvis.enable_notebook()\n",
    "vis = pyLDAvis.gensim.prepare(ldamodel, corpus, dictionary)\n",
    "pyLDAvis.display(vis)"
   ]
  },
  {
   "cell_type": "code",
   "execution_count": 32,
   "metadata": {},
   "outputs": [
    {
     "name": "stderr",
     "output_type": "stream",
     "text": [
      "C:\\Users\\308_1\\anaconda3\\envs\\eunhoo\\lib\\site-packages\\ipykernel\\ipkernel.py:287: DeprecationWarning: `should_run_async` will not call `transform_cell` automatically in the future. Please pass the result to `transformed_cell` argument and any exception that happen during thetransform in `preprocessing_exc_tuple` in IPython 7.17 and above.\n",
      "  and should_run_async(code)\n",
      "C:\\Users\\308_1\\anaconda3\\envs\\eunhoo\\lib\\site-packages\\tensorboard\\compat\\tensorflow_stub\\dtypes.py:541: FutureWarning: Passing (type, 1) or '1type' as a synonym of type is deprecated; in a future version of numpy, it will be understood as (type, (1,)) / '(1,)type'.\n",
      "  _np_qint8 = np.dtype([(\"qint8\", np.int8, 1)])\n",
      "C:\\Users\\308_1\\anaconda3\\envs\\eunhoo\\lib\\site-packages\\tensorboard\\compat\\tensorflow_stub\\dtypes.py:542: FutureWarning: Passing (type, 1) or '1type' as a synonym of type is deprecated; in a future version of numpy, it will be understood as (type, (1,)) / '(1,)type'.\n",
      "  _np_quint8 = np.dtype([(\"quint8\", np.uint8, 1)])\n",
      "C:\\Users\\308_1\\anaconda3\\envs\\eunhoo\\lib\\site-packages\\tensorboard\\compat\\tensorflow_stub\\dtypes.py:543: FutureWarning: Passing (type, 1) or '1type' as a synonym of type is deprecated; in a future version of numpy, it will be understood as (type, (1,)) / '(1,)type'.\n",
      "  _np_qint16 = np.dtype([(\"qint16\", np.int16, 1)])\n",
      "C:\\Users\\308_1\\anaconda3\\envs\\eunhoo\\lib\\site-packages\\tensorboard\\compat\\tensorflow_stub\\dtypes.py:544: FutureWarning: Passing (type, 1) or '1type' as a synonym of type is deprecated; in a future version of numpy, it will be understood as (type, (1,)) / '(1,)type'.\n",
      "  _np_quint16 = np.dtype([(\"quint16\", np.uint16, 1)])\n",
      "C:\\Users\\308_1\\anaconda3\\envs\\eunhoo\\lib\\site-packages\\tensorboard\\compat\\tensorflow_stub\\dtypes.py:545: FutureWarning: Passing (type, 1) or '1type' as a synonym of type is deprecated; in a future version of numpy, it will be understood as (type, (1,)) / '(1,)type'.\n",
      "  _np_qint32 = np.dtype([(\"qint32\", np.int32, 1)])\n",
      "C:\\Users\\308_1\\anaconda3\\envs\\eunhoo\\lib\\site-packages\\tensorboard\\compat\\tensorflow_stub\\dtypes.py:550: FutureWarning: Passing (type, 1) or '1type' as a synonym of type is deprecated; in a future version of numpy, it will be understood as (type, (1,)) / '(1,)type'.\n",
      "  np_resource = np.dtype([(\"resource\", np.ubyte, 1)])\n"
     ]
    }
   ],
   "source": [
    "from keras.models import load_model\n",
    "\n",
    "ldamodel.save('model_13.h5')"
   ]
  },
  {
   "cell_type": "code",
   "execution_count": 33,
   "metadata": {},
   "outputs": [
    {
     "name": "stderr",
     "output_type": "stream",
     "text": [
      "C:\\Users\\308_1\\anaconda3\\envs\\eunhoo\\lib\\site-packages\\ipykernel\\ipkernel.py:287: DeprecationWarning: `should_run_async` will not call `transform_cell` automatically in the future. Please pass the result to `transformed_cell` argument and any exception that happen during thetransform in `preprocessing_exc_tuple` in IPython 7.17 and above.\n",
      "  and should_run_async(code)\n"
     ]
    }
   ],
   "source": [
    "def make_topictable_per_lyrics(ldamodel, corpus):\n",
    "    topic_table = pd.DataFrame()\n",
    "    \n",
    "    # 몇 번째 가사인지를 의미하는 가사 번호와 해당 가사의 토픽 비중을 한줄씩 꺼내오기\n",
    "    for i, topic_list in enumerate(ldamodel[corpus]):\n",
    "        doc = topic_list[0] if ldamodel.per_word_topics else topic_list\n",
    "        #doc = doc.append(topic_list)\n",
    "        doc = sorted(doc, key = lambda x : (x[1]), reverse = True)\n",
    "        # 각 가사들에 대해서 비중이 높은 토픽순으로 토픽 정렬\n",
    "        \n",
    "        # 모든 가사에 대해서 각각 아래를 수행\n",
    "        for j, (topic_num, prop_topic) in enumerate(doc): # 몇 번 토픽인지와 비중을 나눠서 저장한다\n",
    "            if j == 0: # 정렬을 한 상태이므로 가장 앞에 있는 것이 가장 비중이 높은 토픽\n",
    "                topic_table = topic_table.append(pd.Series([int(topic_num), round(prop_topic, 4), topic_list]),ignore_index = True)\n",
    "            else:\n",
    "                break\n",
    "    return(topic_table)"
   ]
  },
  {
   "cell_type": "code",
   "execution_count": 34,
   "metadata": {},
   "outputs": [
    {
     "name": "stderr",
     "output_type": "stream",
     "text": [
      "C:\\Users\\308_1\\anaconda3\\envs\\eunhoo\\lib\\site-packages\\ipykernel\\ipkernel.py:287: DeprecationWarning: `should_run_async` will not call `transform_cell` automatically in the future. Please pass the result to `transformed_cell` argument and any exception that happen during thetransform in `preprocessing_exc_tuple` in IPython 7.17 and above.\n",
      "  and should_run_async(code)\n"
     ]
    },
    {
     "data": {
      "text/plain": [
       "5763"
      ]
     },
     "execution_count": 34,
     "metadata": {},
     "output_type": "execute_result"
    }
   ],
   "source": [
    "topictable = make_topictable_per_lyrics(ldamodel, corpus)\n",
    "topictable = topictable.reset_index()\n",
    "topictable.columns= ['가사','가장 비중이 높은 토픽','가장 높은 토픽의 비중','각 토픽의 비중']\n",
    "topictable[:100]\n",
    "len(topictable)"
   ]
  },
  {
   "cell_type": "code",
   "execution_count": 35,
   "metadata": {},
   "outputs": [
    {
     "name": "stderr",
     "output_type": "stream",
     "text": [
      "C:\\Users\\308_1\\anaconda3\\envs\\eunhoo\\lib\\site-packages\\ipykernel\\ipkernel.py:287: DeprecationWarning: `should_run_async` will not call `transform_cell` automatically in the future. Please pass the result to `transformed_cell` argument and any exception that happen during thetransform in `preprocessing_exc_tuple` in IPython 7.17 and above.\n",
      "  and should_run_async(code)\n"
     ]
    },
    {
     "data": {
      "text/html": [
       "<div>\n",
       "<style scoped>\n",
       "    .dataframe tbody tr th:only-of-type {\n",
       "        vertical-align: middle;\n",
       "    }\n",
       "\n",
       "    .dataframe tbody tr th {\n",
       "        vertical-align: top;\n",
       "    }\n",
       "\n",
       "    .dataframe thead th {\n",
       "        text-align: right;\n",
       "    }\n",
       "</style>\n",
       "<table border=\"1\" class=\"dataframe\">\n",
       "  <thead>\n",
       "    <tr style=\"text-align: right;\">\n",
       "      <th></th>\n",
       "      <th>가사</th>\n",
       "      <th>가장 비중이 높은 토픽</th>\n",
       "      <th>가장 높은 토픽의 비중</th>\n",
       "      <th>각 토픽의 비중</th>\n",
       "    </tr>\n",
       "  </thead>\n",
       "  <tbody>\n",
       "    <tr>\n",
       "      <th>0</th>\n",
       "      <td>0</td>\n",
       "      <td>9.0</td>\n",
       "      <td>0.5144</td>\n",
       "      <td>[(9, 0.5143922), (10, 0.45538104)]</td>\n",
       "    </tr>\n",
       "    <tr>\n",
       "      <th>1</th>\n",
       "      <td>1</td>\n",
       "      <td>8.0</td>\n",
       "      <td>0.2977</td>\n",
       "      <td>[(3, 0.26557016), (8, 0.2976859), (10, 0.26389...</td>\n",
       "    </tr>\n",
       "    <tr>\n",
       "      <th>2</th>\n",
       "      <td>2</td>\n",
       "      <td>9.0</td>\n",
       "      <td>0.5394</td>\n",
       "      <td>[(9, 0.53935343), (10, 0.42216662)]</td>\n",
       "    </tr>\n",
       "    <tr>\n",
       "      <th>3</th>\n",
       "      <td>3</td>\n",
       "      <td>5.0</td>\n",
       "      <td>0.6732</td>\n",
       "      <td>[(0, 0.05237373), (5, 0.67324466), (8, 0.25512...</td>\n",
       "    </tr>\n",
       "    <tr>\n",
       "      <th>4</th>\n",
       "      <td>4</td>\n",
       "      <td>8.0</td>\n",
       "      <td>0.6197</td>\n",
       "      <td>[(3, 0.08686885), (8, 0.61970145), (9, 0.28097...</td>\n",
       "    </tr>\n",
       "    <tr>\n",
       "      <th>...</th>\n",
       "      <td>...</td>\n",
       "      <td>...</td>\n",
       "      <td>...</td>\n",
       "      <td>...</td>\n",
       "    </tr>\n",
       "    <tr>\n",
       "      <th>5758</th>\n",
       "      <td>5758</td>\n",
       "      <td>10.0</td>\n",
       "      <td>0.7902</td>\n",
       "      <td>[(5, 0.055524804), (6, 0.02006703), (9, 0.0352...</td>\n",
       "    </tr>\n",
       "    <tr>\n",
       "      <th>5759</th>\n",
       "      <td>5759</td>\n",
       "      <td>10.0</td>\n",
       "      <td>0.4159</td>\n",
       "      <td>[(3, 0.049506932), (5, 0.25879955), (10, 0.415...</td>\n",
       "    </tr>\n",
       "    <tr>\n",
       "      <th>5760</th>\n",
       "      <td>5760</td>\n",
       "      <td>5.0</td>\n",
       "      <td>0.3703</td>\n",
       "      <td>[(0, 0.123614185), (3, 0.052362103), (4, 0.060...</td>\n",
       "    </tr>\n",
       "    <tr>\n",
       "      <th>5761</th>\n",
       "      <td>5761</td>\n",
       "      <td>10.0</td>\n",
       "      <td>0.6188</td>\n",
       "      <td>[(0, 0.019917818), (2, 0.019407656), (4, 0.017...</td>\n",
       "    </tr>\n",
       "    <tr>\n",
       "      <th>5762</th>\n",
       "      <td>5762</td>\n",
       "      <td>8.0</td>\n",
       "      <td>0.4999</td>\n",
       "      <td>[(0, 0.19570597), (1, 0.057594575), (4, 0.0164...</td>\n",
       "    </tr>\n",
       "  </tbody>\n",
       "</table>\n",
       "<p>5763 rows × 4 columns</p>\n",
       "</div>"
      ],
      "text/plain": [
       "        가사  가장 비중이 높은 토픽  가장 높은 토픽의 비중  \\\n",
       "0        0           9.0        0.5144   \n",
       "1        1           8.0        0.2977   \n",
       "2        2           9.0        0.5394   \n",
       "3        3           5.0        0.6732   \n",
       "4        4           8.0        0.6197   \n",
       "...    ...           ...           ...   \n",
       "5758  5758          10.0        0.7902   \n",
       "5759  5759          10.0        0.4159   \n",
       "5760  5760           5.0        0.3703   \n",
       "5761  5761          10.0        0.6188   \n",
       "5762  5762           8.0        0.4999   \n",
       "\n",
       "                                               각 토픽의 비중  \n",
       "0                    [(9, 0.5143922), (10, 0.45538104)]  \n",
       "1     [(3, 0.26557016), (8, 0.2976859), (10, 0.26389...  \n",
       "2                   [(9, 0.53935343), (10, 0.42216662)]  \n",
       "3     [(0, 0.05237373), (5, 0.67324466), (8, 0.25512...  \n",
       "4     [(3, 0.08686885), (8, 0.61970145), (9, 0.28097...  \n",
       "...                                                 ...  \n",
       "5758  [(5, 0.055524804), (6, 0.02006703), (9, 0.0352...  \n",
       "5759  [(3, 0.049506932), (5, 0.25879955), (10, 0.415...  \n",
       "5760  [(0, 0.123614185), (3, 0.052362103), (4, 0.060...  \n",
       "5761  [(0, 0.019917818), (2, 0.019407656), (4, 0.017...  \n",
       "5762  [(0, 0.19570597), (1, 0.057594575), (4, 0.0164...  \n",
       "\n",
       "[5763 rows x 4 columns]"
      ]
     },
     "execution_count": 35,
     "metadata": {},
     "output_type": "execute_result"
    }
   ],
   "source": [
    "topictable"
   ]
  },
  {
   "cell_type": "code",
   "execution_count": 36,
   "metadata": {},
   "outputs": [
    {
     "name": "stderr",
     "output_type": "stream",
     "text": [
      "C:\\Users\\308_1\\anaconda3\\envs\\eunhoo\\lib\\site-packages\\ipykernel\\ipkernel.py:287: DeprecationWarning: `should_run_async` will not call `transform_cell` automatically in the future. Please pass the result to `transformed_cell` argument and any exception that happen during thetransform in `preprocessing_exc_tuple` in IPython 7.17 and above.\n",
      "  and should_run_async(code)\n"
     ]
    }
   ],
   "source": [
    "theme_array=[]\n",
    "for i in range(len(topictable)):\n",
    "    theme=[]\n",
    "    for j in range(len(topictable['각 토픽의 비중'][i])):\n",
    "        if topictable['각 토픽의 비중'][i][j][0] == 1:\n",
    "            theme.append('이별')\n",
    "        elif topictable['각 토픽의 비중'][i][j][0] == 2:\n",
    "            theme.append('신나는')\n",
    "        elif topictable['각 토픽의 비중'][i][j][0] == 3:\n",
    "            theme.append('설레는')\n",
    "        elif topictable['각 토픽의 비중'][i][j][0] == 4:\n",
    "            theme.append('파워풀한')\n",
    "        elif topictable['각 토픽의 비중'][i][j][0] == 5:\n",
    "            theme.append('잔잔한')\n",
    "        elif topictable['각 토픽의 비중'][i][j][0] == 6:\n",
    "            theme.append('댄스')\n",
    "        elif topictable['각 토픽의 비중'][i][j][0] == 7:\n",
    "            theme.append('분위기좋은')\n",
    "        elif topictable['각 토픽의 비중'][i][j][0] == 8:\n",
    "            theme.append('원하는')\n",
    "        elif topictable['각 토픽의 비중'][i][j][0] == 9:\n",
    "            theme.append('어두운')\n",
    "        elif topictable['각 토픽의 비중'][i][j][0] == 10:\n",
    "            theme.append('신나는')\n",
    "        elif topictable['각 토픽의 비중'][i][j][0] == 11:\n",
    "            theme.append('추임새많은')\n",
    "        elif topictable['각 토픽의 비중'][i][j][0] == 12:\n",
    "            theme.append('pop')\n",
    "        elif topictable['각 토픽의 비중'][i][j][0] == 13:\n",
    "            theme.append('나쁜')\n",
    "    theme_array.append(theme)"
   ]
  },
  {
   "cell_type": "code",
   "execution_count": 37,
   "metadata": {},
   "outputs": [
    {
     "name": "stderr",
     "output_type": "stream",
     "text": [
      "C:\\Users\\308_1\\anaconda3\\envs\\eunhoo\\lib\\site-packages\\ipykernel\\ipkernel.py:287: DeprecationWarning: `should_run_async` will not call `transform_cell` automatically in the future. Please pass the result to `transformed_cell` argument and any exception that happen during thetransform in `preprocessing_exc_tuple` in IPython 7.17 and above.\n",
      "  and should_run_async(code)\n"
     ]
    },
    {
     "data": {
      "text/plain": [
       "5763"
      ]
     },
     "execution_count": 37,
     "metadata": {},
     "output_type": "execute_result"
    }
   ],
   "source": [
    "len(theme_array)"
   ]
  },
  {
   "cell_type": "code",
   "execution_count": 103,
   "metadata": {},
   "outputs": [
    {
     "name": "stderr",
     "output_type": "stream",
     "text": [
      "C:\\Users\\308_1\\anaconda3\\envs\\eunhoo\\lib\\site-packages\\ipykernel\\ipkernel.py:287: DeprecationWarning: `should_run_async` will not call `transform_cell` automatically in the future. Please pass the result to `transformed_cell` argument and any exception that happen during thetransform in `preprocessing_exc_tuple` in IPython 7.17 and above.\n",
      "  and should_run_async(code)\n"
     ]
    }
   ],
   "source": [
    "df_theme=pd.DataFrame(_array)"
   ]
  },
  {
   "cell_type": "code",
   "execution_count": 39,
   "metadata": {},
   "outputs": [
    {
     "name": "stderr",
     "output_type": "stream",
     "text": [
      "C:\\Users\\308_1\\anaconda3\\envs\\eunhoo\\lib\\site-packages\\ipykernel\\ipkernel.py:287: DeprecationWarning: `should_run_async` will not call `transform_cell` automatically in the future. Please pass the result to `transformed_cell` argument and any exception that happen during thetransform in `preprocessing_exc_tuple` in IPython 7.17 and above.\n",
      "  and should_run_async(code)\n"
     ]
    },
    {
     "data": {
      "text/html": [
       "<div>\n",
       "<style scoped>\n",
       "    .dataframe tbody tr th:only-of-type {\n",
       "        vertical-align: middle;\n",
       "    }\n",
       "\n",
       "    .dataframe tbody tr th {\n",
       "        vertical-align: top;\n",
       "    }\n",
       "\n",
       "    .dataframe thead th {\n",
       "        text-align: right;\n",
       "    }\n",
       "</style>\n",
       "<table border=\"1\" class=\"dataframe\">\n",
       "  <thead>\n",
       "    <tr style=\"text-align: right;\">\n",
       "      <th></th>\n",
       "      <th>년도</th>\n",
       "      <th>가수</th>\n",
       "      <th>제목</th>\n",
       "      <th>장르</th>\n",
       "    </tr>\n",
       "  </thead>\n",
       "  <tbody>\n",
       "    <tr>\n",
       "      <th>0</th>\n",
       "      <td>19920000</td>\n",
       "      <td>잼</td>\n",
       "      <td>난 멈추지 않는다</td>\n",
       "      <td>댄스</td>\n",
       "    </tr>\n",
       "    <tr>\n",
       "      <th>1</th>\n",
       "      <td>19920000</td>\n",
       "      <td>잼</td>\n",
       "      <td>우리 모두 사랑하자</td>\n",
       "      <td>댄스</td>\n",
       "    </tr>\n",
       "    <tr>\n",
       "      <th>2</th>\n",
       "      <td>19920000</td>\n",
       "      <td>잼</td>\n",
       "      <td>이유</td>\n",
       "      <td>발라드</td>\n",
       "    </tr>\n",
       "    <tr>\n",
       "      <th>3</th>\n",
       "      <td>19920000</td>\n",
       "      <td>잼</td>\n",
       "      <td>18번가의 비밀</td>\n",
       "      <td>댄스</td>\n",
       "    </tr>\n",
       "    <tr>\n",
       "      <th>4</th>\n",
       "      <td>19920000</td>\n",
       "      <td>잼</td>\n",
       "      <td>요즘 친구들</td>\n",
       "      <td>댄스</td>\n",
       "    </tr>\n",
       "    <tr>\n",
       "      <th>...</th>\n",
       "      <td>...</td>\n",
       "      <td>...</td>\n",
       "      <td>...</td>\n",
       "      <td>...</td>\n",
       "    </tr>\n",
       "    <tr>\n",
       "      <th>5758</th>\n",
       "      <td>20200924</td>\n",
       "      <td>업텐션 (UP10TION)</td>\n",
       "      <td>니가 보여 (Waiting For You)</td>\n",
       "      <td>R&amp;B/Soul</td>\n",
       "    </tr>\n",
       "    <tr>\n",
       "      <th>5759</th>\n",
       "      <td>20200924</td>\n",
       "      <td>업텐션 (UP10TION)</td>\n",
       "      <td>빈집 (텅) (Empty House)</td>\n",
       "      <td>R&amp;B/Soul</td>\n",
       "    </tr>\n",
       "    <tr>\n",
       "      <th>5760</th>\n",
       "      <td>20200926</td>\n",
       "      <td>엔플라잉 (N.Flying)</td>\n",
       "      <td>From You</td>\n",
       "      <td>록/메탈, 국내드라마</td>\n",
       "    </tr>\n",
       "    <tr>\n",
       "      <th>5761</th>\n",
       "      <td>20201002</td>\n",
       "      <td>BLACKPINK</td>\n",
       "      <td>Lovesick Girls</td>\n",
       "      <td>댄스</td>\n",
       "    </tr>\n",
       "    <tr>\n",
       "      <th>5762</th>\n",
       "      <td>20201010</td>\n",
       "      <td>환불원정대</td>\n",
       "      <td>DON'T TOUCH ME</td>\n",
       "      <td>댄스</td>\n",
       "    </tr>\n",
       "  </tbody>\n",
       "</table>\n",
       "<p>5763 rows × 4 columns</p>\n",
       "</div>"
      ],
      "text/plain": [
       "            년도               가수                       제목           장르\n",
       "0     19920000                잼                난 멈추지 않는다           댄스\n",
       "1     19920000                잼               우리 모두 사랑하자           댄스\n",
       "2     19920000                잼                       이유          발라드\n",
       "3     19920000                잼                 18번가의 비밀           댄스\n",
       "4     19920000                잼                   요즘 친구들           댄스\n",
       "...        ...              ...                      ...          ...\n",
       "5758  20200924   업텐션 (UP10TION)  니가 보여 (Waiting For You)     R&B/Soul\n",
       "5759  20200924   업텐션 (UP10TION)     빈집 (텅) (Empty House)     R&B/Soul\n",
       "5760  20200926  엔플라잉 (N.Flying)                 From You  록/메탈, 국내드라마\n",
       "5761  20201002        BLACKPINK           Lovesick Girls           댄스\n",
       "5762  20201010            환불원정대           DON'T TOUCH ME           댄스\n",
       "\n",
       "[5763 rows x 4 columns]"
      ]
     },
     "execution_count": 39,
     "metadata": {},
     "output_type": "execute_result"
    }
   ],
   "source": [
    "data=data.drop(['가사'],axis=1)\n",
    "data"
   ]
  },
  {
   "cell_type": "code",
   "execution_count": 40,
   "metadata": {},
   "outputs": [
    {
     "name": "stderr",
     "output_type": "stream",
     "text": [
      "C:\\Users\\308_1\\anaconda3\\envs\\eunhoo\\lib\\site-packages\\ipykernel\\ipkernel.py:287: DeprecationWarning: `should_run_async` will not call `transform_cell` automatically in the future. Please pass the result to `transformed_cell` argument and any exception that happen during thetransform in `preprocessing_exc_tuple` in IPython 7.17 and above.\n",
      "  and should_run_async(code)\n"
     ]
    },
    {
     "data": {
      "text/html": [
       "<div>\n",
       "<style scoped>\n",
       "    .dataframe tbody tr th:only-of-type {\n",
       "        vertical-align: middle;\n",
       "    }\n",
       "\n",
       "    .dataframe tbody tr th {\n",
       "        vertical-align: top;\n",
       "    }\n",
       "\n",
       "    .dataframe thead th {\n",
       "        text-align: right;\n",
       "    }\n",
       "</style>\n",
       "<table border=\"1\" class=\"dataframe\">\n",
       "  <thead>\n",
       "    <tr style=\"text-align: right;\">\n",
       "      <th></th>\n",
       "      <th>년도</th>\n",
       "      <th>가수</th>\n",
       "      <th>제목</th>\n",
       "      <th>장르</th>\n",
       "      <th>테마</th>\n",
       "    </tr>\n",
       "  </thead>\n",
       "  <tbody>\n",
       "    <tr>\n",
       "      <th>0</th>\n",
       "      <td>19920000</td>\n",
       "      <td>잼</td>\n",
       "      <td>난 멈추지 않는다</td>\n",
       "      <td>댄스</td>\n",
       "      <td>[어두운, 신나는]</td>\n",
       "    </tr>\n",
       "    <tr>\n",
       "      <th>1</th>\n",
       "      <td>19920000</td>\n",
       "      <td>잼</td>\n",
       "      <td>우리 모두 사랑하자</td>\n",
       "      <td>댄스</td>\n",
       "      <td>[설레는, 원하는, 신나는, 추임새많은]</td>\n",
       "    </tr>\n",
       "    <tr>\n",
       "      <th>2</th>\n",
       "      <td>19920000</td>\n",
       "      <td>잼</td>\n",
       "      <td>이유</td>\n",
       "      <td>발라드</td>\n",
       "      <td>[어두운, 신나는]</td>\n",
       "    </tr>\n",
       "    <tr>\n",
       "      <th>3</th>\n",
       "      <td>19920000</td>\n",
       "      <td>잼</td>\n",
       "      <td>18번가의 비밀</td>\n",
       "      <td>댄스</td>\n",
       "      <td>[잔잔한, 원하는]</td>\n",
       "    </tr>\n",
       "    <tr>\n",
       "      <th>4</th>\n",
       "      <td>19920000</td>\n",
       "      <td>잼</td>\n",
       "      <td>요즘 친구들</td>\n",
       "      <td>댄스</td>\n",
       "      <td>[설레는, 원하는, 어두운]</td>\n",
       "    </tr>\n",
       "  </tbody>\n",
       "</table>\n",
       "</div>"
      ],
      "text/plain": [
       "         년도 가수          제목   장르                      테마\n",
       "0  19920000  잼   난 멈추지 않는다   댄스              [어두운, 신나는]\n",
       "1  19920000  잼  우리 모두 사랑하자   댄스  [설레는, 원하는, 신나는, 추임새많은]\n",
       "2  19920000  잼          이유  발라드              [어두운, 신나는]\n",
       "3  19920000  잼    18번가의 비밀   댄스              [잔잔한, 원하는]\n",
       "4  19920000  잼      요즘 친구들   댄스         [설레는, 원하는, 어두운]"
      ]
     },
     "execution_count": 40,
     "metadata": {},
     "output_type": "execute_result"
    }
   ],
   "source": [
    "data['테마']=theme_array\n",
    "data.head()"
   ]
  },
  {
   "cell_type": "code",
   "execution_count": 41,
   "metadata": {},
   "outputs": [
    {
     "name": "stderr",
     "output_type": "stream",
     "text": [
      "C:\\Users\\308_1\\anaconda3\\envs\\eunhoo\\lib\\site-packages\\ipykernel\\ipkernel.py:287: DeprecationWarning: `should_run_async` will not call `transform_cell` automatically in the future. Please pass the result to `transformed_cell` argument and any exception that happen during thetransform in `preprocessing_exc_tuple` in IPython 7.17 and above.\n",
      "  and should_run_async(code)\n"
     ]
    },
    {
     "data": {
      "text/html": [
       "<div>\n",
       "<style scoped>\n",
       "    .dataframe tbody tr th:only-of-type {\n",
       "        vertical-align: middle;\n",
       "    }\n",
       "\n",
       "    .dataframe tbody tr th {\n",
       "        vertical-align: top;\n",
       "    }\n",
       "\n",
       "    .dataframe thead th {\n",
       "        text-align: right;\n",
       "    }\n",
       "</style>\n",
       "<table border=\"1\" class=\"dataframe\">\n",
       "  <thead>\n",
       "    <tr style=\"text-align: right;\">\n",
       "      <th></th>\n",
       "      <th>년도</th>\n",
       "      <th>가수</th>\n",
       "      <th>제목</th>\n",
       "      <th>장르</th>\n",
       "      <th>테마</th>\n",
       "    </tr>\n",
       "  </thead>\n",
       "  <tbody>\n",
       "    <tr>\n",
       "      <th>0</th>\n",
       "      <td>19920000</td>\n",
       "      <td>잼</td>\n",
       "      <td>난 멈추지 않는다</td>\n",
       "      <td>댄스</td>\n",
       "      <td>[어두운, 신나는]</td>\n",
       "    </tr>\n",
       "    <tr>\n",
       "      <th>1</th>\n",
       "      <td>19920000</td>\n",
       "      <td>잼</td>\n",
       "      <td>우리 모두 사랑하자</td>\n",
       "      <td>댄스</td>\n",
       "      <td>[설레는, 원하는, 신나는, 추임새많은]</td>\n",
       "    </tr>\n",
       "    <tr>\n",
       "      <th>2</th>\n",
       "      <td>19920000</td>\n",
       "      <td>잼</td>\n",
       "      <td>이유</td>\n",
       "      <td>발라드</td>\n",
       "      <td>[어두운, 신나는]</td>\n",
       "    </tr>\n",
       "    <tr>\n",
       "      <th>3</th>\n",
       "      <td>19920000</td>\n",
       "      <td>잼</td>\n",
       "      <td>18번가의 비밀</td>\n",
       "      <td>댄스</td>\n",
       "      <td>[잔잔한, 원하는]</td>\n",
       "    </tr>\n",
       "    <tr>\n",
       "      <th>4</th>\n",
       "      <td>19920000</td>\n",
       "      <td>잼</td>\n",
       "      <td>요즘 친구들</td>\n",
       "      <td>댄스</td>\n",
       "      <td>[설레는, 원하는, 어두운]</td>\n",
       "    </tr>\n",
       "    <tr>\n",
       "      <th>...</th>\n",
       "      <td>...</td>\n",
       "      <td>...</td>\n",
       "      <td>...</td>\n",
       "      <td>...</td>\n",
       "      <td>...</td>\n",
       "    </tr>\n",
       "    <tr>\n",
       "      <th>5758</th>\n",
       "      <td>20200924</td>\n",
       "      <td>업텐션 (UP10TION)</td>\n",
       "      <td>니가 보여 (Waiting For You)</td>\n",
       "      <td>R&amp;B/Soul</td>\n",
       "      <td>[잔잔한, 댄스, 어두운, 신나는, 추임새많은, pop]</td>\n",
       "    </tr>\n",
       "    <tr>\n",
       "      <th>5759</th>\n",
       "      <td>20200924</td>\n",
       "      <td>업텐션 (UP10TION)</td>\n",
       "      <td>빈집 (텅) (Empty House)</td>\n",
       "      <td>R&amp;B/Soul</td>\n",
       "      <td>[설레는, 잔잔한, 신나는, 추임새많은, pop]</td>\n",
       "    </tr>\n",
       "    <tr>\n",
       "      <th>5760</th>\n",
       "      <td>20200926</td>\n",
       "      <td>엔플라잉 (N.Flying)</td>\n",
       "      <td>From You</td>\n",
       "      <td>록/메탈, 국내드라마</td>\n",
       "      <td>[설레는, 파워풀한, 잔잔한, 추임새많은, pop]</td>\n",
       "    </tr>\n",
       "    <tr>\n",
       "      <th>5761</th>\n",
       "      <td>20201002</td>\n",
       "      <td>BLACKPINK</td>\n",
       "      <td>Lovesick Girls</td>\n",
       "      <td>댄스</td>\n",
       "      <td>[신나는, 파워풀한, 분위기좋은, 어두운, 신나는, pop]</td>\n",
       "    </tr>\n",
       "    <tr>\n",
       "      <th>5762</th>\n",
       "      <td>20201010</td>\n",
       "      <td>환불원정대</td>\n",
       "      <td>DON'T TOUCH ME</td>\n",
       "      <td>댄스</td>\n",
       "      <td>[이별, 파워풀한, 잔잔한, 댄스, 원하는, 신나는, 추임새많은]</td>\n",
       "    </tr>\n",
       "  </tbody>\n",
       "</table>\n",
       "<p>5763 rows × 5 columns</p>\n",
       "</div>"
      ],
      "text/plain": [
       "            년도               가수                       제목           장르  \\\n",
       "0     19920000                잼                난 멈추지 않는다           댄스   \n",
       "1     19920000                잼               우리 모두 사랑하자           댄스   \n",
       "2     19920000                잼                       이유          발라드   \n",
       "3     19920000                잼                 18번가의 비밀           댄스   \n",
       "4     19920000                잼                   요즘 친구들           댄스   \n",
       "...        ...              ...                      ...          ...   \n",
       "5758  20200924   업텐션 (UP10TION)  니가 보여 (Waiting For You)     R&B/Soul   \n",
       "5759  20200924   업텐션 (UP10TION)     빈집 (텅) (Empty House)     R&B/Soul   \n",
       "5760  20200926  엔플라잉 (N.Flying)                 From You  록/메탈, 국내드라마   \n",
       "5761  20201002        BLACKPINK           Lovesick Girls           댄스   \n",
       "5762  20201010            환불원정대           DON'T TOUCH ME           댄스   \n",
       "\n",
       "                                        테마  \n",
       "0                               [어두운, 신나는]  \n",
       "1                   [설레는, 원하는, 신나는, 추임새많은]  \n",
       "2                               [어두운, 신나는]  \n",
       "3                               [잔잔한, 원하는]  \n",
       "4                          [설레는, 원하는, 어두운]  \n",
       "...                                    ...  \n",
       "5758       [잔잔한, 댄스, 어두운, 신나는, 추임새많은, pop]  \n",
       "5759           [설레는, 잔잔한, 신나는, 추임새많은, pop]  \n",
       "5760          [설레는, 파워풀한, 잔잔한, 추임새많은, pop]  \n",
       "5761     [신나는, 파워풀한, 분위기좋은, 어두운, 신나는, pop]  \n",
       "5762  [이별, 파워풀한, 잔잔한, 댄스, 원하는, 신나는, 추임새많은]  \n",
       "\n",
       "[5763 rows x 5 columns]"
      ]
     },
     "execution_count": 41,
     "metadata": {},
     "output_type": "execute_result"
    }
   ],
   "source": [
    "data"
   ]
  },
  {
   "cell_type": "code",
   "execution_count": 43,
   "metadata": {},
   "outputs": [
    {
     "name": "stderr",
     "output_type": "stream",
     "text": [
      "C:\\Users\\308_1\\anaconda3\\envs\\eunhoo\\lib\\site-packages\\ipykernel\\ipkernel.py:287: DeprecationWarning: `should_run_async` will not call `transform_cell` automatically in the future. Please pass the result to `transformed_cell` argument and any exception that happen during thetransform in `preprocessing_exc_tuple` in IPython 7.17 and above.\n",
      "  and should_run_async(code)\n",
      "C:\\Users\\308_1\\anaconda3\\envs\\eunhoo\\lib\\site-packages\\ipykernel_launcher.py:3: SettingWithCopyWarning: \n",
      "A value is trying to be set on a copy of a slice from a DataFrame\n",
      "\n",
      "See the caveats in the documentation: https://pandas.pydata.org/pandas-docs/stable/user_guide/indexing.html#returning-a-view-versus-a-copy\n",
      "  This is separate from the ipykernel package so we can avoid doing imports until\n",
      "C:\\Users\\308_1\\anaconda3\\envs\\eunhoo\\lib\\site-packages\\ipykernel_launcher.py:5: SettingWithCopyWarning: \n",
      "A value is trying to be set on a copy of a slice from a DataFrame\n",
      "\n",
      "See the caveats in the documentation: https://pandas.pydata.org/pandas-docs/stable/user_guide/indexing.html#returning-a-view-versus-a-copy\n",
      "  \"\"\"\n",
      "C:\\Users\\308_1\\anaconda3\\envs\\eunhoo\\lib\\site-packages\\ipykernel_launcher.py:7: SettingWithCopyWarning: \n",
      "A value is trying to be set on a copy of a slice from a DataFrame\n",
      "\n",
      "See the caveats in the documentation: https://pandas.pydata.org/pandas-docs/stable/user_guide/indexing.html#returning-a-view-versus-a-copy\n",
      "  import sys\n"
     ]
    }
   ],
   "source": [
    "for i in range(len(data)):\n",
    "    if data['년도'][i] < 20000000 :\n",
    "        data['년도'][i]=1990\n",
    "    elif data['년도'][i] < 20100000 :\n",
    "        data['년도'][i]=2000\n",
    "    else:\n",
    "        data['년도'][i]=2010"
   ]
  },
  {
   "cell_type": "code",
   "execution_count": 44,
   "metadata": {},
   "outputs": [
    {
     "name": "stderr",
     "output_type": "stream",
     "text": [
      "C:\\Users\\308_1\\anaconda3\\envs\\eunhoo\\lib\\site-packages\\ipykernel\\ipkernel.py:287: DeprecationWarning: `should_run_async` will not call `transform_cell` automatically in the future. Please pass the result to `transformed_cell` argument and any exception that happen during thetransform in `preprocessing_exc_tuple` in IPython 7.17 and above.\n",
      "  and should_run_async(code)\n"
     ]
    },
    {
     "data": {
      "text/html": [
       "<div>\n",
       "<style scoped>\n",
       "    .dataframe tbody tr th:only-of-type {\n",
       "        vertical-align: middle;\n",
       "    }\n",
       "\n",
       "    .dataframe tbody tr th {\n",
       "        vertical-align: top;\n",
       "    }\n",
       "\n",
       "    .dataframe thead th {\n",
       "        text-align: right;\n",
       "    }\n",
       "</style>\n",
       "<table border=\"1\" class=\"dataframe\">\n",
       "  <thead>\n",
       "    <tr style=\"text-align: right;\">\n",
       "      <th></th>\n",
       "      <th>년도</th>\n",
       "      <th>가수</th>\n",
       "      <th>제목</th>\n",
       "      <th>장르</th>\n",
       "      <th>테마</th>\n",
       "    </tr>\n",
       "  </thead>\n",
       "  <tbody>\n",
       "    <tr>\n",
       "      <th>0</th>\n",
       "      <td>1990</td>\n",
       "      <td>잼</td>\n",
       "      <td>난 멈추지 않는다</td>\n",
       "      <td>댄스</td>\n",
       "      <td>[어두운, 신나는]</td>\n",
       "    </tr>\n",
       "    <tr>\n",
       "      <th>1</th>\n",
       "      <td>1990</td>\n",
       "      <td>잼</td>\n",
       "      <td>우리 모두 사랑하자</td>\n",
       "      <td>댄스</td>\n",
       "      <td>[설레는, 원하는, 신나는, 추임새많은]</td>\n",
       "    </tr>\n",
       "    <tr>\n",
       "      <th>2</th>\n",
       "      <td>1990</td>\n",
       "      <td>잼</td>\n",
       "      <td>이유</td>\n",
       "      <td>발라드</td>\n",
       "      <td>[어두운, 신나는]</td>\n",
       "    </tr>\n",
       "    <tr>\n",
       "      <th>3</th>\n",
       "      <td>1990</td>\n",
       "      <td>잼</td>\n",
       "      <td>18번가의 비밀</td>\n",
       "      <td>댄스</td>\n",
       "      <td>[잔잔한, 원하는]</td>\n",
       "    </tr>\n",
       "    <tr>\n",
       "      <th>4</th>\n",
       "      <td>1990</td>\n",
       "      <td>잼</td>\n",
       "      <td>요즘 친구들</td>\n",
       "      <td>댄스</td>\n",
       "      <td>[설레는, 원하는, 어두운]</td>\n",
       "    </tr>\n",
       "    <tr>\n",
       "      <th>...</th>\n",
       "      <td>...</td>\n",
       "      <td>...</td>\n",
       "      <td>...</td>\n",
       "      <td>...</td>\n",
       "      <td>...</td>\n",
       "    </tr>\n",
       "    <tr>\n",
       "      <th>5758</th>\n",
       "      <td>2010</td>\n",
       "      <td>업텐션 (UP10TION)</td>\n",
       "      <td>니가 보여 (Waiting For You)</td>\n",
       "      <td>R&amp;B/Soul</td>\n",
       "      <td>[잔잔한, 댄스, 어두운, 신나는, 추임새많은, pop]</td>\n",
       "    </tr>\n",
       "    <tr>\n",
       "      <th>5759</th>\n",
       "      <td>2010</td>\n",
       "      <td>업텐션 (UP10TION)</td>\n",
       "      <td>빈집 (텅) (Empty House)</td>\n",
       "      <td>R&amp;B/Soul</td>\n",
       "      <td>[설레는, 잔잔한, 신나는, 추임새많은, pop]</td>\n",
       "    </tr>\n",
       "    <tr>\n",
       "      <th>5760</th>\n",
       "      <td>2010</td>\n",
       "      <td>엔플라잉 (N.Flying)</td>\n",
       "      <td>From You</td>\n",
       "      <td>록/메탈, 국내드라마</td>\n",
       "      <td>[설레는, 파워풀한, 잔잔한, 추임새많은, pop]</td>\n",
       "    </tr>\n",
       "    <tr>\n",
       "      <th>5761</th>\n",
       "      <td>2010</td>\n",
       "      <td>BLACKPINK</td>\n",
       "      <td>Lovesick Girls</td>\n",
       "      <td>댄스</td>\n",
       "      <td>[신나는, 파워풀한, 분위기좋은, 어두운, 신나는, pop]</td>\n",
       "    </tr>\n",
       "    <tr>\n",
       "      <th>5762</th>\n",
       "      <td>2010</td>\n",
       "      <td>환불원정대</td>\n",
       "      <td>DON'T TOUCH ME</td>\n",
       "      <td>댄스</td>\n",
       "      <td>[이별, 파워풀한, 잔잔한, 댄스, 원하는, 신나는, 추임새많은]</td>\n",
       "    </tr>\n",
       "  </tbody>\n",
       "</table>\n",
       "<p>5763 rows × 5 columns</p>\n",
       "</div>"
      ],
      "text/plain": [
       "        년도               가수                       제목           장르  \\\n",
       "0     1990                잼                난 멈추지 않는다           댄스   \n",
       "1     1990                잼               우리 모두 사랑하자           댄스   \n",
       "2     1990                잼                       이유          발라드   \n",
       "3     1990                잼                 18번가의 비밀           댄스   \n",
       "4     1990                잼                   요즘 친구들           댄스   \n",
       "...    ...              ...                      ...          ...   \n",
       "5758  2010   업텐션 (UP10TION)  니가 보여 (Waiting For You)     R&B/Soul   \n",
       "5759  2010   업텐션 (UP10TION)     빈집 (텅) (Empty House)     R&B/Soul   \n",
       "5760  2010  엔플라잉 (N.Flying)                 From You  록/메탈, 국내드라마   \n",
       "5761  2010        BLACKPINK           Lovesick Girls           댄스   \n",
       "5762  2010            환불원정대           DON'T TOUCH ME           댄스   \n",
       "\n",
       "                                        테마  \n",
       "0                               [어두운, 신나는]  \n",
       "1                   [설레는, 원하는, 신나는, 추임새많은]  \n",
       "2                               [어두운, 신나는]  \n",
       "3                               [잔잔한, 원하는]  \n",
       "4                          [설레는, 원하는, 어두운]  \n",
       "...                                    ...  \n",
       "5758       [잔잔한, 댄스, 어두운, 신나는, 추임새많은, pop]  \n",
       "5759           [설레는, 잔잔한, 신나는, 추임새많은, pop]  \n",
       "5760          [설레는, 파워풀한, 잔잔한, 추임새많은, pop]  \n",
       "5761     [신나는, 파워풀한, 분위기좋은, 어두운, 신나는, pop]  \n",
       "5762  [이별, 파워풀한, 잔잔한, 댄스, 원하는, 신나는, 추임새많은]  \n",
       "\n",
       "[5763 rows x 5 columns]"
      ]
     },
     "execution_count": 44,
     "metadata": {},
     "output_type": "execute_result"
    }
   ],
   "source": [
    "data"
   ]
  },
  {
   "cell_type": "code",
   "execution_count": 46,
   "metadata": {},
   "outputs": [
    {
     "name": "stderr",
     "output_type": "stream",
     "text": [
      "C:\\Users\\308_1\\anaconda3\\envs\\eunhoo\\lib\\site-packages\\ipykernel\\ipkernel.py:287: DeprecationWarning: `should_run_async` will not call `transform_cell` automatically in the future. Please pass the result to `transformed_cell` argument and any exception that happen during thetransform in `preprocessing_exc_tuple` in IPython 7.17 and above.\n",
      "  and should_run_async(code)\n"
     ]
    }
   ],
   "source": [
    "data.to_csv('num=13.tsv',index=False,header=None,sep='\\t')"
   ]
  },
  {
   "cell_type": "code",
   "execution_count": null,
   "metadata": {},
   "outputs": [],
   "source": []
  }
 ],
 "metadata": {
  "kernelspec": {
   "display_name": "eunhoo",
   "language": "python",
   "name": "eunhoo"
  },
  "language_info": {
   "codemirror_mode": {
    "name": "ipython",
    "version": 3
   },
   "file_extension": ".py",
   "mimetype": "text/x-python",
   "name": "python",
   "nbconvert_exporter": "python",
   "pygments_lexer": "ipython3",
   "version": "3.7.9"
  }
 },
 "nbformat": 4,
 "nbformat_minor": 4
}
