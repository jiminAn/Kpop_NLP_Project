{
 "cells": [
  {
   "cell_type": "code",
   "execution_count": 1,
   "metadata": {},
   "outputs": [
    {
     "name": "stdout",
     "output_type": "stream",
     "text": [
      "Requirement already satisfied: selenium in c:\\conda\\lib\\site-packages (3.141.0)\n",
      "Requirement already satisfied: urllib3 in c:\\conda\\lib\\site-packages (from selenium) (1.25.8)\n"
     ]
    }
   ],
   "source": [
    "#크롬드라이버,selenium 설치\n",
    "#!apt update\n",
    "#!apt install chromium-chromedriver\n",
    "!pip install selenium\n",
    "\n",
    "# 옵션설정\n",
    "from selenium import webdriver\n",
    "options = webdriver.ChromeOptions()\n",
    "options.add_argument('--headless')\n",
    "options.add_argument('--no-sandbox')\n",
    "options.add_argument('--disable-dev-shm-usage')\n"
   ]
  },
  {
   "cell_type": "code",
   "execution_count": 2,
   "metadata": {},
   "outputs": [],
   "source": [
    "driver = webdriver.Chrome(\"chromedriver.exe\") "
   ]
  },
  {
   "cell_type": "code",
   "execution_count": 17,
   "metadata": {},
   "outputs": [],
   "source": [
    "#singer = ['서태지와 아이들','더 블루','잼','듀스','노이즈','룰라','쿨','터보','알이에프','에이치오티',\n",
    "#         '언타이틀','하모하모','태사자','엔알지','티앤비','젝스키스','베이비복스']\n",
    "singer=  ['에스이에스','원타임','신화','이글파이브','써클','핑클','코요태','플라이투더스카이','에이포',\n",
    "          '클릭비','god','문차일드','클레오','티티마']\n",
    "singer_id =[]"
   ]
  },
  {
   "cell_type": "code",
   "execution_count": 18,
   "metadata": {},
   "outputs": [],
   "source": [
    "for i in singer:\n",
    "    driver.get(\"https://www.melon.com/index.htm\")   \n",
    "    search = driver.find_element_by_xpath('//*[@id=\"top_search\"]') #검색창 xpath\n",
    "    search.clear() #검색창 clear\n",
    "    search.send_keys(i+'\\n')  #검색창에 가수 입력후 엔터\n",
    "    \n",
    "    driver.find_element_by_xpath('//*[@id=\"conts\"]/div[3]/div/div[1]/div/a/strong').click() #검색한 아티스트 클릭\n",
    "    url = driver.current_url\n",
    "    id = url.replace('https://www.melon.com/artist/timeline.htm?artistId=', '') #url에 있는 가수 고유번호 저장\n",
    "    \n",
    "    singer_id.append(id)\n",
    "    \n",
    "    "
   ]
  },
  {
   "cell_type": "code",
   "execution_count": 8,
   "metadata": {},
   "outputs": [
    {
     "name": "stdout",
     "output_type": "stream",
     "text": [
      "[]\n"
     ]
    }
   ],
   "source": [
    "print(singer_id)"
   ]
  },
  {
   "cell_type": "code",
   "execution_count": 19,
   "metadata": {},
   "outputs": [],
   "source": [
    "title_ary=[]\n",
    "album_ary=[]\n",
    "date_ary=[]\n",
    "genre_ary=[]\n",
    "lyrics_ary=[]\n",
    "lyricist_ary=[]\n",
    "composer_ary=[]\n",
    "singer_ary=[]"
   ]
  },
  {
   "cell_type": "code",
   "execution_count": 117,
   "metadata": {},
   "outputs": [],
   "source": []
  },
  {
   "cell_type": "code",
   "execution_count": 20,
   "metadata": {},
   "outputs": [],
   "source": [
    "def search(id,n):   # 가수id를 받아 (제목,가수,가사,앨범,발매일,장르,작사,작곡)  n개 만큼탐색  \n",
    "    #id에 맞는 가수의 곡 페이지(인기순)으로 이동\n",
    "    driver.get('https://www.melon.com/artist/song.htm?artistId='+str(id)+'#params%5BlistType%5D=A&params%5BorderBy%5D=POPULAR_SONG_LIST&params%5BartistId%5D='+str(id)+'&po=pageObj&startIndex=1')\n",
    "    driver.implicitly_wait(1)\n",
    "    for i in range(1,n+1):\n",
    "\n",
    "        driver.execute_script('window.scrollTo(0,200)')\n",
    "        \n",
    "        # i번째 곡정보 클릭\n",
    "        driver.find_element_by_xpath('//*[@id=\"frm\"]/div/table/tbody/tr['+ str(i)+']/td[3]/div/div/a[1]').click()\n",
    "        \n",
    "        #제목 가수 가사 앨범 발매일 장르 작사 작곡 정보 리스트에 저장\n",
    "        title=driver.find_element_by_xpath('//*[@id=\"downloadfrm\"]/div/div/div[2]/div[1]/div[1]')\n",
    "        title_ary.append(title.text)\n",
    "    \n",
    "        singer=driver.find_element_by_xpath('//*[@id=\"downloadfrm\"]/div/div/div[2]/div[1]/div[2]/a/span[1]')\n",
    "        singer_ary.append(singer.text)\n",
    "    \n",
    "        album=driver.find_element_by_xpath('//*[@id=\"downloadfrm\"]/div/div/div[2]/div[2]/dl/dd[1]/a')\n",
    "        album_ary.append(album.text)\n",
    "    \n",
    "        date=driver.find_element_by_xpath('//*[@id=\"downloadfrm\"]/div/div/div[2]/div[2]/dl/dd[2]')\n",
    "        date_ary.append(date.text)\n",
    "    \n",
    "        genre=driver.find_element_by_xpath('//*[@id=\"downloadfrm\"]/div/div/div[2]/div[2]/dl/dd[3]')\n",
    "        genre_ary.append(genre.text)\n",
    "        \n",
    "        # 가사,작사,작곡이 없는경우가 있어 예외처리\n",
    "        try:\n",
    "            lyricist=driver.find_element_by_xpath('//*[@id=\"conts\"]/div[3]/ul/li[1]/div[2]/div[1]/a')\n",
    "            lyricist_ary.append(lyricist.text)\n",
    "        except:\n",
    "            lyricist_ary.append('NULL')\n",
    "        \n",
    "        try:\n",
    "            composer=driver.find_element_by_xpath('//*[@id=\"conts\"]/div[3]/ul/li[2]/div[2]/div[1]/a')\n",
    "            composer_ary.append(composer.text)\n",
    "        except:\n",
    "            composer_ary.append('NULL')\n",
    "        \n",
    "        try:\n",
    "            lyrics=driver.find_element_by_xpath('//*[@id=\"d_video_summary\"]')\n",
    "            lyrics_ary.append(lyrics.text.replace('\\n',' '))\n",
    "        except:\n",
    "            lyrics_ary.append('NULL')\n",
    "            \n",
    "        driver.back() #뒤로가기 ->다시 곡 목록으로 이동\n",
    "    \n",
    "    \n",
    "    \n",
    "    \n",
    "    \n",
    "    \n",
    "    \n",
    "    \n",
    "    "
   ]
  },
  {
   "cell_type": "code",
   "execution_count": 21,
   "metadata": {
    "scrolled": true
   },
   "outputs": [],
   "source": [
    "for i in singer_id:\n",
    "   search(i,10)\n",
    "\n"
   ]
  },
  {
   "cell_type": "code",
   "execution_count": 22,
   "metadata": {},
   "outputs": [],
   "source": [
    "import pandas as pd\n",
    "df=pd.DataFrame({\"년도\":date_ary,\"가수\":singer_ary,\"제목\":title_ary,\"앨범\":album_ary,\"장르\":genre_ary,\n",
    "             \"작사가\":composer_ary,\"작곡가\":lyricist_ary,\"가사\":lyrics_ary})"
   ]
  },
  {
   "cell_type": "code",
   "execution_count": 23,
   "metadata": {
    "scrolled": true
   },
   "outputs": [
    {
     "name": "stdout",
     "output_type": "stream",
     "text": [
      "             년도      가수                      제목                       앨범  장르  \\\n",
      "0       1998.11  S.E.S.                  너를 사랑해                 S.E.S. 2  댄스   \n",
      "1    2001.07.11  S.E.S.   꿈을 모아서 (Just In Love)                 Surprise  댄스   \n",
      "2       1998.11  S.E.S.        Dreams Come True                 S.E.S. 2  댄스   \n",
      "3    1997.11.01  S.E.S.  (`Cause) I`m Your Girl                   S.E.S.  댄스   \n",
      "4    2002.02.15  S.E.S.                     달리기         Choose My Life-U  댄스   \n",
      "..          ...     ...                     ...                      ...  ..   \n",
      "135  1999.05.01     티티마             Smile Again               In The Sea  댄스   \n",
      "136  1999.05.01     티티마                   Loner               In The Sea  댄스   \n",
      "137  2000.06.15     티티마                 Delight            Iwannabe.....  댄스   \n",
      "138  1999.05.01     티티마              Come To Me               In The Sea  댄스   \n",
      "139  2007.12.13     티티마                   메리 메리  ComeBack With Christmas  댄스   \n",
      "\n",
      "               작사가                작곡가  \\\n",
      "0              최수정                최수정   \n",
      "1    Shimano Momoe             S.E.S.   \n",
      "2             NULL               NULL   \n",
      "3              유영진                유영진   \n",
      "4               윤상                박창학   \n",
      "..             ...                ...   \n",
      "135            최규성                유유진   \n",
      "136            신명호  박선주 (Pak Sun Zoo)   \n",
      "137            이상준                이상호   \n",
      "138            이윤상                이현규   \n",
      "139            은종태                신익수   \n",
      "\n",
      "                                                    가사  \n",
      "0    너를 사랑해 나의 마음이 Oh 너를 생각할 수록 나는 행복해 다른 누구도 난 부럽지...  \n",
      "1    그대에게 줄게요 나의 모든 사랑을 세상에서 오직 하나뿐인 당신을 위해서 당신에게 줄...  \n",
      "2    내가 원하는 대로 자신 있는 모습 그대로 이제껏 숨겨 왔던 비밀을 네게 모두 말하고...  \n",
      "3    Yeah what's up what's up SES We open up the ne...  \n",
      "4    지겨운가요 힘든가요 숨이 턱까지 찼나요 할수없죠 어차피 시작해 버린것을 쏟아지는 햇...  \n",
      "..                                                 ...  \n",
      "135  이렇게 될 줄은 몰랐어 니 마음 다치게 한거니 친구 이상 아니라 말했던 내 얘기 너...  \n",
      "136  어떤 얘길 들은건지 잘은 모르지만 너까지 이럴수 있니 다들 서롤 외면해도 우린 달랐...  \n",
      "137  If you were my sky then i'd be your cloud Even...  \n",
      "138  누가 너를 내곁에서 뺏어 갔는지 난 너없이는 한순간도 살아갈 자신조차 없는데 내 가...  \n",
      "139  하얗게 내리는 저 하늘에 눈속에 우리 소중한 기억이 고요한 종소리 작은 꿈을 담아서...  \n",
      "\n",
      "[140 rows x 8 columns]\n"
     ]
    }
   ],
   "source": [
    "print(df)"
   ]
  },
  {
   "cell_type": "code",
   "execution_count": 24,
   "metadata": {},
   "outputs": [],
   "source": [
    "df.to_csv('k-pop_2.tsv',index=False,header=None,sep='\\t') #tsv파일로 저장"
   ]
  },
  {
   "cell_type": "code",
   "execution_count": null,
   "metadata": {},
   "outputs": [],
   "source": []
  },
  {
   "cell_type": "code",
   "execution_count": null,
   "metadata": {},
   "outputs": [],
   "source": []
  }
 ],
 "metadata": {
  "kernelspec": {
   "display_name": "Python 3",
   "language": "python",
   "name": "python3"
  },
  "language_info": {
   "codemirror_mode": {
    "name": "ipython",
    "version": 3
   },
   "file_extension": ".py",
   "mimetype": "text/x-python",
   "name": "python",
   "nbconvert_exporter": "python",
   "pygments_lexer": "ipython3",
   "version": "3.7.6"
  }
 },
 "nbformat": 4,
 "nbformat_minor": 4
}
