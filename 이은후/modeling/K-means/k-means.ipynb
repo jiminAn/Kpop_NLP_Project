{
 "cells": [
  {
   "cell_type": "code",
   "execution_count": 1,
   "metadata": {},
   "outputs": [],
   "source": [
    "import pandas as pd\n",
    "data=pd.read_csv('data_usable.tsv', sep='\\t', encoding = 'utf-8')"
   ]
  },
  {
   "cell_type": "code",
   "execution_count": 2,
   "metadata": {},
   "outputs": [
    {
     "data": {
      "text/html": [
       "<div>\n",
       "<style scoped>\n",
       "    .dataframe tbody tr th:only-of-type {\n",
       "        vertical-align: middle;\n",
       "    }\n",
       "\n",
       "    .dataframe tbody tr th {\n",
       "        vertical-align: top;\n",
       "    }\n",
       "\n",
       "    .dataframe thead th {\n",
       "        text-align: right;\n",
       "    }\n",
       "</style>\n",
       "<table border=\"1\" class=\"dataframe\">\n",
       "  <thead>\n",
       "    <tr style=\"text-align: right;\">\n",
       "      <th></th>\n",
       "      <th>년도</th>\n",
       "      <th>가수</th>\n",
       "      <th>제목</th>\n",
       "      <th>장르</th>\n",
       "      <th>가사</th>\n",
       "    </tr>\n",
       "  </thead>\n",
       "  <tbody>\n",
       "    <tr>\n",
       "      <th>0</th>\n",
       "      <td>19920000</td>\n",
       "      <td>잼</td>\n",
       "      <td>난 멈추지 않는다</td>\n",
       "      <td>댄스</td>\n",
       "      <td>['이제', '다시', '시작', '내겐', '시간', '있다', '때론', '상처...</td>\n",
       "    </tr>\n",
       "    <tr>\n",
       "      <th>1</th>\n",
       "      <td>19920000</td>\n",
       "      <td>잼</td>\n",
       "      <td>우리 모두 사랑하자</td>\n",
       "      <td>댄스</td>\n",
       "      <td>['모두', '사랑', '우리', '젊다', '모두', '가볍다', '스텝', '그...</td>\n",
       "    </tr>\n",
       "    <tr>\n",
       "      <th>2</th>\n",
       "      <td>19920000</td>\n",
       "      <td>잼</td>\n",
       "      <td>이유</td>\n",
       "      <td>발라드</td>\n",
       "      <td>['어둠', '이제', '우리', '시간', '가슴속', '긴머리', '향기', '...</td>\n",
       "    </tr>\n",
       "    <tr>\n",
       "      <th>3</th>\n",
       "      <td>19920000</td>\n",
       "      <td>잼</td>\n",
       "      <td>18번가의 비밀</td>\n",
       "      <td>댄스</td>\n",
       "      <td>['끝없다', '어둠', '있다', '야릇하다', '느낌', '거리', '싸늘하다'...</td>\n",
       "    </tr>\n",
       "    <tr>\n",
       "      <th>4</th>\n",
       "      <td>19920000</td>\n",
       "      <td>잼</td>\n",
       "      <td>요즘 친구들</td>\n",
       "      <td>댄스</td>\n",
       "      <td>['요즘', '친구', '정말', '진정하다', '친구', '말로', '자기', '...</td>\n",
       "    </tr>\n",
       "  </tbody>\n",
       "</table>\n",
       "</div>"
      ],
      "text/plain": [
       "         년도 가수          제목   장르  \\\n",
       "0  19920000  잼   난 멈추지 않는다   댄스   \n",
       "1  19920000  잼  우리 모두 사랑하자   댄스   \n",
       "2  19920000  잼          이유  발라드   \n",
       "3  19920000  잼    18번가의 비밀   댄스   \n",
       "4  19920000  잼      요즘 친구들   댄스   \n",
       "\n",
       "                                                  가사  \n",
       "0  ['이제', '다시', '시작', '내겐', '시간', '있다', '때론', '상처...  \n",
       "1  ['모두', '사랑', '우리', '젊다', '모두', '가볍다', '스텝', '그...  \n",
       "2  ['어둠', '이제', '우리', '시간', '가슴속', '긴머리', '향기', '...  \n",
       "3  ['끝없다', '어둠', '있다', '야릇하다', '느낌', '거리', '싸늘하다'...  \n",
       "4  ['요즘', '친구', '정말', '진정하다', '친구', '말로', '자기', '...  "
      ]
     },
     "execution_count": 2,
     "metadata": {},
     "output_type": "execute_result"
    }
   ],
   "source": [
    "data.head()"
   ]
  },
  {
   "cell_type": "code",
   "execution_count": 3,
   "metadata": {},
   "outputs": [
    {
     "name": "stdout",
     "output_type": "stream",
     "text": [
      "5768\n"
     ]
    },
    {
     "data": {
      "text/plain": [
       "0    ['이제', '다시', '시작', '내겐', '시간', '있다', '때론', '상처...\n",
       "1    ['모두', '사랑', '우리', '젊다', '모두', '가볍다', '스텝', '그...\n",
       "2    ['어둠', '이제', '우리', '시간', '가슴속', '긴머리', '향기', '...\n",
       "3    ['끝없다', '어둠', '있다', '야릇하다', '느낌', '거리', '싸늘하다'...\n",
       "4    ['요즘', '친구', '정말', '진정하다', '친구', '말로', '자기', '...\n",
       "Name: 가사, dtype: object"
      ]
     },
     "execution_count": 3,
     "metadata": {},
     "output_type": "execute_result"
    }
   ],
   "source": [
    "lyric = data['가사']\n",
    "print(len(lyric))\n",
    "lyric.head()"
   ]
  },
  {
   "cell_type": "code",
   "execution_count": 4,
   "metadata": {},
   "outputs": [],
   "source": [
    "from sklearn.feature_extraction.text import TfidfVectorizer, CountVectorizer\n",
    "from sklearn.cluster import KMeans"
   ]
  },
  {
   "cell_type": "code",
   "execution_count": 5,
   "metadata": {},
   "outputs": [
    {
     "name": "stdout",
     "output_type": "stream",
     "text": [
      "  (0, 13603)\t0.322534038242017\n",
      "  (0, 14148)\t0.14077648147270763\n",
      "  (0, 13326)\t0.1734577052149147\n",
      "  (0, 12624)\t0.41652046805424914\n",
      "  (0, 12881)\t0.05620863636414413\n",
      "  (0, 15751)\t0.28670904660700375\n",
      "  (0, 18406)\t0.0891027056299354\n",
      "  (0, 13530)\t0.2798420930690423\n",
      "  (0, 7695)\t0.11030092094181741\n",
      "  (0, 15557)\t0.17184046671994846\n",
      "  (0, 11618)\t0.09000376163889798\n",
      "  (0, 8827)\t0.11525223005300812\n",
      "  (0, 14880)\t0.10358086730971727\n",
      "  (0, 12471)\t0.16742268758364423\n",
      "  (0, 7738)\t0.2669769247232656\n",
      "  (0, 12552)\t0.4025762257051192\n",
      "  (0, 8097)\t0.2958852275364355\n",
      "  (0, 14671)\t0.2797027248956403\n",
      "  (1, 7443)\t0.09932935582836909\n",
      "  (1, 18545)\t0.045001254688281075\n",
      "  (1, 6911)\t0.04467184400663416\n",
      "  (1, 12105)\t0.05524856637890383\n",
      "  (1, 16509)\t0.047633855805237046\n",
      "  (1, 7114)\t0.028690199316229632\n",
      "  (1, 15877)\t0.1678990879592762\n",
      "  :\t:\n",
      "  (5767, 3510)\t0.10230729441010257\n",
      "  (5767, 15281)\t0.18240244190535537\n",
      "  (5767, 2279)\t0.06046440976042364\n",
      "  (5767, 10778)\t0.12176726353610712\n",
      "  (5767, 5996)\t0.18965936840082367\n",
      "  (5767, 4797)\t0.10627219828939873\n",
      "  (5767, 9996)\t0.04616307904460805\n",
      "  (5767, 12606)\t0.04463804360205137\n",
      "  (5767, 17497)\t0.08289825065974751\n",
      "  (5767, 2075)\t0.10691028941443226\n",
      "  (5767, 17515)\t0.12670873159361842\n",
      "  (5767, 6517)\t0.09596053348854792\n",
      "  (5767, 14905)\t0.2754754927379343\n",
      "  (5767, 7949)\t0.033744176547346565\n",
      "  (5767, 7217)\t0.03734297694367828\n",
      "  (5767, 15721)\t0.14681540948535382\n",
      "  (5767, 7987)\t0.04768835456450151\n",
      "  (5767, 14302)\t0.05348922012386782\n",
      "  (5767, 8950)\t0.03919226641561486\n",
      "  (5767, 13354)\t0.027753737303158957\n",
      "  (5767, 7114)\t0.019178843998723587\n",
      "  (5767, 14572)\t0.02430534595368045\n",
      "  (5767, 11391)\t0.03092385397665321\n",
      "  (5767, 9708)\t0.04608142534613268\n",
      "  (5767, 13530)\t0.01300545444934001\n"
     ]
    }
   ],
   "source": [
    "#TF-IDF vectorizer\n",
    "tfv = TfidfVectorizer()\n",
    "#transform\n",
    "vec_text = tfv.fit_transform(lyric)\n",
    "print(vec_text)"
   ]
  },
  {
   "cell_type": "code",
   "execution_count": 6,
   "metadata": {},
   "outputs": [
    {
     "name": "stdout",
     "output_type": "stream",
     "text": [
      "18556\n"
     ]
    },
    {
     "data": {
      "text/plain": [
       "array([8.56164175, 7.86849457, 8.96710685, ..., 6.66452176, 8.96710685,\n",
       "       8.96710685])"
      ]
     },
     "execution_count": 6,
     "metadata": {},
     "output_type": "execute_result"
    }
   ],
   "source": [
    "print(len(tfv.idf_))\n",
    "tfv.idf_"
   ]
  },
  {
   "cell_type": "code",
   "execution_count": 14,
   "metadata": {},
   "outputs": [],
   "source": [
    "words = tfv.get_feature_names()"
   ]
  },
  {
   "cell_type": "code",
   "execution_count": 8,
   "metadata": {},
   "outputs": [
    {
     "data": {
      "image/png": "[encoded data removed]",
      "text/plain": [
       "<Figure size 432x288 with 1 Axes>"
      ]
     },
     "metadata": {
      "needs_background": "light"
     },
     "output_type": "display_data"
    }
   ],
   "source": [
    "import matplotlib.pyplot as plt\n",
    "%matplotlib inline\n",
    "\n",
    "def elbow(x):\n",
    "    sse=[]\n",
    "    for i in range(3,11):\n",
    "        kmeans = KMeans(n_clusters = i, init='k-means++', random_state=0)\n",
    "        kmeans.fit(vec_text)\n",
    "        sse.append(kmeans.inertia_)\n",
    "    \n",
    "    plt.plot(range(3,11), sse, marker='o')\n",
    "    plt.xlabel('cluster')\n",
    "    plt.ylabel('sse')\n",
    "    plt.show()\n",
    "        \n",
    "elbow(vec_text)"
   ]
  },
  {
   "cell_type": "code",
   "execution_count": 9,
   "metadata": {},
   "outputs": [],
   "source": [
    "#setup kmeans clustering\n",
    "kmeans = KMeans(n_clusters = 8, init='k-means++', random_state=0)\n",
    "#fit the data \n",
    "kmeans = kmeans.fit(vec_text)"
   ]
  },
  {
   "cell_type": "code",
   "execution_count": 10,
   "metadata": {},
   "outputs": [
    {
     "name": "stdout",
     "output_type": "stream",
     "text": [
      "[2 0 2 ... 4 2 4]\n",
      "5768\n"
     ]
    }
   ],
   "source": [
    "labels=kmeans.labels_\n",
    "print(labels)\n",
    "print(len(labels))"
   ]
  },
  {
   "cell_type": "code",
   "execution_count": 11,
   "metadata": {},
   "outputs": [],
   "source": [
    "clustered=pd.DataFrame(list(zip(data['가수'],data['제목'],labels)),columns=['singer','title','cluster'])"
   ]
  },
  {
   "cell_type": "code",
   "execution_count": 12,
   "metadata": {},
   "outputs": [
    {
     "data": {
      "text/html": [
       "<div>\n",
       "<style scoped>\n",
       "    .dataframe tbody tr th:only-of-type {\n",
       "        vertical-align: middle;\n",
       "    }\n",
       "\n",
       "    .dataframe tbody tr th {\n",
       "        vertical-align: top;\n",
       "    }\n",
       "\n",
       "    .dataframe thead th {\n",
       "        text-align: right;\n",
       "    }\n",
       "</style>\n",
       "<table border=\"1\" class=\"dataframe\">\n",
       "  <thead>\n",
       "    <tr style=\"text-align: right;\">\n",
       "      <th></th>\n",
       "      <th>singer</th>\n",
       "      <th>title</th>\n",
       "      <th>cluster</th>\n",
       "    </tr>\n",
       "  </thead>\n",
       "  <tbody>\n",
       "    <tr>\n",
       "      <th>0</th>\n",
       "      <td>잼</td>\n",
       "      <td>난 멈추지 않는다</td>\n",
       "      <td>2</td>\n",
       "    </tr>\n",
       "    <tr>\n",
       "      <th>1</th>\n",
       "      <td>잼</td>\n",
       "      <td>우리 모두 사랑하자</td>\n",
       "      <td>0</td>\n",
       "    </tr>\n",
       "    <tr>\n",
       "      <th>2</th>\n",
       "      <td>잼</td>\n",
       "      <td>이유</td>\n",
       "      <td>2</td>\n",
       "    </tr>\n",
       "    <tr>\n",
       "      <th>3</th>\n",
       "      <td>잼</td>\n",
       "      <td>18번가의 비밀</td>\n",
       "      <td>4</td>\n",
       "    </tr>\n",
       "    <tr>\n",
       "      <th>4</th>\n",
       "      <td>잼</td>\n",
       "      <td>요즘 친구들</td>\n",
       "      <td>2</td>\n",
       "    </tr>\n",
       "    <tr>\n",
       "      <th>...</th>\n",
       "      <td>...</td>\n",
       "      <td>...</td>\n",
       "      <td>...</td>\n",
       "    </tr>\n",
       "    <tr>\n",
       "      <th>5763</th>\n",
       "      <td>업텐션 (UP10TION)</td>\n",
       "      <td>니가 보여 (Waiting For You)</td>\n",
       "      <td>2</td>\n",
       "    </tr>\n",
       "    <tr>\n",
       "      <th>5764</th>\n",
       "      <td>업텐션 (UP10TION)</td>\n",
       "      <td>빈집 (텅) (Empty House)</td>\n",
       "      <td>2</td>\n",
       "    </tr>\n",
       "    <tr>\n",
       "      <th>5765</th>\n",
       "      <td>엔플라잉 (N.Flying)</td>\n",
       "      <td>From You</td>\n",
       "      <td>4</td>\n",
       "    </tr>\n",
       "    <tr>\n",
       "      <th>5766</th>\n",
       "      <td>BLACKPINK</td>\n",
       "      <td>Lovesick Girls</td>\n",
       "      <td>2</td>\n",
       "    </tr>\n",
       "    <tr>\n",
       "      <th>5767</th>\n",
       "      <td>환불원정대</td>\n",
       "      <td>DON'T TOUCH ME</td>\n",
       "      <td>4</td>\n",
       "    </tr>\n",
       "  </tbody>\n",
       "</table>\n",
       "<p>5768 rows × 3 columns</p>\n",
       "</div>"
      ],
      "text/plain": [
       "               singer                    title  cluster\n",
       "0                   잼                난 멈추지 않는다        2\n",
       "1                   잼               우리 모두 사랑하자        0\n",
       "2                   잼                       이유        2\n",
       "3                   잼                 18번가의 비밀        4\n",
       "4                   잼                   요즘 친구들        2\n",
       "...               ...                      ...      ...\n",
       "5763   업텐션 (UP10TION)  니가 보여 (Waiting For You)        2\n",
       "5764   업텐션 (UP10TION)     빈집 (텅) (Empty House)        2\n",
       "5765  엔플라잉 (N.Flying)                 From You        4\n",
       "5766        BLACKPINK           Lovesick Girls        2\n",
       "5767            환불원정대           DON'T TOUCH ME        4\n",
       "\n",
       "[5768 rows x 3 columns]"
      ]
     },
     "execution_count": 12,
     "metadata": {},
     "output_type": "execute_result"
    }
   ],
   "source": [
    "clustered"
   ]
  },
  {
   "cell_type": "code",
   "execution_count": 15,
   "metadata": {},
   "outputs": [
    {
     "name": "stdout",
     "output_type": "stream",
     "text": [
      "0 : 그대, 사랑, 있다, 없다, 마음, 영원하다, 아프다, 눈물, 사람, 같다\n",
      "1 : la, movin, city, 우연이, high, dna, wow, yeah, ah, take\n",
      "2 : 있다, 없다, 사랑, 다시, 기억, 같다, 그렇다, 시간, 눈물, 마음\n",
      "3 : girl, baby, good, 사랑, oh, 없다, beautiful, 있다, my, sorry\n",
      "4 : baby, 없다, 있다, 사랑, 같다, yeah, oh, 좋다, 그렇다, hey\n",
      "5 : 사랑, 없다, 사람, 아프다, 있다, 눈물, 가슴, 다시, 이별, 아니다\n",
      "6 : oh, baby, yeah, 없다, 있다, boy, 같다, ah, eh, no\n",
      "7 : love, 사랑, my, baby, 있다, 없다, 같다, 마음, heart, hey\n"
     ]
    }
   ],
   "source": [
    "common_words = kmeans.cluster_centers_.argsort()[:,-1:-11:-1]\n",
    "for num, centroid in enumerate(common_words):\n",
    "    print(str(num) + ' : ' + ', '.join(words[word] for word in centroid))"
   ]
  },
  {
   "cell_type": "code",
   "execution_count": 16,
   "metadata": {},
   "outputs": [
    {
     "data": {
      "text/html": [
       "<div>\n",
       "<style scoped>\n",
       "    .dataframe tbody tr th:only-of-type {\n",
       "        vertical-align: middle;\n",
       "    }\n",
       "\n",
       "    .dataframe tbody tr th {\n",
       "        vertical-align: top;\n",
       "    }\n",
       "\n",
       "    .dataframe thead th {\n",
       "        text-align: right;\n",
       "    }\n",
       "</style>\n",
       "<table border=\"1\" class=\"dataframe\">\n",
       "  <thead>\n",
       "    <tr style=\"text-align: right;\">\n",
       "      <th></th>\n",
       "      <th>singer</th>\n",
       "      <th>title</th>\n",
       "    </tr>\n",
       "    <tr>\n",
       "      <th>cluster</th>\n",
       "      <th></th>\n",
       "      <th></th>\n",
       "    </tr>\n",
       "  </thead>\n",
       "  <tbody>\n",
       "    <tr>\n",
       "      <th>0</th>\n",
       "      <td>296</td>\n",
       "      <td>296</td>\n",
       "    </tr>\n",
       "    <tr>\n",
       "      <th>1</th>\n",
       "      <td>57</td>\n",
       "      <td>57</td>\n",
       "    </tr>\n",
       "    <tr>\n",
       "      <th>2</th>\n",
       "      <td>1342</td>\n",
       "      <td>1342</td>\n",
       "    </tr>\n",
       "    <tr>\n",
       "      <th>3</th>\n",
       "      <td>113</td>\n",
       "      <td>113</td>\n",
       "    </tr>\n",
       "    <tr>\n",
       "      <th>4</th>\n",
       "      <td>2894</td>\n",
       "      <td>2894</td>\n",
       "    </tr>\n",
       "    <tr>\n",
       "      <th>5</th>\n",
       "      <td>636</td>\n",
       "      <td>636</td>\n",
       "    </tr>\n",
       "    <tr>\n",
       "      <th>6</th>\n",
       "      <td>214</td>\n",
       "      <td>214</td>\n",
       "    </tr>\n",
       "    <tr>\n",
       "      <th>7</th>\n",
       "      <td>216</td>\n",
       "      <td>216</td>\n",
       "    </tr>\n",
       "  </tbody>\n",
       "</table>\n",
       "</div>"
      ],
      "text/plain": [
       "         singer  title\n",
       "cluster               \n",
       "0           296    296\n",
       "1            57     57\n",
       "2          1342   1342\n",
       "3           113    113\n",
       "4          2894   2894\n",
       "5           636    636\n",
       "6           214    214\n",
       "7           216    216"
      ]
     },
     "execution_count": 16,
     "metadata": {},
     "output_type": "execute_result"
    }
   ],
   "source": [
    "clustered.groupby('cluster').count()"
   ]
  },
  {
   "cell_type": "code",
   "execution_count": 17,
   "metadata": {},
   "outputs": [
    {
     "data": {
      "text/plain": [
       "array([[0.00000000e+00, 0.00000000e+00, 0.00000000e+00, ...,\n",
       "        0.00000000e+00, 0.00000000e+00, 0.00000000e+00],\n",
       "       [0.00000000e+00, 0.00000000e+00, 0.00000000e+00, ...,\n",
       "        0.00000000e+00, 0.00000000e+00, 0.00000000e+00],\n",
       "       [0.00000000e+00, 0.00000000e+00, 0.00000000e+00, ...,\n",
       "        5.64799409e-05, 0.00000000e+00, 0.00000000e+00],\n",
       "       ...,\n",
       "       [0.00000000e+00, 0.00000000e+00, 0.00000000e+00, ...,\n",
       "        0.00000000e+00, 0.00000000e+00, 0.00000000e+00],\n",
       "       [6.01510628e-04, 1.62061989e-03, 1.07009000e-03, ...,\n",
       "        0.00000000e+00, 0.00000000e+00, 0.00000000e+00],\n",
       "       [0.00000000e+00, 0.00000000e+00, 0.00000000e+00, ...,\n",
       "        0.00000000e+00, 3.70818071e-04, 1.23606024e-04]])"
      ]
     },
     "execution_count": 17,
     "metadata": {},
     "output_type": "execute_result"
    }
   ],
   "source": [
    "kmeans.cluster_centers_"
   ]
  },
  {
   "cell_type": "code",
   "execution_count": null,
   "metadata": {},
   "outputs": [],
   "source": []
  }
 ],
 "metadata": {
  "kernelspec": {
   "display_name": "eunhoo",
   "language": "python",
   "name": "eunhoo"
  },
  "language_info": {
   "codemirror_mode": {
    "name": "ipython",
    "version": 3
   },
   "file_extension": ".py",
   "mimetype": "text/x-python",
   "name": "python",
   "nbconvert_exporter": "python",
   "pygments_lexer": "ipython3",
   "version": "3.7.9"
  }
 },
 "nbformat": 4,
 "nbformat_minor": 4
}
